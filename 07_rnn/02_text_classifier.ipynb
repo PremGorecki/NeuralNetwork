{
  "nbformat": 4,
  "nbformat_minor": 0,
  "metadata": {
    "colab": {
      "provenance": [],
      "authorship_tag": "ABX9TyPNjP5TdDfGAXSc0LhYxU5x",
      "include_colab_link": true
    },
    "kernelspec": {
      "name": "python3",
      "display_name": "Python 3"
    },
    "language_info": {
      "name": "python"
    }
  },
  "cells": [
    {
      "cell_type": "markdown",
      "metadata": {
        "id": "view-in-github",
        "colab_type": "text"
      },
      "source": [
        "<a href=\"https://colab.research.google.com/github/PremGorecki/NeuralNetwork/blob/main/07_rnn/02_text_classifier.ipynb\" target=\"_parent\"><img src=\"https://colab.research.google.com/assets/colab-badge.svg\" alt=\"Open In Colab\"/></a>"
      ]
    },
    {
      "cell_type": "code",
      "execution_count": 1,
      "metadata": {
        "id": "qkBWmK8Z_FSS"
      },
      "outputs": [],
      "source": [
        "import numpy as np\n",
        "import os\n",
        "\n",
        "from tensorflow.keras.preprocessing.text import Tokenizer\n",
        "from tensorflow.keras.preprocessing.sequence import pad_sequences\n",
        "from tensorflow.keras.models import Sequential\n",
        "from tensorflow.keras.layers import Dense, Embedding, Flatten"
      ]
    },
    {
      "cell_type": "code",
      "source": [
        "!wget https://storage.googleapis.com/esmartdata-courses-files/ann-course/reviews.zip\n",
        "!unzip -q reviews.zip"
      ],
      "metadata": {
        "id": "_0NM9qBD_TLo"
      },
      "execution_count": null,
      "outputs": []
    },
    {
      "cell_type": "code",
      "source": [
        "data_dir = './reviews'\n",
        "train_dir = os.path.join(data_dir, 'train')\n",
        "\n",
        "train_texts = []\n",
        "train_labels = []\n",
        "\n",
        "for label_type in ['neg', 'pos']:\n",
        "    dir_name = os.path.join(train_dir, label_type)\n",
        "    for fname in os.listdir(dir_name):\n",
        "        if fname[-4:] == '.txt':\n",
        "            f = open(os.path.join(dir_name, fname))\n",
        "            train_texts.append(f.read())\n",
        "            f.close()\n",
        "            if label_type == 'neg':\n",
        "                train_labels.append(0)\n",
        "            else:\n",
        "                train_labels.append(1)"
      ],
      "metadata": {
        "id": "5HEoTGSn_a5I"
      },
      "execution_count": 3,
      "outputs": []
    },
    {
      "cell_type": "code",
      "source": [
        "test_dir = os.path.join(data_dir, 'test')\n",
        "\n",
        "test_texts = []\n",
        "test_labels = []\n",
        "\n",
        "for label_type in ['neg', 'pos']:\n",
        "    dir_name = os.path.join(test_dir, label_type)\n",
        "    for fname in os.listdir(dir_name):\n",
        "        if fname[-4:] == '.txt':\n",
        "            f = open(os.path.join(dir_name, fname))\n",
        "            test_texts.append(f.read())\n",
        "            f.close()\n",
        "            if label_type == 'neg':\n",
        "                test_labels.append(0)\n",
        "            else:\n",
        "                test_labels.append(1)"
      ],
      "metadata": {
        "id": "65Ba8vvr_zII"
      },
      "execution_count": 4,
      "outputs": []
    },
    {
      "cell_type": "code",
      "source": [
        "train_texts[:10]"
      ],
      "metadata": {
        "id": "uK8XFTyK_1V5"
      },
      "execution_count": null,
      "outputs": []
    },
    {
      "cell_type": "code",
      "source": [
        "train_labels[:10]"
      ],
      "metadata": {
        "id": "F6g5q4ah_66i"
      },
      "execution_count": null,
      "outputs": []
    },
    {
      "cell_type": "code",
      "source": [
        "maxlen = 100   # skracamy recenzje do 100 słów\n",
        "num_words = 10000    # 10000 najczęściej pojawiających się słów\n",
        "embedding_dim = 100\n",
        "\n",
        "tokenizer = Tokenizer(num_words=num_words)\n",
        "tokenizer.fit_on_texts(train_texts)"
      ],
      "metadata": {
        "id": "oTGD5urtAH3w"
      },
      "execution_count": 7,
      "outputs": []
    },
    {
      "cell_type": "code",
      "source": [
        "list(tokenizer.index_word.items())[:20]"
      ],
      "metadata": {
        "id": "jSAZARJWAQ7o"
      },
      "execution_count": null,
      "outputs": []
    },
    {
      "cell_type": "code",
      "source": [
        "#kodujemy recenzje\n",
        "sequences = tokenizer.texts_to_sequences(train_texts)\n",
        "print(sequences[:3])"
      ],
      "metadata": {
        "id": "Ylg3DeKnAaDJ"
      },
      "execution_count": null,
      "outputs": []
    },
    {
      "cell_type": "code",
      "source": [
        "word_index = tokenizer.word_index\n",
        "print(f'{len(word_index)} unikatowych słów.')"
      ],
      "metadata": {
        "id": "2nETMVLhAgwR"
      },
      "execution_count": null,
      "outputs": []
    },
    {
      "cell_type": "code",
      "source": [
        "# skracamy recenzje do pierwszych 100 słów\n",
        "train_data = pad_sequences(sequences, maxlen=maxlen)\n",
        "train_data.shape"
      ],
      "metadata": {
        "id": "0XeJ2V4dAyzA"
      },
      "execution_count": null,
      "outputs": []
    },
    {
      "cell_type": "code",
      "source": [
        "train_data[:3]"
      ],
      "metadata": {
        "id": "ABR-DqX0A1HS"
      },
      "execution_count": null,
      "outputs": []
    },
    {
      "cell_type": "code",
      "source": [
        "train_labels = np.asarray(train_labels)\n",
        "train_labels"
      ],
      "metadata": {
        "id": "RQ0M6eU4A4mw",
        "outputId": "ded257b9-cf19-4911-9e1b-9a018915fb4e",
        "colab": {
          "base_uri": "https://localhost:8080/"
        }
      },
      "execution_count": 13,
      "outputs": [
        {
          "output_type": "execute_result",
          "data": {
            "text/plain": [
              "array([0, 0, 0, ..., 1, 1, 1])"
            ]
          },
          "metadata": {},
          "execution_count": 13
        }
      ]
    },
    {
      "cell_type": "code",
      "source": [
        "# przemieszanie próbek\n",
        "indices = np.arange(train_data.shape[0])\n",
        "np.random.shuffle(indices)\n",
        "train_data = train_data[indices]\n",
        "train_labels = train_labels[indices]\n",
        "\n",
        "train_data.shape"
      ],
      "metadata": {
        "id": "UZySegTeBDLg"
      },
      "execution_count": null,
      "outputs": []
    },
    {
      "cell_type": "code",
      "source": [
        "# podział na zbiór treningowy i walidacyjny\n",
        "training_samples = 15000\n",
        "validation_samples = 10000\n",
        "\n",
        "X_train = train_data[:training_samples]\n",
        "y_train = train_labels[:training_samples]\n",
        "X_val = train_data[training_samples: training_samples + validation_samples]\n",
        "y_val = train_labels[training_samples: training_samples + validation_samples]"
      ],
      "metadata": {
        "id": "MjbJRx4oBF_A"
      },
      "execution_count": 15,
      "outputs": []
    },
    {
      "cell_type": "code",
      "source": [
        "# budowa modelu\n",
        "# Embedding(input_dim, output_dim)\n",
        "\n",
        "model = Sequential()\n",
        "model.add(Embedding(num_words, embedding_dim, input_length=maxlen))\n",
        "model.add(Flatten())\n",
        "model.add(Dense(16, activation='relu'))\n",
        "model.add(Dense(1, activation='sigmoid'))\n",
        "model.summary()"
      ],
      "metadata": {
        "id": "EO0JUBIgBSXo"
      },
      "execution_count": null,
      "outputs": []
    },
    {
      "cell_type": "code",
      "source": [
        "model.compile(optimizer='rmsprop',\n",
        "              loss='binary_crossentropy',\n",
        "              metrics=['accuracy'])"
      ],
      "metadata": {
        "id": "1nfl-WQiBmhg"
      },
      "execution_count": 17,
      "outputs": []
    },
    {
      "cell_type": "code",
      "source": [
        "history = model.fit(X_train, y_train, batch_size=32, epochs=5, validation_data=(X_val, y_val))"
      ],
      "metadata": {
        "id": "9WLOGF0uBoZ4"
      },
      "execution_count": null,
      "outputs": []
    },
    {
      "cell_type": "code",
      "source": [
        "def plot_hist(history):\n",
        "    import pandas as pd\n",
        "    import plotly.graph_objects as go\n",
        "    hist = pd.DataFrame(history.history)\n",
        "    hist['epoch'] = history.epoch\n",
        "\n",
        "    fig = go.Figure()\n",
        "    fig.add_trace(go.Scatter(x=hist['epoch'], y=hist['accuracy'], name='accuracy', mode='markers+lines'))\n",
        "    fig.add_trace(go.Scatter(x=hist['epoch'], y=hist['val_accuracy'], name='val_accuracy', mode='markers+lines'))\n",
        "    fig.update_layout(width=1000, height=500, title='accuracy vs. val accuracy', xaxis_title='Epoki', yaxis_title='accuracy', yaxis_type='log')\n",
        "    fig.show()\n",
        "\n",
        "    fig = go.Figure()\n",
        "    fig.add_trace(go.Scatter(x=hist['epoch'], y=hist['loss'], name='loss', mode='markers+lines'))\n",
        "    fig.add_trace(go.Scatter(x=hist['epoch'], y=hist['val_loss'], name='val_loss', mode='markers+lines'))\n",
        "    fig.update_layout(width=1000, height=500, title='loss vs. val loss', xaxis_title='Epoki', yaxis_title='loss', yaxis_type='log')\n",
        "    fig.show()\n",
        "\n",
        "plot_hist(history)"
      ],
      "metadata": {
        "id": "Q0swoHGGB3rY"
      },
      "execution_count": null,
      "outputs": []
    },
    {
      "cell_type": "code",
      "source": [
        "sequences = tokenizer.texts_to_sequences(test_texts)\n",
        "X_test = pad_sequences(sequences, maxlen=maxlen)\n",
        "y_test = np.asarray(test_labels)\n",
        "\n",
        "model.evaluate(X_test, y_test, verbose=0)"
      ],
      "metadata": {
        "id": "of7J2TTUB8Vg"
      },
      "execution_count": null,
      "outputs": []
    }
  ]
}
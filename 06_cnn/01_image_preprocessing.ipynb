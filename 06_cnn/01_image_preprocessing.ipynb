{
  "nbformat": 4,
  "nbformat_minor": 0,
  "metadata": {
    "colab": {
      "provenance": [],
      "authorship_tag": "ABX9TyOMNcoMtVicxjB5etWpYZnX",
      "include_colab_link": true
    },
    "kernelspec": {
      "name": "python3",
      "display_name": "Python 3"
    },
    "language_info": {
      "name": "python"
    }
  },
  "cells": [
    {
      "cell_type": "markdown",
      "metadata": {
        "id": "view-in-github",
        "colab_type": "text"
      },
      "source": [
        "<a href=\"https://colab.research.google.com/github/PremGorecki/NeuralNetwork/blob/main/06_cnn/01_image_preprocessing.ipynb\" target=\"_parent\"><img src=\"https://colab.research.google.com/assets/colab-badge.svg\" alt=\"Open In Colab\"/></a>"
      ]
    },
    {
      "cell_type": "markdown",
      "source": [
        "**Image Preprocessing** - przygotowanie obrazów\n",
        "Augmentacja danych - technika pozwalająca na zwiększenie zbioru treningowego przez odpowiednie przekształcenia danych wejsciowych. Technika bardzo przydtna zwłaszcza gdy nie mamy wystarczającej ilości danych do wytrenowania sieci. W uczeniu głębokim im więcej posiadamy danych treningowych tym teoretycznie lepiej jesteśmy w stanie wytrenować sieć. Wykorzystamy tą technikę do trenowania problemów związanych z przetwarzaniem obrazu.\n",
        "\n",
        "Biblioteka Keras dostarcza narzędzia do augmentacji danych, które działają automatycznie podczas trenowania sieci. Możemy to zrobić dzięki klasie ImageDataGenerator."
      ],
      "metadata": {
        "id": "4BbrW6F46Snh"
      }
    },
    {
      "cell_type": "code",
      "execution_count": null,
      "metadata": {
        "id": "hw9bFuB_wxzY"
      },
      "outputs": [],
      "source": [
        "# %tensorflow_version 2.x\n",
        "import matplotlib.pyplot as plt\n",
        "from numpy import expand_dims\n",
        "\n",
        "from tensorflow.keras.preprocessing.image import load_img\n",
        "from tensorflow.keras.preprocessing.image import img_to_array\n",
        "from tensorflow.keras.preprocessing.image import ImageDataGenerato"
      ]
    },
    {
      "cell_type": "code",
      "source": [
        "img = load_img('dog.jpeg')\n",
        "img"
      ],
      "metadata": {
        "id": "iXzKWj7m6eTH"
      },
      "execution_count": null,
      "outputs": []
    },
    {
      "cell_type": "code",
      "source": [
        "datagen = ImageDataGenerator(width_shift_range=0.2,\n",
        "                             height_shift_range=0.2,\n",
        "                             rotation_range=30,\n",
        "                             brightness_range=[0.4, 1.5],\n",
        "                             shear_range=20,\n",
        "                             zoom_range=0.1,\n",
        "                             horizontal_flip=True)\n",
        "\n",
        "iterator = datagen.flow(samples, batch_size=1)\n",
        "\n",
        "plt.figure(figsize=(16, 8))\n",
        "for i in range(9):\n",
        "    plt.subplot(330 + i + 1)\n",
        "    batch = iterator.next()\n",
        "    image = batch[0].astype('uint8')\n",
        "    plt.imshow(image)\n",
        "plt.show()"
      ],
      "metadata": {
        "id": "6UXJiwuF6l2G"
      },
      "execution_count": null,
      "outputs": []
    }
  ]
}
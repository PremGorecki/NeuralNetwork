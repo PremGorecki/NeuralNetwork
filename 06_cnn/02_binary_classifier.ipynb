{
  "nbformat": 4,
  "nbformat_minor": 0,
  "metadata": {
    "colab": {
      "provenance": [],
      "authorship_tag": "ABX9TyMG6qAuT5ctXT5jOPH5Y3yh",
      "include_colab_link": true
    },
    "kernelspec": {
      "name": "python3",
      "display_name": "Python 3"
    },
    "language_info": {
      "name": "python"
    }
  },
  "cells": [
    {
      "cell_type": "markdown",
      "metadata": {
        "id": "view-in-github",
        "colab_type": "text"
      },
      "source": [
        "<a href=\"https://colab.research.google.com/github/PremGorecki/NeuralNetwork/blob/main/06_cnn/02_binary_classifier.ipynb\" target=\"_parent\"><img src=\"https://colab.research.google.com/assets/colab-badge.svg\" alt=\"Open In Colab\"/></a>"
      ]
    },
    {
      "cell_type": "markdown",
      "source": [
        "# Import bibliotek"
      ],
      "metadata": {
        "id": "OxI3mwyiKRfm"
      }
    },
    {
      "cell_type": "code",
      "execution_count": 1,
      "metadata": {
        "id": "vr8tk8Qk7HNh"
      },
      "outputs": [],
      "source": [
        "import os\n",
        "import numpy as np\n",
        "import pandas as pd\n",
        "import matplotlib.pyplot as plt\n",
        "import shutil\n",
        "import plotly.graph_objects as go\n",
        "from sklearn.metrics import confusion_matrix, classification_report\n",
        "\n",
        "from tensorflow.keras.preprocessing import image\n",
        "from tensorflow.keras.preprocessing.image import ImageDataGenerator\n",
        "from tensorflow.keras.models import Sequential\n",
        "from tensorflow.keras import layers\n",
        "from tensorflow.keras import optimizers\n",
        "from tensorflow.keras.callbacks import TensorBoard\n",
        "\n",
        "np.set_printoptions(precision=6, suppress=True)"
      ]
    },
    {
      "cell_type": "markdown",
      "source": [
        "# Załadowanie danych"
      ],
      "metadata": {
        "id": "9Ms7JD--KZ4M"
      }
    },
    {
      "cell_type": "code",
      "source": [
        "# odkomentować na czas ładowania i zakomentować\n",
        "#  !wget https://storage.googleapis.com/esmartdata-courses-files/ann-course/flying-vehicles.zip\n",
        "#  !unzip -q flying-vehicles.zip"
      ],
      "metadata": {
        "id": "Su_smUl3KbHs"
      },
      "execution_count": 7,
      "outputs": []
    },
    {
      "cell_type": "markdown",
      "source": [
        "Reszta tutaj \n",
        "\n",
        "https://github.com/krakowiakpawel9/neural-network-course/blob/master/06_cnn/02_binary_classifier.ipynb\n",
        "\n"
      ],
      "metadata": {
        "id": "nxxbGKKWLpul"
      }
    },
    {
      "cell_type": "code",
      "source": [
        "# VGG16 importujemy ten model\n",
        "\n",
        "from tensorflow.keras.applications import VGG16\n",
        "\n",
        "conv_base = VGG16(weights='imagenet', include_top=False, input_shape=(150, 150, 3))\n",
        "conv_base.summary()"
      ],
      "metadata": {
        "id": "lh4YA8BeSl-U"
      },
      "execution_count": null,
      "outputs": []
    },
    {
      "cell_type": "code",
      "source": [
        "# Budujemy nasz model ale jako pierwszą warstwę dodajmy model który zaimportowaliśmy\n",
        "model = Sequential()\n",
        "model.add(conv_base)\n",
        "model.add(layers.Flatten())\n",
        "model.add(layers.Dense(units=256, activation='relu'))\n",
        "model.add(layers.Dense(units=1, activation='sigmoid'))\n",
        "model.summary()"
      ],
      "metadata": {
        "id": "PHdwf9jsTEVa"
      },
      "execution_count": null,
      "outputs": []
    },
    {
      "cell_type": "code",
      "source": [
        "#Zamrażamy do trenowania te warstwy, które zaimportowaliśmy\n",
        "\n",
        "print(f'Liczba warstw trenowanych przed zamrożeniem {len(model.trainable_weights)}')\n",
        "conv_base.trainable = False\n",
        "print(f'Liczba warstw trenowanych po zamrożeniu {len(model.trainable_weights)}')"
      ],
      "metadata": {
        "id": "JaFGx-4jTs0C",
        "outputId": "229f7aa1-3e0c-4798-e178-d8a8eb37d68e",
        "colab": {
          "base_uri": "https://localhost:8080/"
        }
      },
      "execution_count": 11,
      "outputs": [
        {
          "output_type": "stream",
          "name": "stdout",
          "text": [
            "Liczba warstw trenowanych przed zamrożeniem 30\n",
            "Liczba warstw trenowanych po zamrożeniu 4\n"
          ]
        }
      ]
    },
    {
      "cell_type": "code",
      "source": [
        "model.compile(optimizer=optimizers.RMSprop(lr=1e-4),\n",
        "             loss='binary_crossentropy',\n",
        "             metrics=['accuracy'])"
      ],
      "metadata": {
        "id": "JASOJ8cRUBBL",
        "outputId": "87047d8c-aa5e-46b1-f72e-db1b175f012d",
        "colab": {
          "base_uri": "https://localhost:8080/"
        }
      },
      "execution_count": 12,
      "outputs": [
        {
          "output_type": "stream",
          "name": "stderr",
          "text": [
            "/usr/local/lib/python3.7/dist-packages/keras/optimizer_v2/rmsprop.py:130: UserWarning: The `lr` argument is deprecated, use `learning_rate` instead.\n",
            "  super(RMSprop, self).__init__(name, **kwargs)\n"
          ]
        }
      ]
    },
    {
      "cell_type": "code",
      "source": [
        "\n",
        "# to już nie zadziała bo danych nie mamy\n",
        "\n",
        "history = model.fit_generator(generator=train_generator,\n",
        "                             steps_per_epoch=steps_per_epoch,\n",
        "                             epochs=50,    # 100\n",
        "                             validation_data=valid_generator,\n",
        "                             validation_steps=validation_steps,\n",
        "                             callbacks=[tensorboard])"
      ],
      "metadata": {
        "id": "oHr6MFrCUDYy"
      },
      "execution_count": null,
      "outputs": []
    },
    {
      "cell_type": "markdown",
      "source": [
        "# Transfer learning - model VGG16 - odmrożenie kilku ostatnich warstw"
      ],
      "metadata": {
        "id": "s_sag0IzVPf9"
      }
    },
    {
      "cell_type": "code",
      "source": [
        "# wczytujemy jeszcze raz i na początek wszystkie ustawiamy na trenowalne\n",
        "conv_base = VGG16(weights='imagenet', include_top=False, input_shape=(150, 150, 3))\n",
        "conv_base.trainable = True\n",
        "\n",
        "def print_layers(model):\n",
        "    for layer in model.layers:\n",
        "        print(f'layer_name: {layer.name:13} trainable: {layer.trainable}')\n",
        "\n",
        "#wyświetlamy\n",
        "print_layers(conv_base)"
      ],
      "metadata": {
        "id": "r4pWFDmcVQ47",
        "outputId": "94fa2083-502e-48d1-9d25-bff1d2d8ff8d",
        "colab": {
          "base_uri": "https://localhost:8080/"
        }
      },
      "execution_count": 13,
      "outputs": [
        {
          "output_type": "stream",
          "name": "stdout",
          "text": [
            "layer_name: input_2       trainable: True\n",
            "layer_name: block1_conv1  trainable: True\n",
            "layer_name: block1_conv2  trainable: True\n",
            "layer_name: block1_pool   trainable: True\n",
            "layer_name: block2_conv1  trainable: True\n",
            "layer_name: block2_conv2  trainable: True\n",
            "layer_name: block2_pool   trainable: True\n",
            "layer_name: block3_conv1  trainable: True\n",
            "layer_name: block3_conv2  trainable: True\n",
            "layer_name: block3_conv3  trainable: True\n",
            "layer_name: block3_pool   trainable: True\n",
            "layer_name: block4_conv1  trainable: True\n",
            "layer_name: block4_conv2  trainable: True\n",
            "layer_name: block4_conv3  trainable: True\n",
            "layer_name: block4_pool   trainable: True\n",
            "layer_name: block5_conv1  trainable: True\n",
            "layer_name: block5_conv2  trainable: True\n",
            "layer_name: block5_conv3  trainable: True\n",
            "layer_name: block5_pool   trainable: True\n"
          ]
        }
      ]
    },
    {
      "cell_type": "code",
      "source": [
        "set_trainable = False\n",
        "for layer in conv_base.layers:\n",
        "    if layer.name == 'block5_conv1':\n",
        "        set_trainable = True\n",
        "    if set_trainable:\n",
        "        layer.trainable = True\n",
        "    else:\n",
        "        layer.trainable = False\n",
        "\n",
        "print_layers(conv_base)"
      ],
      "metadata": {
        "id": "dPCEOMpoVzyB",
        "outputId": "b69091a6-fa1e-4525-c4e3-94e701e5d452",
        "colab": {
          "base_uri": "https://localhost:8080/"
        }
      },
      "execution_count": 14,
      "outputs": [
        {
          "output_type": "stream",
          "name": "stdout",
          "text": [
            "layer_name: input_2       trainable: False\n",
            "layer_name: block1_conv1  trainable: False\n",
            "layer_name: block1_conv2  trainable: False\n",
            "layer_name: block1_pool   trainable: False\n",
            "layer_name: block2_conv1  trainable: False\n",
            "layer_name: block2_conv2  trainable: False\n",
            "layer_name: block2_pool   trainable: False\n",
            "layer_name: block3_conv1  trainable: False\n",
            "layer_name: block3_conv2  trainable: False\n",
            "layer_name: block3_conv3  trainable: False\n",
            "layer_name: block3_pool   trainable: False\n",
            "layer_name: block4_conv1  trainable: False\n",
            "layer_name: block4_conv2  trainable: False\n",
            "layer_name: block4_conv3  trainable: False\n",
            "layer_name: block4_pool   trainable: False\n",
            "layer_name: block5_conv1  trainable: True\n",
            "layer_name: block5_conv2  trainable: True\n",
            "layer_name: block5_conv3  trainable: True\n",
            "layer_name: block5_pool   trainable: True\n"
          ]
        }
      ]
    },
    {
      "cell_type": "code",
      "source": [
        "model = Sequential()\n",
        "model.add(conv_base)\n",
        "model.add(layers.Flatten())\n",
        "model.add(layers.Dense(units=256, activation='relu'))\n",
        "model.add(layers.Dense(units=1, activation='sigmoid'))\n",
        "\n",
        "model.compile(optimizer=optimizers.RMSprop(lr=1e-5),\n",
        "             loss='binary_crossentropy',\n",
        "             metrics=['accuracy'])\n",
        "\n",
        "model.summary()"
      ],
      "metadata": {
        "id": "7PlHyFJKWCSL"
      },
      "execution_count": null,
      "outputs": []
    },
    {
      "cell_type": "markdown",
      "source": [
        "# Ocena modelu na zbiorze testowym"
      ],
      "metadata": {
        "id": "XPy6Qib4XFCT"
      }
    },
    {
      "cell_type": "code",
      "source": [
        "test_datagen = ImageDataGenerator(rescale=1./255.)\n",
        "test_generator = test_datagen.flow_from_directory(\n",
        "    test_dir,\n",
        "    target_size=(150, 150),\n",
        "    batch_size=1,\n",
        "    class_mode='binary',\n",
        "    shuffle=False\n",
        ")\n",
        "\n",
        "y_prob = model.predict_generator(test_generator, test_generator.samples)\n",
        "y_prob = y_prob.ravel()\n",
        "y_prob"
      ],
      "metadata": {
        "id": "zSBJAIXOXGYa"
      },
      "execution_count": null,
      "outputs": []
    },
    {
      "cell_type": "markdown",
      "source": [
        "reszta tutaj \n",
        "github.com/krakowiakpawel9/neural-network-course/blob/master/06_cnn/02_binary_classifier.ipynb"
      ],
      "metadata": {
        "id": "Yhe_tjr6YVdy"
      }
    },
    {
      "cell_type": "code",
      "source": [],
      "metadata": {
        "id": "D8Pbyv2TYZOq"
      },
      "execution_count": null,
      "outputs": []
    }
  ]
}
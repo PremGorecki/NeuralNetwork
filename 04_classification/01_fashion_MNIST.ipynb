{
  "nbformat": 4,
  "nbformat_minor": 0,
  "metadata": {
    "colab": {
      "provenance": [],
      "authorship_tag": "ABX9TyPfqWWBgYoBt+8EMNmqggId",
      "include_colab_link": true
    },
    "kernelspec": {
      "name": "python3",
      "display_name": "Python 3"
    },
    "language_info": {
      "name": "python"
    }
  },
  "cells": [
    {
      "cell_type": "markdown",
      "metadata": {
        "id": "view-in-github",
        "colab_type": "text"
      },
      "source": [
        "<a href=\"https://colab.research.google.com/github/PremGorecki/NeuralNetwork/blob/main/04_classification/01_fashion_MNIST.ipynb\" target=\"_parent\"><img src=\"https://colab.research.google.com/assets/colab-badge.svg\" alt=\"Open In Colab\"/></a>"
      ]
    },
    {
      "cell_type": "markdown",
      "source": [
        "# 1. Import bibliotek"
      ],
      "metadata": {
        "id": "Av0A6b6asiXS"
      }
    },
    {
      "cell_type": "code",
      "source": [
        "import numpy as np\n",
        "import pandas as pd\n",
        "import matplotlib.pyplot as plt\n",
        "import seaborn as sns\n",
        "\n",
        "import tensorflow as tf\n",
        "from tensorflow.keras.datasets.fashion_mnist import load_data\n",
        "from tensorflow.keras.models import Sequential\n",
        "from tensorflow.keras.layers import Flatten, Dense\n",
        "\n",
        "np.set_printoptions(precision=12, suppress=True, linewidth=150)\n",
        "pd.options.display.float_format = '{:.6f}'.format\n",
        "sns.set()\n",
        "tf.__version__"
      ],
      "metadata": {
        "id": "D-3DJ9d8skv2"
      },
      "execution_count": null,
      "outputs": []
    },
    {
      "cell_type": "markdown",
      "source": [
        "# 2. Załadowanie danych i wstępna eksploracja"
      ],
      "metadata": {
        "id": "qlBmW6BvWYee"
      }
    },
    {
      "cell_type": "code",
      "source": [
        "(X_train, y_train), (X_test, y_test) = load_data()"
      ],
      "metadata": {
        "id": "SCXyPOckWZ1X"
      },
      "execution_count": null,
      "outputs": []
    },
    {
      "cell_type": "code",
      "source": [
        "print(f'X_train shape: {X_train.shape}')\n",
        "print(f'y_train shape: {y_train.shape}')\n",
        "print(f'X_test shape: {X_test.shape}')\n",
        "print(f'y_test shape: {y_test.shape}')\n",
        "print(f'X_train[0] shape: {X_train[0].shape}')"
      ],
      "metadata": {
        "id": "wPS8B7yCWlhs"
      },
      "execution_count": null,
      "outputs": []
    },
    {
      "cell_type": "code",
      "source": [
        "X_train[0]"
      ],
      "metadata": {
        "id": "BVveSc8MWq4U"
      },
      "execution_count": null,
      "outputs": []
    },
    {
      "cell_type": "code",
      "source": [
        "y_train[:10]"
      ],
      "metadata": {
        "id": "y1KFv-RMXJyF"
      },
      "execution_count": null,
      "outputs": []
    },
    {
      "cell_type": "code",
      "source": [
        "plt.imshow(X_train[0], cmap='gray_r')\n",
        "plt.axis('off')"
      ],
      "metadata": {
        "id": "xTkI-aMoXMLt"
      },
      "execution_count": null,
      "outputs": []
    },
    {
      "cell_type": "code",
      "source": [
        "class_names = ['T-shirt/top', 'Trouser', 'Pullover', 'Dress', 'Coat', 'Sandal', 'Shirt', 'Sneaker', 'Bag', 'Ankle boot']\n",
        "\n",
        "plt.figure(figsize=(18, 13))\n",
        "for i in range(1, 11):\n",
        "    plt.subplot(1, 10, i)\n",
        "    plt.axis('off')\n",
        "    plt.imshow(X_train[i-1], cmap='gray_r')\n",
        "    plt.title(class_names[y_train[i-1]], color='black', fontsize=16)\n",
        "plt.show()"
      ],
      "metadata": {
        "id": "9OHlnlo1ZgFm"
      },
      "execution_count": null,
      "outputs": []
    },
    {
      "cell_type": "code",
      "source": [
        "X_train = X_train / 255.\n",
        "X_test = X_test / 255."
      ],
      "metadata": {
        "id": "gruo_TOCZsYW"
      },
      "execution_count": 17,
      "outputs": []
    },
    {
      "cell_type": "markdown",
      "source": [
        "# 3. Budowa modelu"
      ],
      "metadata": {
        "id": "yBvQYdetZxL1"
      }
    },
    {
      "cell_type": "code",
      "source": [
        "model = Sequential()\n",
        "model.add(Flatten(input_shape=(28, 28)))\n",
        "model.add(Dense(units=128, activation='relu'))\n",
        "model.add(Dense(units=10, activation='softmax'))\n",
        "\n",
        "model.compile(optimizer='adam',\n",
        "              loss='sparse_categorical_crossentropy',\n",
        "              metrics=['accuracy'])\n",
        "\n",
        "model.summary()"
      ],
      "metadata": {
        "id": "yXX2MOE7ZyXs"
      },
      "execution_count": null,
      "outputs": []
    },
    {
      "cell_type": "markdown",
      "source": [
        "**epochs** - ile razy zestaw treningowy zostanie przetworzony przez model. Przy każdej iteracji optymalizator próbuje dopasować wagi, aby funkcja celu została zminimalizowana.\n",
        "\n",
        "**batch_size** - liczba przykładów treningowych po której następuje aktualizacji wag\n",
        "\n",
        "**validation_split** - procent danych użytych do walidacji"
      ],
      "metadata": {
        "id": "QQarHffaarU9"
      }
    },
    {
      "cell_type": "code",
      "source": [
        "history = model.fit(X_train, y_train, epochs=10, batch_size=10, validation_split=0.2)"
      ],
      "metadata": {
        "id": "9hxiwGhpaux0",
        "outputId": "37a73f3f-7e7a-4543-95c3-34a50fa081fd",
        "colab": {
          "base_uri": "https://localhost:8080/"
        }
      },
      "execution_count": 19,
      "outputs": [
        {
          "output_type": "stream",
          "name": "stdout",
          "text": [
            "Epoch 1/10\n",
            "4800/4800 [==============================] - 15s 3ms/step - loss: 0.9518 - accuracy: 0.6836 - val_loss: 0.6633 - val_accuracy: 0.7659\n",
            "Epoch 2/10\n",
            "4800/4800 [==============================] - 12s 3ms/step - loss: 0.6052 - accuracy: 0.7815 - val_loss: 0.5662 - val_accuracy: 0.7931\n",
            "Epoch 3/10\n",
            "4800/4800 [==============================] - 13s 3ms/step - loss: 0.5410 - accuracy: 0.8073 - val_loss: 0.5177 - val_accuracy: 0.8151\n",
            "Epoch 4/10\n",
            "4800/4800 [==============================] - 13s 3ms/step - loss: 0.5035 - accuracy: 0.8223 - val_loss: 0.5012 - val_accuracy: 0.8193\n",
            "Epoch 5/10\n",
            "4800/4800 [==============================] - 15s 3ms/step - loss: 0.4800 - accuracy: 0.8312 - val_loss: 0.4769 - val_accuracy: 0.8313\n",
            "Epoch 6/10\n",
            "4800/4800 [==============================] - 12s 2ms/step - loss: 0.4624 - accuracy: 0.8377 - val_loss: 0.4617 - val_accuracy: 0.8352\n",
            "Epoch 7/10\n",
            "4800/4800 [==============================] - 12s 2ms/step - loss: 0.4489 - accuracy: 0.8420 - val_loss: 0.4563 - val_accuracy: 0.8379\n",
            "Epoch 8/10\n",
            "4800/4800 [==============================] - 13s 3ms/step - loss: 0.4393 - accuracy: 0.8459 - val_loss: 0.4446 - val_accuracy: 0.8426\n",
            "Epoch 9/10\n",
            "4800/4800 [==============================] - 12s 2ms/step - loss: 0.4311 - accuracy: 0.8482 - val_loss: 0.4407 - val_accuracy: 0.8428\n",
            "Epoch 10/10\n",
            "4800/4800 [==============================] - 13s 3ms/step - loss: 0.4235 - accuracy: 0.8517 - val_loss: 0.4308 - val_accuracy: 0.8457\n"
          ]
        }
      ]
    },
    {
      "cell_type": "code",
      "source": [
        "metrics = pd.DataFrame(history.history)\n",
        "metrics['epoch'] = history.epoch\n",
        "metrics"
      ],
      "metadata": {
        "id": "sWVdIubGbWaE"
      },
      "execution_count": null,
      "outputs": []
    },
    {
      "cell_type": "markdown",
      "source": [
        "# 4. Ocena modelu"
      ],
      "metadata": {
        "id": "JidalrzFbooW"
      }
    },
    {
      "cell_type": "code",
      "source": [
        "import plotly.graph_objects as go\n",
        "from plotly.subplots import make_subplots\n",
        "\n",
        "fig = make_subplots(rows=1, cols=2)\n",
        "fig.add_trace(go.Scatter(x=metrics['epoch'], y=metrics['accuracy'], name='accuracy'), row=1, col=1)\n",
        "fig.add_trace(go.Scatter(x=metrics['epoch'], y=metrics['loss'], name='loss'), row=1, col=2)\n",
        "fig.add_trace(go.Scatter(x=metrics['epoch'], y=metrics['val_accuracy'], name='val_accuracy'), row=1, col=1)\n",
        "fig.add_trace(go.Scatter(x=metrics['epoch'], y=metrics['val_loss'], name='val_loss'), row=1, col=2)\n",
        "\n",
        "fig.update_xaxes(title_text='epochs')\n",
        "fig.update_yaxes(title_text='accuracy')\n",
        "fig.update_layout(width=1000, title='Accuracy and Loss')\n",
        "fig.show()"
      ],
      "metadata": {
        "id": "fzEDPvKibp9U"
      },
      "execution_count": null,
      "outputs": []
    },
    {
      "cell_type": "code",
      "source": [
        "test_loss, test_acc = model.evaluate(X_test, y_test, verbose=0)\n",
        "print(test_acc)"
      ],
      "metadata": {
        "id": "cjH8cVECb_wM"
      },
      "execution_count": null,
      "outputs": []
    },
    {
      "cell_type": "markdown",
      "source": [
        "# 5. Predykcja na podstawie modelu:\n",
        "* **model.evaluate(y_true, y_pred)** - pozwala obliczyć metryki modelu\n",
        "* **model.predict_classes()** - pozwala zwrócić odpowiednio przewidziane klasy\n",
        "* **model.predict_proba(), model.predict()** - pozwala zwrócić prawdopodobieństwo danej klasy\n",
        "\n"
      ],
      "metadata": {
        "id": "bTUmxD9_cDYM"
      }
    },
    {
      "cell_type": "code",
      "source": [
        "predictions = model.predict(X_test)\n",
        "predictions"
      ],
      "metadata": {
        "id": "MhXSyhPScZ3M"
      },
      "execution_count": null,
      "outputs": []
    },
    {
      "cell_type": "code",
      "source": [
        "predictions_df = pd.DataFrame(predictions)\n",
        "predictions_df.head()"
      ],
      "metadata": {
        "id": "JP9oTFl8ckv-"
      },
      "execution_count": null,
      "outputs": []
    },
    {
      "cell_type": "code",
      "source": [
        "#predictions_cls = model.predict_classes(X_test)\n",
        "#predictions_cls\n",
        "\n",
        "predict_x=model.predict(X_test) \n",
        "predictions_cls=np.argmax(predict_x,axis=1)\n",
        "predictions_cls"
      ],
      "metadata": {
        "id": "iLrAweUVdAPz",
        "outputId": "c2d4cc91-01e5-4b12-e951-db8f0de815de",
        "colab": {
          "base_uri": "https://localhost:8080/"
        }
      },
      "execution_count": 28,
      "outputs": [
        {
          "output_type": "execute_result",
          "data": {
            "text/plain": [
              "array([9, 2, 1, ..., 8, 1, 5])"
            ]
          },
          "metadata": {},
          "execution_count": 28
        }
      ]
    },
    {
      "cell_type": "markdown",
      "source": [
        "# 6. Eksploracja predykcji"
      ],
      "metadata": {
        "id": "A8yjTHa7dqbF"
      }
    },
    {
      "cell_type": "code",
      "source": [
        "#@title Wybierz indeks zdjęcia:\n",
        "idx = 3741 #@param {type: 'slider', min:0, max:10000}\n",
        "\n",
        "if predictions_cls[idx] == y_test[idx]:\n",
        "    color = 'green'\n",
        "else:\n",
        "    color = 'red'\n",
        "\n",
        "fig = go.Figure()\n",
        "fig.add_trace(go.Bar(x=class_names, y=predictions_df.iloc[idx], orientation='v', \n",
        "                     marker_color=color))\n",
        "fig.update_layout(width=800, title=f'Predykcja: {class_names[predictions_cls[idx]]}')\n",
        "fig.show()\n",
        "\n",
        "from PIL import Image, ImageOps\n",
        "import numpy as np\n",
        "\n",
        "data = (X_test[idx] * 255).astype(np.uint8)\n",
        "img = Image.fromarray(data, 'L')\n",
        "img = ImageOps.invert(img.convert('RGB'))\n",
        "img.save('sample.png')\n",
        "\n",
        "from IPython import display\n",
        "display.Image('sample.png', width=200)"
      ],
      "metadata": {
        "id": "D3-3l_ITdrdC"
      },
      "execution_count": null,
      "outputs": []
    },
    {
      "cell_type": "markdown",
      "source": [
        "# 7. Błędnie sklasyfikowane obrazy"
      ],
      "metadata": {
        "id": "al945cFJeWJs"
      }
    },
    {
      "cell_type": "code",
      "source": [
        "#@title Wybierz indeks zdjęcia:\n",
        "\n",
        "misclassified = []\n",
        "for idx, _ in enumerate(X_test):\n",
        "    if predictions_cls[idx] != y_test[idx]:\n",
        "        misclassified.append(idx)\n",
        "\n",
        "index_mapper = {}\n",
        "\n",
        "\n",
        "for idx, idx_real in enumerate(misclassified):\n",
        "    index_mapper[idx] = idx_real\n",
        "\n",
        "idx = 352 #@param {type: 'slider', min:0, max:1119}\n",
        "\n",
        "fig = go.Figure()\n",
        "fig.add_trace(go.Bar(x=class_names, \n",
        "                     y=predictions_df.iloc[index_mapper[idx]], \n",
        "                     orientation='v', \n",
        "                     marker_color='red'))\n",
        "\n",
        "fig.update_layout(width=800,\n",
        "                  title=(f' Etykieta: {class_names[y_test[index_mapper[idx]]]}'\n",
        "                      f' ~ Predykcja: {class_names[predictions_cls[index_mapper[idx]]]}'))\n",
        "fig.show()\n",
        "\n",
        "from PIL import Image, ImageOps\n",
        "import numpy as np\n",
        "\n",
        "data = (X_test[index_mapper[idx]] * 255).astype(np.uint8)\n",
        "img = Image.fromarray(data, 'L')\n",
        "img = ImageOps.invert(img.convert('RGB'))\n",
        "img.save('sample.png')\n",
        "\n",
        "from IPython import display\n",
        "display.Image('sample.png', width=200)"
      ],
      "metadata": {
        "id": "IcnLvcWkeXfL"
      },
      "execution_count": null,
      "outputs": []
    },
    {
      "cell_type": "markdown",
      "source": [
        "# 8. Klika możliwości poprawy modeli:\n",
        "* zwiększenie liczby epok\n",
        "* zwiększenie/zmniejszenie parametrów uczenia, stronjenie hiperparametrów\n",
        "* zwiększenie/zmniejszenie liczby neuronów wewnątrz wartsw uktytych\n",
        "* zwiększenie/zmniejszenie parametru batch_size, czyli rozmiaru wsadu\n",
        "* zwiększenie/zmniejszenie liczby warstw ukrytych\n",
        "* zastosowanie regularyzacji (L1 - lasso, L2 - ridge), warstwy Dropout"
      ],
      "metadata": {
        "id": "T5BBQciSe0xU"
      }
    },
    {
      "cell_type": "code",
      "source": [],
      "metadata": {
        "id": "dbl4vHPIe8xt"
      },
      "execution_count": null,
      "outputs": []
    }
  ]
}
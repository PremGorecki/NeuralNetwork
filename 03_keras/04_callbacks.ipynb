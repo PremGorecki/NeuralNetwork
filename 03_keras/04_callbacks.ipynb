{
  "nbformat": 4,
  "nbformat_minor": 0,
  "metadata": {
    "colab": {
      "provenance": [],
      "authorship_tag": "ABX9TyP+4DJPBtwzrZp+7zgsfzi9",
      "include_colab_link": true
    },
    "kernelspec": {
      "name": "python3",
      "display_name": "Python 3"
    },
    "language_info": {
      "name": "python"
    }
  },
  "cells": [
    {
      "cell_type": "markdown",
      "metadata": {
        "id": "view-in-github",
        "colab_type": "text"
      },
      "source": [
        "<a href=\"https://colab.research.google.com/github/PremGorecki/NeuralNetwork/blob/main/03_keras/04_callbacks.ipynb\" target=\"_parent\"><img src=\"https://colab.research.google.com/assets/colab-badge.svg\" alt=\"Open In Colab\"/></a>"
      ]
    },
    {
      "cell_type": "code",
      "execution_count": 2,
      "metadata": {
        "id": "tZQQP_fFVVb-"
      },
      "outputs": [],
      "source": [
        "# Update: Należy użyć biblioteki tensorflow w wersji 2.0\n",
        "!pip install -q tensorflow==2.0"
      ]
    },
    {
      "cell_type": "code",
      "source": [
        "# %tensorflow_version 2.x  \n",
        "import numpy as np\n",
        "import pandas as pd\n",
        "import matplotlib.pyplot as plt\n",
        "\n",
        "import tensorflow as tf\n",
        "from tensorflow.keras.datasets.mnist import load_data\n",
        "from tensorflow.keras.models import Sequential\n",
        "from tensorflow.keras.layers import Flatten, Dense, Dropout\n",
        "\n",
        "import plotly.express as px\n",
        "from plotly.subplots import make_subplots\n",
        "import plotly.graph_objects as go\n",
        "\n",
        "np.set_printoptions(precision=12, suppress=True, linewidth=120)\n",
        "print(tf.__version__)"
      ],
      "metadata": {
        "id": "XBQlkt3mWKOW"
      },
      "execution_count": null,
      "outputs": []
    },
    {
      "cell_type": "markdown",
      "source": [
        "Załadowanie i przygotowanie danych"
      ],
      "metadata": {
        "id": "XtfcbddFWPG8"
      }
    },
    {
      "cell_type": "code",
      "source": [
        "(X_train, y_train), (X_test, y_test) = load_data()\n",
        "\n",
        "print(f'X_train shape: {X_train.shape}')\n",
        "print(f'y_train shape: {y_train.shape}')\n",
        "print(f'X_test shape: {X_test.shape}')\n",
        "print(f'y_test shape: {y_test.shape}')"
      ],
      "metadata": {
        "id": "AeZFQGe9WSmG"
      },
      "execution_count": null,
      "outputs": []
    },
    {
      "cell_type": "code",
      "source": [
        "print(X_train[0])"
      ],
      "metadata": {
        "id": "4GJo3ZjwWao1"
      },
      "execution_count": null,
      "outputs": []
    },
    {
      "cell_type": "code",
      "source": [
        "print(f'X_train[0] shape: {X_train[0].shape}')"
      ],
      "metadata": {
        "id": "PTTgX-bJWemO"
      },
      "execution_count": null,
      "outputs": []
    },
    {
      "cell_type": "code",
      "source": [
        "X_train = X_train / 255.\n",
        "X_test = X_test / 255."
      ],
      "metadata": {
        "id": "k2RX7QtZWov9"
      },
      "execution_count": 8,
      "outputs": []
    },
    {
      "cell_type": "code",
      "source": [
        "#Eksploracja danych\n",
        "\n",
        "plt.imshow(X_train[0], cmap='gray_r')\n",
        "plt.axis('off')"
      ],
      "metadata": {
        "id": "jDXZ29ekW9gu"
      },
      "execution_count": null,
      "outputs": []
    },
    {
      "cell_type": "code",
      "source": [
        "plt.figure(figsize=(13, 13))\n",
        "for i in range(1, 11):\n",
        "    plt.subplot(1, 10, i)\n",
        "    plt.axis('off')\n",
        "    plt.imshow(X_train[i-1], cmap='gray_r')\n",
        "    plt.title(y_train[i-1], color='black', fontsize=16)\n",
        "plt.show()"
      ],
      "metadata": {
        "id": "D_-t2WU0XASO"
      },
      "execution_count": null,
      "outputs": []
    },
    {
      "cell_type": "markdown",
      "source": [
        "Budowa sieci neuronowej"
      ],
      "metadata": {
        "id": "SFp_kYdZXKH0"
      }
    },
    {
      "cell_type": "code",
      "source": [
        "def build_model():\n",
        "    model = Sequential()\n",
        "    model.add(Flatten(input_shape=(28, 28)))\n",
        "    model.add(Dense(units=128, activation='relu'))\n",
        "    model.add(Dropout(0.2))\n",
        "    model.add(Dense(units=10, activation='softmax'))\n",
        "\n",
        "    model.compile(optimizers='adam',\n",
        "                loss='sparse_categorical_crossentropy',\n",
        "                metrics=['accuracy'])\n",
        "    return model\n",
        "\n",
        "model = build_model()\n",
        "model.summary()"
      ],
      "metadata": {
        "id": "66662fvLXK4F"
      },
      "execution_count": null,
      "outputs": []
    },
    {
      "cell_type": "markdown",
      "source": [
        "Trenowanie modelu"
      ],
      "metadata": {
        "id": "6k20GB-RXUKV"
      }
    },
    {
      "cell_type": "code",
      "source": [
        "history = model.fit(X_train, y_train, epochs=10, validation_split=0.2, batch_size=32)"
      ],
      "metadata": {
        "id": "_tgJkL_xXWDN",
        "outputId": "7548ff83-d952-43fd-c201-7a3313329ce9",
        "colab": {
          "base_uri": "https://localhost:8080/"
        }
      },
      "execution_count": 13,
      "outputs": [
        {
          "output_type": "stream",
          "name": "stdout",
          "text": [
            "Train on 48000 samples, validate on 12000 samples\n",
            "Epoch 1/10\n",
            "48000/48000 [==============================] - 6s 123us/sample - loss: 0.3155 - accuracy: 0.9078 - val_loss: 0.1651 - val_accuracy: 0.9517\n",
            "Epoch 2/10\n",
            "48000/48000 [==============================] - 5s 95us/sample - loss: 0.1641 - accuracy: 0.9525 - val_loss: 0.1249 - val_accuracy: 0.9655\n",
            "Epoch 3/10\n",
            "48000/48000 [==============================] - 4s 91us/sample - loss: 0.1312 - accuracy: 0.9627 - val_loss: 0.1121 - val_accuracy: 0.9684\n",
            "Epoch 4/10\n",
            "48000/48000 [==============================] - 4s 86us/sample - loss: 0.1124 - accuracy: 0.9680 - val_loss: 0.1179 - val_accuracy: 0.9697\n",
            "Epoch 5/10\n",
            "48000/48000 [==============================] - 4s 93us/sample - loss: 0.1023 - accuracy: 0.9707 - val_loss: 0.1065 - val_accuracy: 0.9736\n",
            "Epoch 6/10\n",
            "48000/48000 [==============================] - 4s 89us/sample - loss: 0.0927 - accuracy: 0.9740 - val_loss: 0.1110 - val_accuracy: 0.9735\n",
            "Epoch 7/10\n",
            "48000/48000 [==============================] - 4s 90us/sample - loss: 0.0876 - accuracy: 0.9765 - val_loss: 0.1133 - val_accuracy: 0.9732\n",
            "Epoch 8/10\n",
            "48000/48000 [==============================] - 4s 87us/sample - loss: 0.0876 - accuracy: 0.9773 - val_loss: 0.1075 - val_accuracy: 0.9750\n",
            "Epoch 9/10\n",
            "48000/48000 [==============================] - 4s 92us/sample - loss: 0.0772 - accuracy: 0.9794 - val_loss: 0.1174 - val_accuracy: 0.9727\n",
            "Epoch 10/10\n",
            "48000/48000 [==============================] - 4s 87us/sample - loss: 0.0776 - accuracy: 0.9789 - val_loss: 0.1172 - val_accuracy: 0.9758\n"
          ]
        }
      ]
    },
    {
      "cell_type": "markdown",
      "source": [
        "ModelCheckpoint - Zapisywanie wag po każdej poprawie modelu\n",
        "Za każdym razem gdy monitorowana metryka ulega poprawie wagi są zapisywane do pliku.\n",
        "Wykorzystamy klasę ModelCheckpoint do obserwowania metryki accuracy na zbiorze walidacyjnym."
      ],
      "metadata": {
        "id": "R58zGckZYJE9"
      }
    },
    {
      "cell_type": "code",
      "source": [
        "from tensorflow.keras.callbacks import ModelCheckpoint\n",
        "\n",
        "!mkdir model\n",
        "filepath ='model/weights-{epoch:02d}-{val_accuracy:.4f}.hdf5'\n",
        "\n",
        "checkpoint = ModelCheckpoint(filepath=filepath, monitor='val_accuracy', verbose=1, save_best_only=True, mode='max')"
      ],
      "metadata": {
        "id": "sDqP2E4xYRq2"
      },
      "execution_count": 14,
      "outputs": []
    },
    {
      "cell_type": "code",
      "source": [
        "#polecenie bash'owe do wyświetlenia katalogu w którym się znajdujemy\n",
        "!ls"
      ],
      "metadata": {
        "id": "MVaQPu51YoxW"
      },
      "execution_count": null,
      "outputs": []
    },
    {
      "cell_type": "code",
      "source": [
        "model = build_model()\n",
        "history = model.fit(X_train, y_train, epochs=10, validation_split=0.2, batch_size=32, callbacks=[checkpoint])"
      ],
      "metadata": {
        "id": "O1ziA90PY67V"
      },
      "execution_count": null,
      "outputs": []
    },
    {
      "cell_type": "markdown",
      "source": [
        "ModelCheckpoint - Zapisanie najlepszego modelu"
      ],
      "metadata": {
        "id": "jNcwW42kaHbk"
      }
    },
    {
      "cell_type": "code",
      "source": [
        "filepath = 'best_model_weights.hdf5'\n",
        "\n",
        "checkpoint = ModelCheckpoint(filepath=filepath, monitor='val_accuracy', verbose=1, save_best_only=True, mode='max')\n",
        "\n",
        "model = build_model()\n",
        "history = model.fit(X_train, y_train, epochs=10, validation_split=0.2, batch_size=32, callbacks=[checkpoint])"
      ],
      "metadata": {
        "id": "juIzMEb2aIRm"
      },
      "execution_count": null,
      "outputs": []
    }
  ]
}
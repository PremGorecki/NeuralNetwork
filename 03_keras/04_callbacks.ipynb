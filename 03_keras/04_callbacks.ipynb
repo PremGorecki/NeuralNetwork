{
  "nbformat": 4,
  "nbformat_minor": 0,
  "metadata": {
    "colab": {
      "provenance": [],
      "authorship_tag": "ABX9TyNBKF+74cLoZs/WrZtHSTgh",
      "include_colab_link": true
    },
    "kernelspec": {
      "name": "python3",
      "display_name": "Python 3"
    },
    "language_info": {
      "name": "python"
    }
  },
  "cells": [
    {
      "cell_type": "markdown",
      "metadata": {
        "id": "view-in-github",
        "colab_type": "text"
      },
      "source": [
        "<a href=\"https://colab.research.google.com/github/PremGorecki/NeuralNetwork/blob/main/03_keras/04_callbacks.ipynb\" target=\"_parent\"><img src=\"https://colab.research.google.com/assets/colab-badge.svg\" alt=\"Open In Colab\"/></a>"
      ]
    },
    {
      "cell_type": "code",
      "execution_count": 2,
      "metadata": {
        "id": "tZQQP_fFVVb-"
      },
      "outputs": [],
      "source": [
        "# Update: Należy użyć biblioteki tensorflow w wersji 2.0\n",
        "!pip install -q tensorflow==2.0"
      ]
    },
    {
      "cell_type": "code",
      "source": [
        "# %tensorflow_version 2.x  \n",
        "import numpy as np\n",
        "import pandas as pd\n",
        "import matplotlib.pyplot as plt\n",
        "\n",
        "import tensorflow as tf\n",
        "from tensorflow.keras.datasets.mnist import load_data\n",
        "from tensorflow.keras.models import Sequential\n",
        "from tensorflow.keras.layers import Flatten, Dense, Dropout\n",
        "\n",
        "import plotly.express as px\n",
        "from plotly.subplots import make_subplots\n",
        "import plotly.graph_objects as go\n",
        "\n",
        "np.set_printoptions(precision=12, suppress=True, linewidth=120)\n",
        "print(tf.__version__)"
      ],
      "metadata": {
        "id": "XBQlkt3mWKOW"
      },
      "execution_count": null,
      "outputs": []
    },
    {
      "cell_type": "markdown",
      "source": [
        "Załadowanie i przygotowanie danych"
      ],
      "metadata": {
        "id": "XtfcbddFWPG8"
      }
    },
    {
      "cell_type": "code",
      "source": [
        "(X_train, y_train), (X_test, y_test) = load_data()\n",
        "\n",
        "print(f'X_train shape: {X_train.shape}')\n",
        "print(f'y_train shape: {y_train.shape}')\n",
        "print(f'X_test shape: {X_test.shape}')\n",
        "print(f'y_test shape: {y_test.shape}')"
      ],
      "metadata": {
        "id": "AeZFQGe9WSmG"
      },
      "execution_count": null,
      "outputs": []
    },
    {
      "cell_type": "code",
      "source": [
        "print(X_train[0])"
      ],
      "metadata": {
        "id": "4GJo3ZjwWao1"
      },
      "execution_count": null,
      "outputs": []
    },
    {
      "cell_type": "code",
      "source": [
        "print(f'X_train[0] shape: {X_train[0].shape}')"
      ],
      "metadata": {
        "id": "PTTgX-bJWemO"
      },
      "execution_count": null,
      "outputs": []
    },
    {
      "cell_type": "code",
      "source": [
        "X_train = X_train / 255.\n",
        "X_test = X_test / 255."
      ],
      "metadata": {
        "id": "k2RX7QtZWov9"
      },
      "execution_count": 7,
      "outputs": []
    },
    {
      "cell_type": "code",
      "source": [
        "#Eksploracja danych\n",
        "\n",
        "plt.imshow(X_train[0], cmap='gray_r')\n",
        "plt.axis('off')"
      ],
      "metadata": {
        "id": "jDXZ29ekW9gu"
      },
      "execution_count": null,
      "outputs": []
    },
    {
      "cell_type": "code",
      "source": [
        "plt.figure(figsize=(13, 13))\n",
        "for i in range(1, 11):\n",
        "    plt.subplot(1, 10, i)\n",
        "    plt.axis('off')\n",
        "    plt.imshow(X_train[i-1], cmap='gray_r')\n",
        "    plt.title(y_train[i-1], color='black', fontsize=16)\n",
        "plt.show()"
      ],
      "metadata": {
        "id": "D_-t2WU0XASO"
      },
      "execution_count": null,
      "outputs": []
    },
    {
      "cell_type": "markdown",
      "source": [
        "Budowa sieci neuronowej"
      ],
      "metadata": {
        "id": "SFp_kYdZXKH0"
      }
    },
    {
      "cell_type": "code",
      "source": [
        "def build_model():\n",
        "    model = Sequential()\n",
        "    model.add(Flatten(input_shape=(28, 28)))\n",
        "    model.add(Dense(units=128, activation='relu'))\n",
        "    model.add(Dropout(0.2))\n",
        "    model.add(Dense(units=10, activation='softmax'))\n",
        "\n",
        "    model.compile(optimizers='adam',\n",
        "                loss='sparse_categorical_crossentropy',\n",
        "                metrics=['accuracy'])\n",
        "    return model\n",
        "\n",
        "model = build_model()\n",
        "model.summary()"
      ],
      "metadata": {
        "id": "66662fvLXK4F"
      },
      "execution_count": null,
      "outputs": []
    },
    {
      "cell_type": "markdown",
      "source": [
        "Trenowanie modelu"
      ],
      "metadata": {
        "id": "6k20GB-RXUKV"
      }
    },
    {
      "cell_type": "code",
      "source": [
        "history = model.fit(X_train, y_train, epochs=10, validation_split=0.2, batch_size=32)"
      ],
      "metadata": {
        "id": "_tgJkL_xXWDN"
      },
      "execution_count": null,
      "outputs": []
    },
    {
      "cell_type": "markdown",
      "source": [
        "ModelCheckpoint - Zapisywanie wag po każdej poprawie modelu\n",
        "Za każdym razem gdy monitorowana metryka ulega poprawie wagi są zapisywane do pliku.\n",
        "Wykorzystamy klasę ModelCheckpoint do obserwowania metryki accuracy na zbiorze walidacyjnym."
      ],
      "metadata": {
        "id": "R58zGckZYJE9"
      }
    },
    {
      "cell_type": "code",
      "source": [
        "from tensorflow.keras.callbacks import ModelCheckpoint\n",
        "\n",
        "!mkdir model\n",
        "filepath ='model/weights-{epoch:02d}-{val_accuracy:.4f}.hdf5'\n",
        "\n",
        "checkpoint = ModelCheckpoint(filepath=filepath, monitor='val_accuracy', verbose=1, save_best_only=True, mode='max')"
      ],
      "metadata": {
        "id": "sDqP2E4xYRq2"
      },
      "execution_count": 13,
      "outputs": []
    },
    {
      "cell_type": "code",
      "source": [
        "#polecenie bash'owe do wyświetlenia katalogu w którym się znajdujemy\n",
        "!ls"
      ],
      "metadata": {
        "id": "MVaQPu51YoxW"
      },
      "execution_count": null,
      "outputs": []
    },
    {
      "cell_type": "code",
      "source": [
        "model = build_model()\n",
        "history = model.fit(X_train, y_train, epochs=10, validation_split=0.2, batch_size=32, callbacks=[checkpoint])"
      ],
      "metadata": {
        "id": "O1ziA90PY67V"
      },
      "execution_count": null,
      "outputs": []
    },
    {
      "cell_type": "markdown",
      "source": [
        "ModelCheckpoint - Zapisanie najlepszego modelu"
      ],
      "metadata": {
        "id": "jNcwW42kaHbk"
      }
    },
    {
      "cell_type": "code",
      "source": [
        "filepath = 'best_model_weights.hdf5'\n",
        "\n",
        "checkpoint = ModelCheckpoint(filepath=filepath, monitor='val_accuracy', verbose=1, save_best_only=True, mode='max')\n",
        "\n",
        "model = build_model()\n",
        "history = model.fit(X_train, y_train, epochs=10, validation_split=0.2, batch_size=32, callbacks=[checkpoint])"
      ],
      "metadata": {
        "id": "juIzMEb2aIRm",
        "outputId": "a07e116c-bb0c-496f-a2ad-b19feb0ab866",
        "colab": {
          "base_uri": "https://localhost:8080/"
        }
      },
      "execution_count": 20,
      "outputs": [
        {
          "output_type": "stream",
          "name": "stdout",
          "text": [
            "Train on 48000 samples, validate on 12000 samples\n",
            "Epoch 1/10\n",
            "47648/48000 [============================>.] - ETA: 0s - loss: 0.3265 - accuracy: 0.9056\n",
            "Epoch 00001: val_accuracy improved from -inf to 0.95100, saving model to best_model_weights.hdf5\n",
            "48000/48000 [==============================] - 6s 128us/sample - loss: 0.3256 - accuracy: 0.9058 - val_loss: 0.1658 - val_accuracy: 0.9510\n",
            "Epoch 2/10\n",
            "47968/48000 [============================>.] - ETA: 0s - loss: 0.1662 - accuracy: 0.9521\n",
            "Epoch 00002: val_accuracy improved from 0.95100 to 0.96175, saving model to best_model_weights.hdf5\n",
            "48000/48000 [==============================] - 6s 119us/sample - loss: 0.1663 - accuracy: 0.9520 - val_loss: 0.1325 - val_accuracy: 0.9617\n",
            "Epoch 3/10\n",
            "47840/48000 [============================>.] - ETA: 0s - loss: 0.1338 - accuracy: 0.9622\n",
            "Epoch 00003: val_accuracy improved from 0.96175 to 0.96967, saving model to best_model_weights.hdf5\n",
            "48000/48000 [==============================] - 6s 117us/sample - loss: 0.1336 - accuracy: 0.9623 - val_loss: 0.1086 - val_accuracy: 0.9697\n",
            "Epoch 4/10\n",
            "47520/48000 [============================>.] - ETA: 0s - loss: 0.1138 - accuracy: 0.9677\n",
            "Epoch 00004: val_accuracy improved from 0.96967 to 0.97100, saving model to best_model_weights.hdf5\n",
            "48000/48000 [==============================] - 6s 119us/sample - loss: 0.1138 - accuracy: 0.9677 - val_loss: 0.1078 - val_accuracy: 0.9710\n",
            "Epoch 5/10\n",
            "47648/48000 [============================>.] - ETA: 0s - loss: 0.1031 - accuracy: 0.9708\n",
            "Epoch 00005: val_accuracy improved from 0.97100 to 0.97233, saving model to best_model_weights.hdf5\n",
            "48000/48000 [==============================] - 6s 119us/sample - loss: 0.1034 - accuracy: 0.9707 - val_loss: 0.1050 - val_accuracy: 0.9723\n",
            "Epoch 6/10\n",
            "47744/48000 [============================>.] - ETA: 0s - loss: 0.0907 - accuracy: 0.9744\n",
            "Epoch 00006: val_accuracy improved from 0.97233 to 0.97392, saving model to best_model_weights.hdf5\n",
            "48000/48000 [==============================] - 6s 120us/sample - loss: 0.0905 - accuracy: 0.9745 - val_loss: 0.1049 - val_accuracy: 0.9739\n",
            "Epoch 7/10\n",
            "47712/48000 [============================>.] - ETA: 0s - loss: 0.0871 - accuracy: 0.9749\n",
            "Epoch 00007: val_accuracy improved from 0.97392 to 0.97525, saving model to best_model_weights.hdf5\n",
            "48000/48000 [==============================] - 6s 120us/sample - loss: 0.0873 - accuracy: 0.9749 - val_loss: 0.1004 - val_accuracy: 0.9753\n",
            "Epoch 8/10\n",
            "47680/48000 [============================>.] - ETA: 0s - loss: 0.0814 - accuracy: 0.9784\n",
            "Epoch 00008: val_accuracy did not improve from 0.97525\n",
            "48000/48000 [==============================] - 6s 120us/sample - loss: 0.0812 - accuracy: 0.9785 - val_loss: 0.1053 - val_accuracy: 0.9751\n",
            "Epoch 9/10\n",
            "47808/48000 [============================>.] - ETA: 0s - loss: 0.0763 - accuracy: 0.9790\n",
            "Epoch 00009: val_accuracy improved from 0.97525 to 0.97533, saving model to best_model_weights.hdf5\n",
            "48000/48000 [==============================] - 6s 126us/sample - loss: 0.0761 - accuracy: 0.9790 - val_loss: 0.1119 - val_accuracy: 0.9753\n",
            "Epoch 10/10\n",
            "47552/48000 [============================>.] - ETA: 0s - loss: 0.0736 - accuracy: 0.9806\n",
            "Epoch 00010: val_accuracy improved from 0.97533 to 0.97550, saving model to best_model_weights.hdf5\n",
            "48000/48000 [==============================] - 6s 125us/sample - loss: 0.0735 - accuracy: 0.9807 - val_loss: 0.1108 - val_accuracy: 0.9755\n"
          ]
        }
      ]
    },
    {
      "cell_type": "markdown",
      "source": [
        "Załadowanie wag i ocena modelu"
      ],
      "metadata": {
        "id": "VAOLridw8jSm"
      }
    },
    {
      "cell_type": "code",
      "source": [
        "best_model = Sequential()\n",
        "best_model.add(Flatten(input_shape=(28, 28)))\n",
        "best_model.add(Dense(units=128, activation='relu'))\n",
        "best_model.add(Dropout(0.2))\n",
        "best_model.add(Dense(units=10, activation='softmax'))\n",
        "\n",
        "best_model.compile(optimizers='adam',\n",
        "                   loss='sparse_categorical_crossentropy',\n",
        "                   metrics=['accuracy'])\n",
        "\n",
        "filepath = 'best_model_weights.hdf5'\n",
        "best_model.load_weights(filepath)\n",
        "\n",
        "#test_loss, test_accuracy = best_model.evaluate(X_test, y_test, verbose=0)\n",
        "#print(test_accuracy)"
      ],
      "metadata": {
        "id": "0OFBZCxI8kf-"
      },
      "execution_count": null,
      "outputs": []
    },
    {
      "cell_type": "markdown",
      "source": [
        "Early Stopping - wczesne zatrzymanie\n",
        "Klasa EarlyStopping pozwala na wcześniejsze zatrzymanie procesu trenowania sieci, gdy obserwowna metryka zacznie się pogarszać."
      ],
      "metadata": {
        "id": "lz0uvF-oBCFE"
      }
    },
    {
      "cell_type": "code",
      "source": [
        "model = build_model()\n",
        "history = model.fit(X_train, y_train, epochs=30, validation_split=0.2, batch_size=32)"
      ],
      "metadata": {
        "id": "7EyB80T0_BBa",
        "outputId": "6914bb83-089a-49ab-a957-20c92b74019d",
        "colab": {
          "base_uri": "https://localhost:8080/"
        }
      },
      "execution_count": 25,
      "outputs": [
        {
          "output_type": "stream",
          "name": "stdout",
          "text": [
            "Train on 48000 samples, validate on 12000 samples\n",
            "Epoch 1/30\n",
            "48000/48000 [==============================] - 8s 162us/sample - loss: 0.3218 - accuracy: 0.9068 - val_loss: 0.1670 - val_accuracy: 0.9512\n",
            "Epoch 2/30\n",
            "48000/48000 [==============================] - 6s 120us/sample - loss: 0.1639 - accuracy: 0.9529 - val_loss: 0.1273 - val_accuracy: 0.9647\n",
            "Epoch 3/30\n",
            "48000/48000 [==============================] - 6s 118us/sample - loss: 0.1306 - accuracy: 0.9630 - val_loss: 0.1111 - val_accuracy: 0.9697\n",
            "Epoch 4/30\n",
            "48000/48000 [==============================] - 6s 126us/sample - loss: 0.1141 - accuracy: 0.9683 - val_loss: 0.1126 - val_accuracy: 0.9705\n",
            "Epoch 5/30\n",
            "48000/48000 [==============================] - 6s 134us/sample - loss: 0.1027 - accuracy: 0.9722 - val_loss: 0.1021 - val_accuracy: 0.9733\n",
            "Epoch 6/30\n",
            "48000/48000 [==============================] - 6s 118us/sample - loss: 0.0967 - accuracy: 0.9739 - val_loss: 0.1138 - val_accuracy: 0.9728\n",
            "Epoch 7/30\n",
            "48000/48000 [==============================] - 6s 116us/sample - loss: 0.0889 - accuracy: 0.9760 - val_loss: 0.1044 - val_accuracy: 0.9745\n",
            "Epoch 8/30\n",
            "48000/48000 [==============================] - 6s 117us/sample - loss: 0.0828 - accuracy: 0.9772 - val_loss: 0.1155 - val_accuracy: 0.9728\n",
            "Epoch 9/30\n",
            "48000/48000 [==============================] - 6s 118us/sample - loss: 0.0777 - accuracy: 0.9789 - val_loss: 0.1102 - val_accuracy: 0.9743\n",
            "Epoch 10/30\n",
            "48000/48000 [==============================] - 6s 118us/sample - loss: 0.0764 - accuracy: 0.9801 - val_loss: 0.1158 - val_accuracy: 0.9752\n",
            "Epoch 11/30\n",
            "48000/48000 [==============================] - 6s 119us/sample - loss: 0.0736 - accuracy: 0.9810 - val_loss: 0.1176 - val_accuracy: 0.9761\n",
            "Epoch 12/30\n",
            "48000/48000 [==============================] - 6s 118us/sample - loss: 0.0715 - accuracy: 0.9819 - val_loss: 0.1234 - val_accuracy: 0.9751\n",
            "Epoch 13/30\n",
            "48000/48000 [==============================] - 6s 118us/sample - loss: 0.0659 - accuracy: 0.9834 - val_loss: 0.1171 - val_accuracy: 0.9763\n",
            "Epoch 14/30\n",
            "48000/48000 [==============================] - 6s 119us/sample - loss: 0.0661 - accuracy: 0.9828 - val_loss: 0.1206 - val_accuracy: 0.9756\n",
            "Epoch 15/30\n",
            "48000/48000 [==============================] - 6s 119us/sample - loss: 0.0623 - accuracy: 0.9836 - val_loss: 0.1293 - val_accuracy: 0.9770\n",
            "Epoch 16/30\n",
            "48000/48000 [==============================] - 6s 121us/sample - loss: 0.0624 - accuracy: 0.9843 - val_loss: 0.1242 - val_accuracy: 0.9773\n",
            "Epoch 17/30\n",
            "48000/48000 [==============================] - 6s 118us/sample - loss: 0.0625 - accuracy: 0.9849 - val_loss: 0.1334 - val_accuracy: 0.9756\n",
            "Epoch 18/30\n",
            "48000/48000 [==============================] - 6s 118us/sample - loss: 0.0568 - accuracy: 0.9854 - val_loss: 0.1313 - val_accuracy: 0.9777\n",
            "Epoch 19/30\n",
            "48000/48000 [==============================] - 6s 119us/sample - loss: 0.0575 - accuracy: 0.9854 - val_loss: 0.1409 - val_accuracy: 0.9772\n",
            "Epoch 20/30\n",
            "48000/48000 [==============================] - 6s 118us/sample - loss: 0.0578 - accuracy: 0.9859 - val_loss: 0.1364 - val_accuracy: 0.9777\n",
            "Epoch 21/30\n",
            "48000/48000 [==============================] - 6s 120us/sample - loss: 0.0534 - accuracy: 0.9872 - val_loss: 0.1397 - val_accuracy: 0.9771\n",
            "Epoch 22/30\n",
            "48000/48000 [==============================] - 6s 121us/sample - loss: 0.0545 - accuracy: 0.9863 - val_loss: 0.1450 - val_accuracy: 0.9768\n",
            "Epoch 23/30\n",
            "48000/48000 [==============================] - 6s 121us/sample - loss: 0.0537 - accuracy: 0.9862 - val_loss: 0.1540 - val_accuracy: 0.9746\n",
            "Epoch 24/30\n",
            "48000/48000 [==============================] - 6s 119us/sample - loss: 0.0517 - accuracy: 0.9869 - val_loss: 0.1477 - val_accuracy: 0.9781\n",
            "Epoch 25/30\n",
            "48000/48000 [==============================] - 6s 118us/sample - loss: 0.0490 - accuracy: 0.9876 - val_loss: 0.1547 - val_accuracy: 0.9764\n",
            "Epoch 26/30\n",
            "48000/48000 [==============================] - 6s 119us/sample - loss: 0.0494 - accuracy: 0.9872 - val_loss: 0.1492 - val_accuracy: 0.9768\n",
            "Epoch 27/30\n",
            "48000/48000 [==============================] - 6s 123us/sample - loss: 0.0480 - accuracy: 0.9879 - val_loss: 0.1509 - val_accuracy: 0.9769\n",
            "Epoch 28/30\n",
            "48000/48000 [==============================] - 6s 122us/sample - loss: 0.0479 - accuracy: 0.9886 - val_loss: 0.1606 - val_accuracy: 0.9772\n",
            "Epoch 29/30\n",
            "48000/48000 [==============================] - 7s 146us/sample - loss: 0.0470 - accuracy: 0.9881 - val_loss: 0.1679 - val_accuracy: 0.9771\n",
            "Epoch 30/30\n",
            "48000/48000 [==============================] - 6s 126us/sample - loss: 0.0462 - accuracy: 0.9888 - val_loss: 0.1635 - val_accuracy: 0.9779\n"
          ]
        }
      ]
    },
    {
      "cell_type": "code",
      "source": [
        "metrics = pd.DataFrame(history.history)\n",
        "metrics.head()"
      ],
      "metadata": {
        "id": "Z2Ue0vrBBzAY",
        "outputId": "094df848-5009-46c8-de0b-281f38ec75aa",
        "colab": {
          "base_uri": "https://localhost:8080/",
          "height": 206
        }
      },
      "execution_count": 26,
      "outputs": [
        {
          "output_type": "execute_result",
          "data": {
            "text/plain": [
              "       loss  accuracy  val_loss  val_accuracy\n",
              "0  0.321848  0.906771  0.167017      0.951167\n",
              "1  0.163875  0.952854  0.127349      0.964667\n",
              "2  0.130572  0.963000  0.111096      0.969667\n",
              "3  0.114134  0.968313  0.112647      0.970500\n",
              "4  0.102703  0.972250  0.102103      0.973333"
            ],
            "text/html": [
              "\n",
              "  <div id=\"df-df4eff9d-d400-48cf-b2b5-321878f8c7ef\">\n",
              "    <div class=\"colab-df-container\">\n",
              "      <div>\n",
              "<style scoped>\n",
              "    .dataframe tbody tr th:only-of-type {\n",
              "        vertical-align: middle;\n",
              "    }\n",
              "\n",
              "    .dataframe tbody tr th {\n",
              "        vertical-align: top;\n",
              "    }\n",
              "\n",
              "    .dataframe thead th {\n",
              "        text-align: right;\n",
              "    }\n",
              "</style>\n",
              "<table border=\"1\" class=\"dataframe\">\n",
              "  <thead>\n",
              "    <tr style=\"text-align: right;\">\n",
              "      <th></th>\n",
              "      <th>loss</th>\n",
              "      <th>accuracy</th>\n",
              "      <th>val_loss</th>\n",
              "      <th>val_accuracy</th>\n",
              "    </tr>\n",
              "  </thead>\n",
              "  <tbody>\n",
              "    <tr>\n",
              "      <th>0</th>\n",
              "      <td>0.321848</td>\n",
              "      <td>0.906771</td>\n",
              "      <td>0.167017</td>\n",
              "      <td>0.951167</td>\n",
              "    </tr>\n",
              "    <tr>\n",
              "      <th>1</th>\n",
              "      <td>0.163875</td>\n",
              "      <td>0.952854</td>\n",
              "      <td>0.127349</td>\n",
              "      <td>0.964667</td>\n",
              "    </tr>\n",
              "    <tr>\n",
              "      <th>2</th>\n",
              "      <td>0.130572</td>\n",
              "      <td>0.963000</td>\n",
              "      <td>0.111096</td>\n",
              "      <td>0.969667</td>\n",
              "    </tr>\n",
              "    <tr>\n",
              "      <th>3</th>\n",
              "      <td>0.114134</td>\n",
              "      <td>0.968313</td>\n",
              "      <td>0.112647</td>\n",
              "      <td>0.970500</td>\n",
              "    </tr>\n",
              "    <tr>\n",
              "      <th>4</th>\n",
              "      <td>0.102703</td>\n",
              "      <td>0.972250</td>\n",
              "      <td>0.102103</td>\n",
              "      <td>0.973333</td>\n",
              "    </tr>\n",
              "  </tbody>\n",
              "</table>\n",
              "</div>\n",
              "      <button class=\"colab-df-convert\" onclick=\"convertToInteractive('df-df4eff9d-d400-48cf-b2b5-321878f8c7ef')\"\n",
              "              title=\"Convert this dataframe to an interactive table.\"\n",
              "              style=\"display:none;\">\n",
              "        \n",
              "  <svg xmlns=\"http://www.w3.org/2000/svg\" height=\"24px\"viewBox=\"0 0 24 24\"\n",
              "       width=\"24px\">\n",
              "    <path d=\"M0 0h24v24H0V0z\" fill=\"none\"/>\n",
              "    <path d=\"M18.56 5.44l.94 2.06.94-2.06 2.06-.94-2.06-.94-.94-2.06-.94 2.06-2.06.94zm-11 1L8.5 8.5l.94-2.06 2.06-.94-2.06-.94L8.5 2.5l-.94 2.06-2.06.94zm10 10l.94 2.06.94-2.06 2.06-.94-2.06-.94-.94-2.06-.94 2.06-2.06.94z\"/><path d=\"M17.41 7.96l-1.37-1.37c-.4-.4-.92-.59-1.43-.59-.52 0-1.04.2-1.43.59L10.3 9.45l-7.72 7.72c-.78.78-.78 2.05 0 2.83L4 21.41c.39.39.9.59 1.41.59.51 0 1.02-.2 1.41-.59l7.78-7.78 2.81-2.81c.8-.78.8-2.07 0-2.86zM5.41 20L4 18.59l7.72-7.72 1.47 1.35L5.41 20z\"/>\n",
              "  </svg>\n",
              "      </button>\n",
              "      \n",
              "  <style>\n",
              "    .colab-df-container {\n",
              "      display:flex;\n",
              "      flex-wrap:wrap;\n",
              "      gap: 12px;\n",
              "    }\n",
              "\n",
              "    .colab-df-convert {\n",
              "      background-color: #E8F0FE;\n",
              "      border: none;\n",
              "      border-radius: 50%;\n",
              "      cursor: pointer;\n",
              "      display: none;\n",
              "      fill: #1967D2;\n",
              "      height: 32px;\n",
              "      padding: 0 0 0 0;\n",
              "      width: 32px;\n",
              "    }\n",
              "\n",
              "    .colab-df-convert:hover {\n",
              "      background-color: #E2EBFA;\n",
              "      box-shadow: 0px 1px 2px rgba(60, 64, 67, 0.3), 0px 1px 3px 1px rgba(60, 64, 67, 0.15);\n",
              "      fill: #174EA6;\n",
              "    }\n",
              "\n",
              "    [theme=dark] .colab-df-convert {\n",
              "      background-color: #3B4455;\n",
              "      fill: #D2E3FC;\n",
              "    }\n",
              "\n",
              "    [theme=dark] .colab-df-convert:hover {\n",
              "      background-color: #434B5C;\n",
              "      box-shadow: 0px 1px 3px 1px rgba(0, 0, 0, 0.15);\n",
              "      filter: drop-shadow(0px 1px 2px rgba(0, 0, 0, 0.3));\n",
              "      fill: #FFFFFF;\n",
              "    }\n",
              "  </style>\n",
              "\n",
              "      <script>\n",
              "        const buttonEl =\n",
              "          document.querySelector('#df-df4eff9d-d400-48cf-b2b5-321878f8c7ef button.colab-df-convert');\n",
              "        buttonEl.style.display =\n",
              "          google.colab.kernel.accessAllowed ? 'block' : 'none';\n",
              "\n",
              "        async function convertToInteractive(key) {\n",
              "          const element = document.querySelector('#df-df4eff9d-d400-48cf-b2b5-321878f8c7ef');\n",
              "          const dataTable =\n",
              "            await google.colab.kernel.invokeFunction('convertToInteractive',\n",
              "                                                     [key], {});\n",
              "          if (!dataTable) return;\n",
              "\n",
              "          const docLinkHtml = 'Like what you see? Visit the ' +\n",
              "            '<a target=\"_blank\" href=https://colab.research.google.com/notebooks/data_table.ipynb>data table notebook</a>'\n",
              "            + ' to learn more about interactive tables.';\n",
              "          element.innerHTML = '';\n",
              "          dataTable['output_type'] = 'display_data';\n",
              "          await google.colab.output.renderOutput(dataTable, element);\n",
              "          const docLink = document.createElement('div');\n",
              "          docLink.innerHTML = docLinkHtml;\n",
              "          element.appendChild(docLink);\n",
              "        }\n",
              "      </script>\n",
              "    </div>\n",
              "  </div>\n",
              "  "
            ]
          },
          "metadata": {},
          "execution_count": 26
        }
      ]
    },
    {
      "cell_type": "code",
      "source": [
        "fig = make_subplots(rows=2, cols=1)\n",
        "fig.add_trace(go.Scatter(y=metrics['loss'], name='loss'), row=1, col=1)\n",
        "fig.add_trace(go.Scatter(y=metrics['val_loss'], name='val_loss'), row=1, col=1)\n",
        "fig.add_trace(go.Scatter(y=metrics['accuracy'], name='accuracy'), row=2, col=1)\n",
        "fig.add_trace(go.Scatter(y=metrics['val_accuracy'], name='val_accuracy'), row=2, col=1)\n",
        "fig.update_layout(width=800)"
      ],
      "metadata": {
        "id": "pK2Umy_cB5fX"
      },
      "execution_count": null,
      "outputs": []
    },
    {
      "cell_type": "code",
      "source": [
        "from tensorflow.keras.callbacks import EarlyStopping\n",
        "\n",
        "# domyślnie mode='auto'\n",
        "es = EarlyStopping(monitor='val_loss', mode='min', verbose=1, patience=2)\n",
        "\n",
        "model = build_model()\n",
        "history = model.fit(X_train, y_train, epochs=30, validation_split=0.2, batch_size=32, callbacks=[es])"
      ],
      "metadata": {
        "id": "n-7kAeByC10U",
        "outputId": "0838af07-d8c2-4c55-be0e-f9b2b838217c",
        "colab": {
          "base_uri": "https://localhost:8080/"
        }
      },
      "execution_count": 35,
      "outputs": [
        {
          "output_type": "stream",
          "name": "stdout",
          "text": [
            "Train on 48000 samples, validate on 12000 samples\n",
            "Epoch 1/30\n",
            "48000/48000 [==============================] - 6s 126us/sample - loss: 0.3182 - accuracy: 0.9071 - val_loss: 0.1588 - val_accuracy: 0.9543\n",
            "Epoch 2/30\n",
            "48000/48000 [==============================] - 6s 118us/sample - loss: 0.1661 - accuracy: 0.9520 - val_loss: 0.1247 - val_accuracy: 0.9652\n",
            "Epoch 3/30\n",
            "48000/48000 [==============================] - 6s 118us/sample - loss: 0.1322 - accuracy: 0.9628 - val_loss: 0.1147 - val_accuracy: 0.9674\n",
            "Epoch 4/30\n",
            "48000/48000 [==============================] - 7s 145us/sample - loss: 0.1132 - accuracy: 0.9678 - val_loss: 0.1170 - val_accuracy: 0.9679\n",
            "Epoch 5/30\n",
            "48000/48000 [==============================] - 6s 118us/sample - loss: 0.1022 - accuracy: 0.9716 - val_loss: 0.1112 - val_accuracy: 0.9717\n",
            "Epoch 6/30\n",
            "48000/48000 [==============================] - 6s 119us/sample - loss: 0.0945 - accuracy: 0.9741 - val_loss: 0.1118 - val_accuracy: 0.9723\n",
            "Epoch 7/30\n",
            "48000/48000 [==============================] - 6s 120us/sample - loss: 0.0894 - accuracy: 0.9758 - val_loss: 0.1097 - val_accuracy: 0.9729\n",
            "Epoch 8/30\n",
            "48000/48000 [==============================] - 6s 116us/sample - loss: 0.0827 - accuracy: 0.9766 - val_loss: 0.1063 - val_accuracy: 0.9751\n",
            "Epoch 9/30\n",
            "48000/48000 [==============================] - 6s 117us/sample - loss: 0.0800 - accuracy: 0.9783 - val_loss: 0.1161 - val_accuracy: 0.9747\n",
            "Epoch 10/30\n",
            "48000/48000 [==============================] - 6s 118us/sample - loss: 0.0741 - accuracy: 0.9798 - val_loss: 0.1163 - val_accuracy: 0.9757\n",
            "Epoch 00010: early stopping\n"
          ]
        }
      ]
    },
    {
      "cell_type": "code",
      "source": [
        "metrics = pd.DataFrame(history.history)\n",
        "metrics.head()"
      ],
      "metadata": {
        "id": "mOa5A7lGEPjN"
      },
      "execution_count": null,
      "outputs": []
    },
    {
      "cell_type": "code",
      "source": [
        "fig = make_subplots(rows=2, cols=1)\n",
        "fig.add_trace(go.Scatter(y=metrics['loss'], name='loss'), row=1, col=1)\n",
        "fig.add_trace(go.Scatter(y=metrics['val_loss'], name='val_loss'), row=1, col=1)\n",
        "fig.add_trace(go.Scatter(y=metrics['accuracy'], name='accuracy'), row=2, col=1)\n",
        "fig.add_trace(go.Scatter(y=metrics['val_accuracy'], name='val_accuracy'), row=2, col=1)\n",
        "fig.update_layout(width=800)"
      ],
      "metadata": {
        "id": "KG7ct11qERs3"
      },
      "execution_count": null,
      "outputs": []
    },
    {
      "cell_type": "markdown",
      "source": [
        "Tensorboard"
      ],
      "metadata": {
        "id": "AZDByIsQGUVD"
      }
    },
    {
      "cell_type": "code",
      "source": [
        "from tensorflow.keras.callbacks import TensorBoard\n",
        "from datetime import datetime as dt\n",
        "\n",
        "!rm -rf ./logs\n",
        "log_dir = 'logs/fit/' + dt.now().strftime('%Y%m%d-%H%M%S')\n",
        "tensorboard = TensorBoard(log_dir=log_dir)"
      ],
      "metadata": {
        "id": "wKmCNGFFGU5T"
      },
      "execution_count": 36,
      "outputs": []
    },
    {
      "cell_type": "code",
      "source": [
        "model = build_model()\n",
        "history = model.fit(X_train, y_train, epochs=3, validation_split=0.2, batch_size=32, callbacks=[tensorboard])"
      ],
      "metadata": {
        "id": "ghlk6rpVGZpU",
        "outputId": "896adb77-ccf7-4cc5-9be1-c4f76d365981",
        "colab": {
          "base_uri": "https://localhost:8080/"
        }
      },
      "execution_count": 37,
      "outputs": [
        {
          "output_type": "stream",
          "name": "stdout",
          "text": [
            "Train on 48000 samples, validate on 12000 samples\n",
            "Epoch 1/3\n",
            "48000/48000 [==============================] - 7s 136us/sample - loss: 0.3179 - accuracy: 0.9066 - val_loss: 0.1616 - val_accuracy: 0.9531\n",
            "Epoch 2/3\n",
            "48000/48000 [==============================] - 6s 118us/sample - loss: 0.1644 - accuracy: 0.9514 - val_loss: 0.1246 - val_accuracy: 0.9660\n",
            "Epoch 3/3\n",
            "48000/48000 [==============================] - 6s 120us/sample - loss: 0.1315 - accuracy: 0.9621 - val_loss: 0.1120 - val_accuracy: 0.9678\n"
          ]
        }
      ]
    },
    {
      "cell_type": "code",
      "source": [
        "%load_ext tensorboard"
      ],
      "metadata": {
        "id": "rLfSUQlCGqd4"
      },
      "execution_count": 38,
      "outputs": []
    },
    {
      "cell_type": "code",
      "source": [
        "%tensorboard --logdir logs/fit"
      ],
      "metadata": {
        "id": "YsFMApvXGsx0"
      },
      "execution_count": null,
      "outputs": []
    }
  ]
}
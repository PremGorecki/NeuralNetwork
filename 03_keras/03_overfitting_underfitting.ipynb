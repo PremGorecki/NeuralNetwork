{
  "nbformat": 4,
  "nbformat_minor": 0,
  "metadata": {
    "colab": {
      "provenance": [],
      "authorship_tag": "ABX9TyPllg23W2amGuoUBc53xz9i",
      "include_colab_link": true
    },
    "kernelspec": {
      "name": "python3",
      "display_name": "Python 3"
    },
    "language_info": {
      "name": "python"
    }
  },
  "cells": [
    {
      "cell_type": "markdown",
      "metadata": {
        "id": "view-in-github",
        "colab_type": "text"
      },
      "source": [
        "<a href=\"https://colab.research.google.com/github/PremGorecki/NeuralNetwork/blob/main/03_keras/03_overfitting_underfitting.ipynb\" target=\"_parent\"><img src=\"https://colab.research.google.com/assets/colab-badge.svg\" alt=\"Open In Colab\"/></a>"
      ]
    },
    {
      "cell_type": "markdown",
      "source": [
        "1. Import bibliotek"
      ],
      "metadata": {
        "id": "NeqA1dwzWPir"
      }
    },
    {
      "cell_type": "code",
      "execution_count": null,
      "metadata": {
        "id": "9j7c3grLD7rY"
      },
      "outputs": [],
      "source": [
        "# Przygotowanie środowiska do pracy z Tensorflow 2.0.\n",
        "# Jeśli otrzymasz błąd podczas instalacji Tensorflow uruchom tę komórkę raz jeszcze.\n",
        "\n",
        "!pip uninstall -y tensorflow\n",
        "!pip install -q tensorflow==2.0.0"
      ]
    },
    {
      "cell_type": "code",
      "source": [
        "import numpy as np\n",
        "import pandas as pd\n",
        "import matplotlib.pyplot as plt\n",
        "import seaborn as sns\n",
        "import pickle\n",
        "\n",
        "import tensorflow as tf\n",
        "from tensorflow.keras.datasets import imdb\n",
        "from tensorflow.keras.datasets.imdb import get_word_index\n",
        "from tensorflow.keras.utils import get_file\n",
        "from tensorflow.keras.models import Sequential\n",
        "from tensorflow.keras.layers import Dense\n",
        "\n",
        "sns.set()\n",
        "tf.__version__"
      ],
      "metadata": {
        "id": "FJFQYVHmWmnZ",
        "outputId": "ecd77ec3-b23c-45eb-f819-f796f03b7c73",
        "colab": {
          "base_uri": "https://localhost:8080/",
          "height": 35
        }
      },
      "execution_count": 3,
      "outputs": [
        {
          "output_type": "execute_result",
          "data": {
            "text/plain": [
              "'2.0.0'"
            ],
            "application/vnd.google.colaboratory.intrinsic+json": {
              "type": "string"
            }
          },
          "metadata": {},
          "execution_count": 3
        }
      ]
    },
    {
      "cell_type": "markdown",
      "source": [
        "2. Załadowanie i przygotowanie danych"
      ],
      "metadata": {
        "id": "IcH10obUWu5i"
      }
    },
    {
      "cell_type": "code",
      "source": [
        "NUM_WORDS = 10000   # 10000 najczęściej pojawiających się słów\n",
        "INDEX_FROM = 3\n",
        "\n",
        "(train_data, train_labels), (test_data, test_labels) = imdb.load_data(num_words=NUM_WORDS, index_from=INDEX_FROM)"
      ],
      "metadata": {
        "id": "NxhLXPqVWwRj"
      },
      "execution_count": null,
      "outputs": []
    },
    {
      "cell_type": "code",
      "source": [
        "print(f'train_data shape: {train_data.shape}')\n",
        "print(f'test_data shape: {test_data.shape}')"
      ],
      "metadata": {
        "id": "Gym7hJSPW6er",
        "outputId": "45903f6f-a5c0-49f4-f1dc-1b80e58d8411",
        "colab": {
          "base_uri": "https://localhost:8080/"
        }
      },
      "execution_count": 5,
      "outputs": [
        {
          "output_type": "stream",
          "name": "stdout",
          "text": [
            "train_data shape: (25000,)\n",
            "test_data shape: (25000,)\n"
          ]
        }
      ]
    },
    {
      "cell_type": "code",
      "source": [
        "print(train_data[0])"
      ],
      "metadata": {
        "id": "JYOKYCDAXLvs"
      },
      "execution_count": null,
      "outputs": []
    },
    {
      "cell_type": "code",
      "source": [
        "# jak wygląda na recenzja z tego train_data[0]\n",
        "word_to_idx = get_word_index()\n",
        "word_to_idx = {k:(v + INDEX_FROM) for k, v in word_to_idx.items()}\n",
        "word_to_idx['<PAD>'] = 0\n",
        "word_to_idx['<START>'] = 1\n",
        "word_to_idx['<UNK>'] = 2\n",
        "word_to_idx['<UNUSED>'] = 3\n",
        "idx_to_word = {v: k for k, v in word_to_idx.items()}\n",
        "list(idx_to_word.items())[:10]\n",
        "print(' '.join(idx_to_word[idx] for idx in train_data[0]))"
      ],
      "metadata": {
        "id": "wzTS8wo1XQxl"
      },
      "execution_count": null,
      "outputs": []
    },
    {
      "cell_type": "code",
      "source": [
        "train_labels[:10]"
      ],
      "metadata": {
        "id": "MCF64EM5Ygpc"
      },
      "execution_count": null,
      "outputs": []
    },
    {
      "cell_type": "code",
      "source": [
        "# kodowanie gorące jedynkowe\n",
        "def multi_hot_sequences(sequences, dimension):\n",
        "    results = np.zeros((len(sequences), dimension)) #pusta macierz zawierająca same zera\n",
        "    for i, word_indices in enumerate(sequences):\n",
        "        results[i, word_indices] = 1.0\n",
        "    return results\n",
        "\n",
        "train_data = multi_hot_sequences(train_data, dimension=NUM_WORDS)\n",
        "test_data = multi_hot_sequences(test_data, dimension=NUM_WORDS)\n",
        "train_data.shape"
      ],
      "metadata": {
        "id": "oqaHQm-nYkXE"
      },
      "execution_count": null,
      "outputs": []
    },
    {
      "cell_type": "code",
      "source": [
        "test_data.shape"
      ],
      "metadata": {
        "id": "RXS9w0xbZOjO"
      },
      "execution_count": null,
      "outputs": []
    },
    {
      "cell_type": "markdown",
      "source": [
        "3. Budowa modelu bazowego"
      ],
      "metadata": {
        "id": "lrRIaR3SZR2L"
      }
    },
    {
      "cell_type": "code",
      "source": [
        "baseline_model = Sequential()\n",
        "baseline_model.add(Dense(16, activation='relu', input_shape=(NUM_WORDS,)))\n",
        "baseline_model.add(Dense(16, activation='relu'))\n",
        "baseline_model.add(Dense(1, activation='sigmoid'))\n",
        "\n",
        "baseline_model.compile(optimizer='adam',\n",
        "                       loss='binary_crossentropy',\n",
        "                       #podajemy tu dwie metryki\n",
        "                       metrics=['accuracy', 'binary_crossentropy'])\n",
        "\n",
        "baseline_model.summary()"
      ],
      "metadata": {
        "id": "CY-FZZ3ZZSrt"
      },
      "execution_count": null,
      "outputs": []
    },
    {
      "cell_type": "code",
      "source": [
        "baseline_history = baseline_model.fit(train_data, train_labels, epochs=20, batch_size=512, validation_data=(test_data, test_labels))"
      ],
      "metadata": {
        "id": "rov-6pvHZ_tH",
        "outputId": "d57a053d-d214-459b-d9ab-31476875a7cf",
        "colab": {
          "base_uri": "https://localhost:8080/"
        }
      },
      "execution_count": 13,
      "outputs": [
        {
          "output_type": "stream",
          "name": "stdout",
          "text": [
            "Train on 25000 samples, validate on 25000 samples\n",
            "Epoch 1/20\n",
            "25000/25000 [==============================] - 4s 161us/sample - loss: 0.4770 - accuracy: 0.8137 - binary_crossentropy: 0.4770 - val_loss: 0.3322 - val_accuracy: 0.8801 - val_binary_crossentropy: 0.3322\n",
            "Epoch 2/20\n",
            "25000/25000 [==============================] - 3s 124us/sample - loss: 0.2459 - accuracy: 0.9150 - binary_crossentropy: 0.2459 - val_loss: 0.2825 - val_accuracy: 0.8887 - val_binary_crossentropy: 0.2825\n",
            "Epoch 3/20\n",
            "25000/25000 [==============================] - 3s 124us/sample - loss: 0.1822 - accuracy: 0.9362 - binary_crossentropy: 0.1822 - val_loss: 0.2892 - val_accuracy: 0.8852 - val_binary_crossentropy: 0.2892\n",
            "Epoch 4/20\n",
            "25000/25000 [==============================] - 3s 123us/sample - loss: 0.1456 - accuracy: 0.9516 - binary_crossentropy: 0.1456 - val_loss: 0.3108 - val_accuracy: 0.8798 - val_binary_crossentropy: 0.3108\n",
            "Epoch 5/20\n",
            "25000/25000 [==============================] - 3s 121us/sample - loss: 0.1217 - accuracy: 0.9611 - binary_crossentropy: 0.1217 - val_loss: 0.3383 - val_accuracy: 0.8733 - val_binary_crossentropy: 0.3383\n",
            "Epoch 6/20\n",
            "25000/25000 [==============================] - 3s 121us/sample - loss: 0.1015 - accuracy: 0.9678 - binary_crossentropy: 0.1015 - val_loss: 0.3741 - val_accuracy: 0.8683 - val_binary_crossentropy: 0.3741\n",
            "Epoch 7/20\n",
            "25000/25000 [==============================] - 3s 122us/sample - loss: 0.0854 - accuracy: 0.9750 - binary_crossentropy: 0.0854 - val_loss: 0.4046 - val_accuracy: 0.8669 - val_binary_crossentropy: 0.4046\n",
            "Epoch 8/20\n",
            "25000/25000 [==============================] - 3s 121us/sample - loss: 0.0720 - accuracy: 0.9808 - binary_crossentropy: 0.0720 - val_loss: 0.4440 - val_accuracy: 0.8634 - val_binary_crossentropy: 0.4440\n",
            "Epoch 9/20\n",
            "25000/25000 [==============================] - 3s 121us/sample - loss: 0.0603 - accuracy: 0.9854 - binary_crossentropy: 0.0603 - val_loss: 0.4864 - val_accuracy: 0.8604 - val_binary_crossentropy: 0.4864\n",
            "Epoch 10/20\n",
            "25000/25000 [==============================] - 4s 160us/sample - loss: 0.0502 - accuracy: 0.9889 - binary_crossentropy: 0.0502 - val_loss: 0.5236 - val_accuracy: 0.8592 - val_binary_crossentropy: 0.5236\n",
            "Epoch 11/20\n",
            "25000/25000 [==============================] - 3s 121us/sample - loss: 0.0430 - accuracy: 0.9914 - binary_crossentropy: 0.0430 - val_loss: 0.5766 - val_accuracy: 0.8542 - val_binary_crossentropy: 0.5766\n",
            "Epoch 12/20\n",
            "25000/25000 [==============================] - 3s 123us/sample - loss: 0.0352 - accuracy: 0.9937 - binary_crossentropy: 0.0352 - val_loss: 0.6133 - val_accuracy: 0.8524 - val_binary_crossentropy: 0.6133\n",
            "Epoch 13/20\n",
            "25000/25000 [==============================] - 3s 123us/sample - loss: 0.0287 - accuracy: 0.9958 - binary_crossentropy: 0.0287 - val_loss: 0.6557 - val_accuracy: 0.8522 - val_binary_crossentropy: 0.6557\n",
            "Epoch 14/20\n",
            "25000/25000 [==============================] - 3s 122us/sample - loss: 0.0230 - accuracy: 0.9970 - binary_crossentropy: 0.0230 - val_loss: 0.6931 - val_accuracy: 0.8519 - val_binary_crossentropy: 0.6931\n",
            "Epoch 15/20\n",
            "25000/25000 [==============================] - 3s 120us/sample - loss: 0.0188 - accuracy: 0.9978 - binary_crossentropy: 0.0188 - val_loss: 0.7355 - val_accuracy: 0.8500 - val_binary_crossentropy: 0.7355\n",
            "Epoch 16/20\n",
            "25000/25000 [==============================] - 3s 121us/sample - loss: 0.0152 - accuracy: 0.9989 - binary_crossentropy: 0.0152 - val_loss: 0.7723 - val_accuracy: 0.8490 - val_binary_crossentropy: 0.7723\n",
            "Epoch 17/20\n",
            "25000/25000 [==============================] - 3s 121us/sample - loss: 0.0121 - accuracy: 0.9991 - binary_crossentropy: 0.0121 - val_loss: 0.8068 - val_accuracy: 0.8492 - val_binary_crossentropy: 0.8068\n",
            "Epoch 18/20\n",
            "25000/25000 [==============================] - 3s 121us/sample - loss: 0.0101 - accuracy: 0.9995 - binary_crossentropy: 0.0101 - val_loss: 0.8514 - val_accuracy: 0.8480 - val_binary_crossentropy: 0.8514\n",
            "Epoch 19/20\n",
            "25000/25000 [==============================] - 3s 121us/sample - loss: 0.0081 - accuracy: 0.9997 - binary_crossentropy: 0.0081 - val_loss: 0.8832 - val_accuracy: 0.8470 - val_binary_crossentropy: 0.8832\n",
            "Epoch 20/20\n",
            "25000/25000 [==============================] - 3s 120us/sample - loss: 0.0065 - accuracy: 0.9997 - binary_crossentropy: 0.0065 - val_loss: 0.9209 - val_accuracy: 0.8469 - val_binary_crossentropy: 0.9209\n"
          ]
        }
      ]
    },
    {
      "cell_type": "markdown",
      "source": [
        "3. Budowa 'mniejszego' modelu"
      ],
      "metadata": {
        "id": "oHhwVmMpay7d"
      }
    },
    {
      "cell_type": "code",
      "source": [
        "smaller_model = Sequential()\n",
        "smaller_model.add(Dense(4, activation='relu', input_shape=(NUM_WORDS,)))\n",
        "smaller_model.add(Dense(4, activation='relu'))\n",
        "smaller_model.add(Dense(1, activation='sigmoid'))\n",
        "\n",
        "smaller_model.compile(optimizer='adam',\n",
        "                       loss='binary_crossentropy',\n",
        "                       metrics=['accuracy', 'binary_crossentropy'])\n",
        "\n",
        "smaller_model.summary()"
      ],
      "metadata": {
        "id": "yjQP7xEka065"
      },
      "execution_count": null,
      "outputs": []
    },
    {
      "cell_type": "code",
      "source": [
        "smaller_history = smaller_model.fit(train_data, train_labels, epochs=20, batch_size=512, validation_data=(test_data, test_labels))"
      ],
      "metadata": {
        "id": "S-gGhccsbD0Q",
        "outputId": "d440f3af-20b1-44e7-e4ea-90d2d78eca12",
        "colab": {
          "base_uri": "https://localhost:8080/"
        }
      },
      "execution_count": 15,
      "outputs": [
        {
          "output_type": "stream",
          "name": "stdout",
          "text": [
            "Train on 25000 samples, validate on 25000 samples\n",
            "Epoch 1/20\n",
            "25000/25000 [==============================] - 3s 139us/sample - loss: 0.5760 - accuracy: 0.7603 - binary_crossentropy: 0.5760 - val_loss: 0.4641 - val_accuracy: 0.8522 - val_binary_crossentropy: 0.4641\n",
            "Epoch 2/20\n",
            "25000/25000 [==============================] - 3s 114us/sample - loss: 0.3723 - accuracy: 0.8843 - binary_crossentropy: 0.3723 - val_loss: 0.3524 - val_accuracy: 0.8768 - val_binary_crossentropy: 0.3524\n",
            "Epoch 3/20\n",
            "25000/25000 [==============================] - 3s 113us/sample - loss: 0.2787 - accuracy: 0.9099 - binary_crossentropy: 0.2787 - val_loss: 0.3067 - val_accuracy: 0.8840 - val_binary_crossentropy: 0.3067\n",
            "Epoch 4/20\n",
            "25000/25000 [==============================] - 3s 114us/sample - loss: 0.2291 - accuracy: 0.9243 - binary_crossentropy: 0.2291 - val_loss: 0.2895 - val_accuracy: 0.8867 - val_binary_crossentropy: 0.2895\n",
            "Epoch 5/20\n",
            "25000/25000 [==============================] - 3s 114us/sample - loss: 0.1971 - accuracy: 0.9340 - binary_crossentropy: 0.1971 - val_loss: 0.2838 - val_accuracy: 0.8877 - val_binary_crossentropy: 0.2838\n",
            "Epoch 6/20\n",
            "25000/25000 [==============================] - 3s 113us/sample - loss: 0.1728 - accuracy: 0.9427 - binary_crossentropy: 0.1728 - val_loss: 0.2865 - val_accuracy: 0.8858 - val_binary_crossentropy: 0.2865\n",
            "Epoch 7/20\n",
            "25000/25000 [==============================] - 3s 114us/sample - loss: 0.1547 - accuracy: 0.9492 - binary_crossentropy: 0.1547 - val_loss: 0.2903 - val_accuracy: 0.8849 - val_binary_crossentropy: 0.2903\n",
            "Epoch 8/20\n",
            "25000/25000 [==============================] - 3s 114us/sample - loss: 0.1391 - accuracy: 0.9552 - binary_crossentropy: 0.1391 - val_loss: 0.2984 - val_accuracy: 0.8831 - val_binary_crossentropy: 0.2984\n",
            "Epoch 9/20\n",
            "25000/25000 [==============================] - 3s 114us/sample - loss: 0.1264 - accuracy: 0.9605 - binary_crossentropy: 0.1264 - val_loss: 0.3090 - val_accuracy: 0.8812 - val_binary_crossentropy: 0.3090\n",
            "Epoch 10/20\n",
            "25000/25000 [==============================] - 3s 115us/sample - loss: 0.1153 - accuracy: 0.9641 - binary_crossentropy: 0.1153 - val_loss: 0.3243 - val_accuracy: 0.8767 - val_binary_crossentropy: 0.3243\n",
            "Epoch 11/20\n",
            "25000/25000 [==============================] - 3s 114us/sample - loss: 0.1058 - accuracy: 0.9681 - binary_crossentropy: 0.1058 - val_loss: 0.3353 - val_accuracy: 0.8756 - val_binary_crossentropy: 0.3353\n",
            "Epoch 12/20\n",
            "25000/25000 [==============================] - 3s 116us/sample - loss: 0.0966 - accuracy: 0.9718 - binary_crossentropy: 0.0966 - val_loss: 0.3517 - val_accuracy: 0.8718 - val_binary_crossentropy: 0.3517\n",
            "Epoch 13/20\n",
            "25000/25000 [==============================] - 3s 114us/sample - loss: 0.0882 - accuracy: 0.9751 - binary_crossentropy: 0.0882 - val_loss: 0.3674 - val_accuracy: 0.8701 - val_binary_crossentropy: 0.3674\n",
            "Epoch 14/20\n",
            "25000/25000 [==============================] - 3s 115us/sample - loss: 0.0807 - accuracy: 0.9789 - binary_crossentropy: 0.0807 - val_loss: 0.3820 - val_accuracy: 0.8698 - val_binary_crossentropy: 0.3820\n",
            "Epoch 15/20\n",
            "25000/25000 [==============================] - 3s 114us/sample - loss: 0.0742 - accuracy: 0.9806 - binary_crossentropy: 0.0742 - val_loss: 0.3996 - val_accuracy: 0.8680 - val_binary_crossentropy: 0.3996\n",
            "Epoch 16/20\n",
            "25000/25000 [==============================] - 3s 112us/sample - loss: 0.0680 - accuracy: 0.9830 - binary_crossentropy: 0.0680 - val_loss: 0.4176 - val_accuracy: 0.8666 - val_binary_crossentropy: 0.4176\n",
            "Epoch 17/20\n",
            "25000/25000 [==============================] - 3s 116us/sample - loss: 0.0622 - accuracy: 0.9855 - binary_crossentropy: 0.0622 - val_loss: 0.4479 - val_accuracy: 0.8619 - val_binary_crossentropy: 0.4479\n",
            "Epoch 18/20\n",
            "25000/25000 [==============================] - 4s 155us/sample - loss: 0.0574 - accuracy: 0.9874 - binary_crossentropy: 0.0574 - val_loss: 0.4572 - val_accuracy: 0.8632 - val_binary_crossentropy: 0.4572\n",
            "Epoch 19/20\n",
            "25000/25000 [==============================] - 3s 114us/sample - loss: 0.0521 - accuracy: 0.9897 - binary_crossentropy: 0.0521 - val_loss: 0.4791 - val_accuracy: 0.8608 - val_binary_crossentropy: 0.4791\n",
            "Epoch 20/20\n",
            "25000/25000 [==============================] - 3s 115us/sample - loss: 0.0475 - accuracy: 0.9910 - binary_crossentropy: 0.0475 - val_loss: 0.4992 - val_accuracy: 0.8595 - val_binary_crossentropy: 0.4992\n"
          ]
        }
      ]
    },
    {
      "cell_type": "code",
      "source": [
        "4. Budowa 'większego' modelu"
      ],
      "metadata": {
        "id": "fRdGbCS0bZqg"
      },
      "execution_count": null,
      "outputs": []
    },
    {
      "cell_type": "code",
      "source": [
        "bigger_model = Sequential()\n",
        "bigger_model.add(Dense(512, activation='relu', input_shape=(NUM_WORDS,)))\n",
        "bigger_model.add(Dense(512, activation='relu'))\n",
        "bigger_model.add(Dense(1, activation='sigmoid'))\n",
        "\n",
        "bigger_model.compile(optimizer='adam',\n",
        "                       loss='binary_crossentropy',\n",
        "                       metrics=['accuracy', 'binary_crossentropy'])\n",
        "\n",
        "bigger_model.summary()"
      ],
      "metadata": {
        "id": "aeWhdLuLbc5_"
      },
      "execution_count": null,
      "outputs": []
    },
    {
      "cell_type": "code",
      "source": [
        "bigger_history = bigger_model.fit(train_data, train_labels, epochs=20, batch_size=512, validation_data=(test_data, test_labels))"
      ],
      "metadata": {
        "id": "h0C0a41Mbhhx",
        "outputId": "ce9f6094-d498-44f8-936d-6efe188cc615",
        "colab": {
          "base_uri": "https://localhost:8080/"
        }
      },
      "execution_count": 17,
      "outputs": [
        {
          "output_type": "stream",
          "name": "stdout",
          "text": [
            "Train on 25000 samples, validate on 25000 samples\n",
            "Epoch 1/20\n",
            "25000/25000 [==============================] - 17s 698us/sample - loss: 0.3462 - accuracy: 0.8528 - binary_crossentropy: 0.3462 - val_loss: 0.2921 - val_accuracy: 0.8793 - val_binary_crossentropy: 0.2921\n",
            "Epoch 2/20\n",
            "25000/25000 [==============================] - 17s 676us/sample - loss: 0.1423 - accuracy: 0.9474 - binary_crossentropy: 0.1423 - val_loss: 0.3369 - val_accuracy: 0.8738 - val_binary_crossentropy: 0.3369\n",
            "Epoch 3/20\n",
            "25000/25000 [==============================] - 17s 676us/sample - loss: 0.0481 - accuracy: 0.9852 - binary_crossentropy: 0.0481 - val_loss: 0.4464 - val_accuracy: 0.8680 - val_binary_crossentropy: 0.4464\n",
            "Epoch 4/20\n",
            "25000/25000 [==============================] - 17s 671us/sample - loss: 0.0075 - accuracy: 0.9990 - binary_crossentropy: 0.0075 - val_loss: 0.5814 - val_accuracy: 0.8682 - val_binary_crossentropy: 0.5814\n",
            "Epoch 5/20\n",
            "25000/25000 [==============================] - 18s 710us/sample - loss: 0.0011 - accuracy: 1.0000 - binary_crossentropy: 0.0011 - val_loss: 0.6777 - val_accuracy: 0.8695 - val_binary_crossentropy: 0.6777\n",
            "Epoch 6/20\n",
            "25000/25000 [==============================] - 17s 677us/sample - loss: 2.5170e-04 - accuracy: 1.0000 - binary_crossentropy: 2.5170e-04 - val_loss: 0.7210 - val_accuracy: 0.8704 - val_binary_crossentropy: 0.7210\n",
            "Epoch 7/20\n",
            "25000/25000 [==============================] - 17s 676us/sample - loss: 1.4652e-04 - accuracy: 1.0000 - binary_crossentropy: 1.4652e-04 - val_loss: 0.7531 - val_accuracy: 0.8702 - val_binary_crossentropy: 0.7531\n",
            "Epoch 8/20\n",
            "25000/25000 [==============================] - 17s 696us/sample - loss: 1.0474e-04 - accuracy: 1.0000 - binary_crossentropy: 1.0474e-04 - val_loss: 0.7762 - val_accuracy: 0.8701 - val_binary_crossentropy: 0.7762\n",
            "Epoch 9/20\n",
            "25000/25000 [==============================] - 17s 672us/sample - loss: 8.0447e-05 - accuracy: 1.0000 - binary_crossentropy: 8.0447e-05 - val_loss: 0.7957 - val_accuracy: 0.8700 - val_binary_crossentropy: 0.7957\n",
            "Epoch 10/20\n",
            "25000/25000 [==============================] - 17s 671us/sample - loss: 6.4365e-05 - accuracy: 1.0000 - binary_crossentropy: 6.4365e-05 - val_loss: 0.8115 - val_accuracy: 0.8704 - val_binary_crossentropy: 0.8115\n",
            "Epoch 11/20\n",
            "25000/25000 [==============================] - 17s 678us/sample - loss: 5.2936e-05 - accuracy: 1.0000 - binary_crossentropy: 5.2936e-05 - val_loss: 0.8264 - val_accuracy: 0.8702 - val_binary_crossentropy: 0.8264\n",
            "Epoch 12/20\n",
            "25000/25000 [==============================] - 17s 673us/sample - loss: 4.4292e-05 - accuracy: 1.0000 - binary_crossentropy: 4.4292e-05 - val_loss: 0.8395 - val_accuracy: 0.8702 - val_binary_crossentropy: 0.8395\n",
            "Epoch 13/20\n",
            "25000/25000 [==============================] - 17s 675us/sample - loss: 3.7595e-05 - accuracy: 1.0000 - binary_crossentropy: 3.7595e-05 - val_loss: 0.8513 - val_accuracy: 0.8702 - val_binary_crossentropy: 0.8513\n",
            "Epoch 14/20\n",
            "25000/25000 [==============================] - 18s 711us/sample - loss: 3.2377e-05 - accuracy: 1.0000 - binary_crossentropy: 3.2377e-05 - val_loss: 0.8626 - val_accuracy: 0.8701 - val_binary_crossentropy: 0.8626\n",
            "Epoch 15/20\n",
            "25000/25000 [==============================] - 17s 669us/sample - loss: 2.8131e-05 - accuracy: 1.0000 - binary_crossentropy: 2.8131e-05 - val_loss: 0.8724 - val_accuracy: 0.8702 - val_binary_crossentropy: 0.8724\n",
            "Epoch 16/20\n",
            "25000/25000 [==============================] - 17s 675us/sample - loss: 2.4657e-05 - accuracy: 1.0000 - binary_crossentropy: 2.4657e-05 - val_loss: 0.8824 - val_accuracy: 0.8701 - val_binary_crossentropy: 0.8824\n",
            "Epoch 17/20\n",
            "25000/25000 [==============================] - 17s 672us/sample - loss: 2.1794e-05 - accuracy: 1.0000 - binary_crossentropy: 2.1794e-05 - val_loss: 0.8914 - val_accuracy: 0.8701 - val_binary_crossentropy: 0.8914\n",
            "Epoch 18/20\n",
            "25000/25000 [==============================] - 17s 672us/sample - loss: 1.9370e-05 - accuracy: 1.0000 - binary_crossentropy: 1.9370e-05 - val_loss: 0.9000 - val_accuracy: 0.8700 - val_binary_crossentropy: 0.9000\n",
            "Epoch 19/20\n",
            "25000/25000 [==============================] - 17s 674us/sample - loss: 1.7323e-05 - accuracy: 1.0000 - binary_crossentropy: 1.7323e-05 - val_loss: 0.9085 - val_accuracy: 0.8701 - val_binary_crossentropy: 0.9085\n",
            "Epoch 20/20\n",
            "25000/25000 [==============================] - 17s 680us/sample - loss: 1.5558e-05 - accuracy: 1.0000 - binary_crossentropy: 1.5558e-05 - val_loss: 0.9160 - val_accuracy: 0.8700 - val_binary_crossentropy: 0.9160\n"
          ]
        }
      ]
    },
    {
      "cell_type": "code",
      "source": [
        "hist = pd.DataFrame(baseline_history.history)\n",
        "hist['epoch'] = baseline_history.epoch\n",
        "hist.tail()"
      ],
      "metadata": {
        "id": "QKLtuLaVdAB3"
      },
      "execution_count": null,
      "outputs": []
    },
    {
      "cell_type": "markdown",
      "source": [
        "5. Porównanie wydajności modeli"
      ],
      "metadata": {
        "id": "aaJsnqc4dJtG"
      }
    },
    {
      "cell_type": "code",
      "source": [
        "import plotly.graph_objects as go\n",
        "\n",
        "fig = go.Figure()\n",
        "for name, history in zip(['smaller', 'baseline', 'bigger'], [smaller_history, baseline_history, bigger_history]):\n",
        "    hist = pd.DataFrame(history.history)\n",
        "    hist['epoch'] = history.epoch\n",
        "    fig.add_trace(go.Scatter(x=hist['epoch'], y=hist['binary_crossentropy'], name=name + '_binary_crossentropy', mode='lines+markers'))\n",
        "    fig.add_trace(go.Scatter(x=hist['epoch'], y=hist['val_binary_crossentropy'], name=name + '_val_binary_crossentropy', mode='lines+markers'))\n",
        "    fig.update_layout(xaxis_title='Epoki', yaxis_title='binary_crossentropy')\n",
        "fig.show()"
      ],
      "metadata": {
        "id": "5jtZBHeYdMAk"
      },
      "execution_count": null,
      "outputs": []
    },
    {
      "cell_type": "markdown",
      "source": [
        "6. Metody regularyzacji"
      ],
      "metadata": {
        "id": "BrDkfylMhk0T"
      }
    },
    {
      "cell_type": "code",
      "source": [
        "from tensorflow.keras.regularizers import l2\n",
        "\n",
        "l2_model = Sequential()\n",
        "l2_model.add(Dense(16, kernel_regularizer=l2(0.001), activation='relu', input_shape=(NUM_WORDS,)))\n",
        "l2_model.add(Dense(16, kernel_regularizer=l2(0.01), activation='relu'))\n",
        "l2_model.add(Dense(1, activation='sigmoid'))\n",
        "\n",
        "l2_model.compile(optimizer='adam',\n",
        "                 loss='binary_crossentropy',\n",
        "                 metrics=['accuracy', 'binary_crossentropy'])\n",
        "\n",
        "l2_model.summary()"
      ],
      "metadata": {
        "id": "8DsSsfC6hnxY"
      },
      "execution_count": null,
      "outputs": []
    },
    {
      "cell_type": "code",
      "source": [
        "l2_model_history = l2_model.fit(train_data, train_labels, epochs=20, batch_size=512, validation_data=(test_data, test_labels))"
      ],
      "metadata": {
        "id": "oErwZXnadEx3",
        "outputId": "e8f0936f-f4a8-4177-b263-45c1fa116b5e",
        "colab": {
          "base_uri": "https://localhost:8080/"
        }
      },
      "execution_count": 22,
      "outputs": [
        {
          "output_type": "stream",
          "name": "stdout",
          "text": [
            "Train on 25000 samples, validate on 25000 samples\n",
            "Epoch 1/20\n",
            "25000/25000 [==============================] - 4s 163us/sample - loss: 0.6575 - accuracy: 0.8035 - binary_crossentropy: 0.4987 - val_loss: 0.4986 - val_accuracy: 0.8764 - val_binary_crossentropy: 0.3485\n",
            "Epoch 2/20\n",
            "25000/25000 [==============================] - 3s 126us/sample - loss: 0.4127 - accuracy: 0.9057 - binary_crossentropy: 0.2658 - val_loss: 0.4286 - val_accuracy: 0.8880 - val_binary_crossentropy: 0.2871\n",
            "Epoch 3/20\n",
            "25000/25000 [==============================] - 3s 127us/sample - loss: 0.3462 - accuracy: 0.9275 - binary_crossentropy: 0.2094 - val_loss: 0.4140 - val_accuracy: 0.8872 - val_binary_crossentropy: 0.2831\n",
            "Epoch 4/20\n",
            "25000/25000 [==============================] - 3s 130us/sample - loss: 0.3115 - accuracy: 0.9374 - binary_crossentropy: 0.1850 - val_loss: 0.4103 - val_accuracy: 0.8830 - val_binary_crossentropy: 0.2885\n",
            "Epoch 5/20\n",
            "25000/25000 [==============================] - 3s 124us/sample - loss: 0.2900 - accuracy: 0.9430 - binary_crossentropy: 0.1715 - val_loss: 0.4065 - val_accuracy: 0.8817 - val_binary_crossentropy: 0.2920\n",
            "Epoch 6/20\n",
            "25000/25000 [==============================] - 3s 127us/sample - loss: 0.2718 - accuracy: 0.9466 - binary_crossentropy: 0.1597 - val_loss: 0.4066 - val_accuracy: 0.8811 - val_binary_crossentropy: 0.2979\n",
            "Epoch 7/20\n",
            "25000/25000 [==============================] - 3s 126us/sample - loss: 0.2585 - accuracy: 0.9502 - binary_crossentropy: 0.1516 - val_loss: 0.4066 - val_accuracy: 0.8789 - val_binary_crossentropy: 0.3021\n",
            "Epoch 8/20\n",
            "25000/25000 [==============================] - 3s 125us/sample - loss: 0.2474 - accuracy: 0.9519 - binary_crossentropy: 0.1445 - val_loss: 0.4111 - val_accuracy: 0.8779 - val_binary_crossentropy: 0.3103\n",
            "Epoch 9/20\n",
            "25000/25000 [==============================] - 3s 124us/sample - loss: 0.2393 - accuracy: 0.9546 - binary_crossentropy: 0.1397 - val_loss: 0.4141 - val_accuracy: 0.8754 - val_binary_crossentropy: 0.3161\n",
            "Epoch 10/20\n",
            "25000/25000 [==============================] - 3s 127us/sample - loss: 0.2319 - accuracy: 0.9548 - binary_crossentropy: 0.1351 - val_loss: 0.4246 - val_accuracy: 0.8711 - val_binary_crossentropy: 0.3289\n",
            "Epoch 11/20\n",
            "25000/25000 [==============================] - 3s 125us/sample - loss: 0.2293 - accuracy: 0.9549 - binary_crossentropy: 0.1340 - val_loss: 0.4252 - val_accuracy: 0.8717 - val_binary_crossentropy: 0.3308\n",
            "Epoch 12/20\n",
            "25000/25000 [==============================] - 3s 125us/sample - loss: 0.2228 - accuracy: 0.9578 - binary_crossentropy: 0.1288 - val_loss: 0.4250 - val_accuracy: 0.8718 - val_binary_crossentropy: 0.3322\n",
            "Epoch 13/20\n",
            "25000/25000 [==============================] - 3s 125us/sample - loss: 0.2156 - accuracy: 0.9600 - binary_crossentropy: 0.1233 - val_loss: 0.4291 - val_accuracy: 0.8707 - val_binary_crossentropy: 0.3377\n",
            "Epoch 14/20\n",
            "25000/25000 [==============================] - 3s 123us/sample - loss: 0.2129 - accuracy: 0.9585 - binary_crossentropy: 0.1219 - val_loss: 0.4329 - val_accuracy: 0.8697 - val_binary_crossentropy: 0.3425\n",
            "Epoch 15/20\n",
            "25000/25000 [==============================] - 3s 123us/sample - loss: 0.2089 - accuracy: 0.9614 - binary_crossentropy: 0.1186 - val_loss: 0.4381 - val_accuracy: 0.8686 - val_binary_crossentropy: 0.3482\n",
            "Epoch 16/20\n",
            "25000/25000 [==============================] - 3s 124us/sample - loss: 0.2055 - accuracy: 0.9629 - binary_crossentropy: 0.1158 - val_loss: 0.4387 - val_accuracy: 0.8686 - val_binary_crossentropy: 0.3496\n",
            "Epoch 17/20\n",
            "25000/25000 [==============================] - 3s 124us/sample - loss: 0.2014 - accuracy: 0.9646 - binary_crossentropy: 0.1125 - val_loss: 0.4446 - val_accuracy: 0.8670 - val_binary_crossentropy: 0.3562\n",
            "Epoch 18/20\n",
            "25000/25000 [==============================] - 3s 124us/sample - loss: 0.1997 - accuracy: 0.9634 - binary_crossentropy: 0.1112 - val_loss: 0.4459 - val_accuracy: 0.8673 - val_binary_crossentropy: 0.3577\n",
            "Epoch 19/20\n",
            "25000/25000 [==============================] - 3s 126us/sample - loss: 0.1968 - accuracy: 0.9654 - binary_crossentropy: 0.1086 - val_loss: 0.4506 - val_accuracy: 0.8665 - val_binary_crossentropy: 0.3628\n",
            "Epoch 20/20\n",
            "25000/25000 [==============================] - 3s 126us/sample - loss: 0.1933 - accuracy: 0.9679 - binary_crossentropy: 0.1054 - val_loss: 0.4530 - val_accuracy: 0.8666 - val_binary_crossentropy: 0.3656\n"
          ]
        }
      ]
    },
    {
      "cell_type": "code",
      "source": [
        "#prrównujemy bazowy i model ze stratą\n",
        "fig = go.Figure()\n",
        "for name, history in zip(['baseline', 'l2'], [baseline_history, l2_model_history]):\n",
        "    hist = pd.DataFrame(history.history)\n",
        "    hist['epoch'] = history.epoch\n",
        "    fig.add_trace(go.Scatter(x=hist['epoch'], y=hist['binary_crossentropy'], name=name + '_binary_crossentropy', mode='lines+markers'))\n",
        "    fig.add_trace(go.Scatter(x=hist['epoch'], y=hist['val_binary_crossentropy'], name=name + '_val_binary_crossentropy', mode='lines+markers'))\n",
        "    fig.update_layout(xaxis_title='Epoki', yaxis_title='binary_crossentropy')\n",
        "fig.show()"
      ],
      "metadata": {
        "id": "bPogl_Z6jJ-o"
      },
      "execution_count": null,
      "outputs": []
    },
    {
      "cell_type": "code",
      "source": [
        "from tensorflow.keras.layers import Dropout\n",
        "\n",
        "dropout_model = Sequential()\n",
        "dropout_model.add(Dense(16, activation='relu', input_shape=(NUM_WORDS,)))\n",
        "dropout_model.add(Dropout(0.5))\n",
        "dropout_model.add(Dense(16, activation='relu'))\n",
        "dropout_model.add(Dropout(0.5))\n",
        "dropout_model.add(Dense(1, activation='sigmoid'))\n",
        "\n",
        "dropout_model.compile(optimizer='adam',\n",
        "                 loss='binary_crossentropy',\n",
        "                 metrics=['accuracy', 'binary_crossentropy'])\n",
        "\n",
        "dropout_model.summary()"
      ],
      "metadata": {
        "id": "m_zEcQMrjxmd"
      },
      "execution_count": null,
      "outputs": []
    },
    {
      "cell_type": "code",
      "source": [
        "dropout_history = dropout_model.fit(train_data, train_labels, epochs=20, batch_size=512, validation_data=(test_data, test_labels))"
      ],
      "metadata": {
        "id": "OVJnzE9tkBC4",
        "outputId": "fb9f5d4d-2ce4-497f-b24f-afd28be64112",
        "colab": {
          "base_uri": "https://localhost:8080/"
        }
      },
      "execution_count": 25,
      "outputs": [
        {
          "output_type": "stream",
          "name": "stdout",
          "text": [
            "Train on 25000 samples, validate on 25000 samples\n",
            "Epoch 1/20\n",
            "25000/25000 [==============================] - 4s 152us/sample - loss: 0.6327 - accuracy: 0.6365 - binary_crossentropy: 0.6327 - val_loss: 0.5209 - val_accuracy: 0.8469 - val_binary_crossentropy: 0.5209\n",
            "Epoch 2/20\n",
            "25000/25000 [==============================] - 3s 121us/sample - loss: 0.4710 - accuracy: 0.8007 - binary_crossentropy: 0.4710 - val_loss: 0.3501 - val_accuracy: 0.8820 - val_binary_crossentropy: 0.3501\n",
            "Epoch 3/20\n",
            "25000/25000 [==============================] - 3s 121us/sample - loss: 0.3569 - accuracy: 0.8713 - binary_crossentropy: 0.3569 - val_loss: 0.2981 - val_accuracy: 0.8856 - val_binary_crossentropy: 0.2981\n",
            "Epoch 4/20\n",
            "25000/25000 [==============================] - 3s 122us/sample - loss: 0.2899 - accuracy: 0.9026 - binary_crossentropy: 0.2899 - val_loss: 0.2817 - val_accuracy: 0.8842 - val_binary_crossentropy: 0.2817\n",
            "Epoch 5/20\n",
            "25000/25000 [==============================] - 3s 121us/sample - loss: 0.2492 - accuracy: 0.9172 - binary_crossentropy: 0.2492 - val_loss: 0.2808 - val_accuracy: 0.8877 - val_binary_crossentropy: 0.2808\n",
            "Epoch 6/20\n",
            "25000/25000 [==============================] - 3s 124us/sample - loss: 0.2123 - accuracy: 0.9305 - binary_crossentropy: 0.2123 - val_loss: 0.3012 - val_accuracy: 0.8859 - val_binary_crossentropy: 0.3012\n",
            "Epoch 7/20\n",
            "25000/25000 [==============================] - 3s 123us/sample - loss: 0.1926 - accuracy: 0.9379 - binary_crossentropy: 0.1926 - val_loss: 0.3019 - val_accuracy: 0.8839 - val_binary_crossentropy: 0.3019\n",
            "Epoch 8/20\n",
            "25000/25000 [==============================] - 4s 159us/sample - loss: 0.1667 - accuracy: 0.9467 - binary_crossentropy: 0.1667 - val_loss: 0.3261 - val_accuracy: 0.8809 - val_binary_crossentropy: 0.3261\n",
            "Epoch 9/20\n",
            "25000/25000 [==============================] - 3s 123us/sample - loss: 0.1486 - accuracy: 0.9527 - binary_crossentropy: 0.1486 - val_loss: 0.3473 - val_accuracy: 0.8794 - val_binary_crossentropy: 0.3473\n",
            "Epoch 10/20\n",
            "25000/25000 [==============================] - 3s 121us/sample - loss: 0.1339 - accuracy: 0.9587 - binary_crossentropy: 0.1339 - val_loss: 0.3691 - val_accuracy: 0.8789 - val_binary_crossentropy: 0.3691\n",
            "Epoch 11/20\n",
            "25000/25000 [==============================] - 3s 121us/sample - loss: 0.1231 - accuracy: 0.9596 - binary_crossentropy: 0.1231 - val_loss: 0.3922 - val_accuracy: 0.8788 - val_binary_crossentropy: 0.3922\n",
            "Epoch 12/20\n",
            "25000/25000 [==============================] - 3s 125us/sample - loss: 0.1133 - accuracy: 0.9636 - binary_crossentropy: 0.1133 - val_loss: 0.4199 - val_accuracy: 0.8789 - val_binary_crossentropy: 0.4199\n",
            "Epoch 13/20\n",
            "25000/25000 [==============================] - 3s 122us/sample - loss: 0.1038 - accuracy: 0.9673 - binary_crossentropy: 0.1038 - val_loss: 0.4301 - val_accuracy: 0.8780 - val_binary_crossentropy: 0.4301\n",
            "Epoch 14/20\n",
            "25000/25000 [==============================] - 3s 122us/sample - loss: 0.0985 - accuracy: 0.9683 - binary_crossentropy: 0.0985 - val_loss: 0.4403 - val_accuracy: 0.8778 - val_binary_crossentropy: 0.4403\n",
            "Epoch 15/20\n",
            "25000/25000 [==============================] - 3s 122us/sample - loss: 0.0865 - accuracy: 0.9722 - binary_crossentropy: 0.0865 - val_loss: 0.4781 - val_accuracy: 0.8775 - val_binary_crossentropy: 0.4781\n",
            "Epoch 16/20\n",
            "25000/25000 [==============================] - 3s 122us/sample - loss: 0.0827 - accuracy: 0.9736 - binary_crossentropy: 0.0827 - val_loss: 0.5077 - val_accuracy: 0.8768 - val_binary_crossentropy: 0.5077\n",
            "Epoch 17/20\n",
            "25000/25000 [==============================] - 3s 123us/sample - loss: 0.0794 - accuracy: 0.9735 - binary_crossentropy: 0.0794 - val_loss: 0.5330 - val_accuracy: 0.8759 - val_binary_crossentropy: 0.5330\n",
            "Epoch 18/20\n",
            "25000/25000 [==============================] - 3s 123us/sample - loss: 0.0761 - accuracy: 0.9756 - binary_crossentropy: 0.0761 - val_loss: 0.5439 - val_accuracy: 0.8760 - val_binary_crossentropy: 0.5439\n",
            "Epoch 19/20\n",
            "25000/25000 [==============================] - 3s 122us/sample - loss: 0.0758 - accuracy: 0.9750 - binary_crossentropy: 0.0758 - val_loss: 0.5847 - val_accuracy: 0.8754 - val_binary_crossentropy: 0.5847\n",
            "Epoch 20/20\n",
            "25000/25000 [==============================] - 3s 123us/sample - loss: 0.0708 - accuracy: 0.9768 - binary_crossentropy: 0.0708 - val_loss: 0.5921 - val_accuracy: 0.8760 - val_binary_crossentropy: 0.5921\n"
          ]
        }
      ]
    },
    {
      "cell_type": "code",
      "source": [
        "fig = go.Figure()\n",
        "for name, history in zip(['baseline', 'dropout'], [baseline_history, dropout_history]):\n",
        "    hist = pd.DataFrame(history.history)\n",
        "    hist['epoch'] = history.epoch\n",
        "    fig.add_trace(go.Scatter(x=hist['epoch'], y=hist['binary_crossentropy'], name=name + '_binary_crossentropy', mode='lines+markers'))\n",
        "    fig.add_trace(go.Scatter(x=hist['epoch'], y=hist['val_binary_crossentropy'], name=name + '_val_binary_crossentropy', mode='lines+markers'))\n",
        "    fig.update_layout(xaxis_title='Epoki', yaxis_title='binary_crossentropy')\n",
        "fig.show()"
      ],
      "metadata": {
        "id": "lVOm3UrgkA_Z"
      },
      "execution_count": null,
      "outputs": []
    }
  ]
}
{
  "nbformat": 4,
  "nbformat_minor": 0,
  "metadata": {
    "colab": {
      "provenance": [],
      "authorship_tag": "ABX9TyOGCCeJyE/MJwJobtmaai7U",
      "include_colab_link": true
    },
    "kernelspec": {
      "name": "python3",
      "display_name": "Python 3"
    },
    "language_info": {
      "name": "python"
    }
  },
  "cells": [
    {
      "cell_type": "markdown",
      "metadata": {
        "id": "view-in-github",
        "colab_type": "text"
      },
      "source": [
        "<a href=\"https://colab.research.google.com/github/PremGorecki/NeuralNetwork/blob/main/03_keras/01_intro.ipynb\" target=\"_parent\"><img src=\"https://colab.research.google.com/assets/colab-badge.svg\" alt=\"Open In Colab\"/></a>"
      ]
    },
    {
      "cell_type": "markdown",
      "source": [
        "Model sekwencjny (Sequential Model):"
      ],
      "metadata": {
        "id": "GSWyj7jAcMRf"
      }
    },
    {
      "cell_type": "code",
      "execution_count": 2,
      "metadata": {
        "id": "gqW6YAUTb4be",
        "outputId": "515afdff-2be9-4126-9b09-5269269beeb8",
        "colab": {
          "base_uri": "https://localhost:8080/"
        }
      },
      "outputs": [
        {
          "output_type": "stream",
          "name": "stdout",
          "text": [
            "Found existing installation: tensorflow 2.0.0\n",
            "Uninstalling tensorflow-2.0.0:\n",
            "  Successfully uninstalled tensorflow-2.0.0\n"
          ]
        }
      ],
      "source": [
        "# Przygotowanie środowiska do pracy z Tensorflow 2.0.\n",
        "# Jeśli otrzymasz błąd podczas instalacji Tensorflow uruchom tę komórkę raz jeszcze.\n",
        "\n",
        "!pip uninstall -y tensorflow\n",
        "!pip install -q tensorflow==2.0.0"
      ]
    },
    {
      "cell_type": "code",
      "source": [
        "import tensorflow as tf\n",
        "import numpy as np\n",
        "import pandas as pd\n",
        "import plotly.express as px\n",
        "tf.__version__"
      ],
      "metadata": {
        "id": "YqGrOQlpcvAZ",
        "outputId": "18e9ea85-da19-4a0b-cc74-9eccffbc2e03",
        "colab": {
          "base_uri": "https://localhost:8080/",
          "height": 35
        }
      },
      "execution_count": 3,
      "outputs": [
        {
          "output_type": "execute_result",
          "data": {
            "text/plain": [
              "'2.0.0'"
            ],
            "application/vnd.google.colaboratory.intrinsic+json": {
              "type": "string"
            }
          },
          "metadata": {},
          "execution_count": 3
        }
      ]
    },
    {
      "cell_type": "markdown",
      "source": [
        "Wprowadzenie - pierwszy model\n",
        "Model sekwencyjny to nic innego jak liniowy stos warstw."
      ],
      "metadata": {
        "id": "QCxdM482c06P"
      }
    },
    {
      "cell_type": "code",
      "source": [
        "# utworzenie instancji klasy Sequential\n",
        "from tensorflow.keras.models import Sequential\n",
        "\n",
        "model = Sequential()\n",
        "print(model)"
      ],
      "metadata": {
        "id": "-ZDu-5oHc2ki",
        "outputId": "15877bda-15d3-4283-a154-75867d7109ee",
        "colab": {
          "base_uri": "https://localhost:8080/"
        }
      },
      "execution_count": 4,
      "outputs": [
        {
          "output_type": "stream",
          "name": "stdout",
          "text": [
            "<tensorflow.python.keras.engine.sequential.Sequential object at 0x7f89f31f94d0>\n"
          ]
        }
      ]
    },
    {
      "cell_type": "markdown",
      "source": [
        "Podstawowym elementem składowym modelu są warstwy. Aby dodać najbardziej standardową warstwę - warstwę gęsto połączoną należy użyć warstwy Dense. Aby dodać warstwę do modelu należy użyć metody .add()"
      ],
      "metadata": {
        "id": "7Vb1yf5zdab_"
      }
    },
    {
      "cell_type": "code",
      "source": [
        "from tensorflow.keras.layers import Dense\n",
        "\n",
        "model.add(Dense(units=4, input_shape=(10,)))\n",
        "\n"
      ],
      "metadata": {
        "id": "xqrb9-4AdccW"
      },
      "execution_count": 5,
      "outputs": []
    },
    {
      "cell_type": "code",
      "source": [
        "# (none, 4) - none tu oznacza, że ilość próbek jest nieokreślona czyli nieograniczona :)\n",
        "model.summary()"
      ],
      "metadata": {
        "id": "wabkPuVad9Gn"
      },
      "execution_count": null,
      "outputs": []
    },
    {
      "cell_type": "markdown",
      "source": [
        "Dodanie kolejnej warstwy"
      ],
      "metadata": {
        "id": "_5VPz1KeepcH"
      }
    },
    {
      "cell_type": "code",
      "source": [
        "# przy dodawaniu kolejnej warsty nie musimy określać input_shape bo bierze z poprzedniej\n",
        "model.add(Dense(units=2))\n",
        "\n",
        "model.summary()"
      ],
      "metadata": {
        "id": "kDxI1B7zd-uJ"
      },
      "execution_count": null,
      "outputs": []
    },
    {
      "cell_type": "code",
      "source": [
        "from tensorflow.keras.activations import linear\n",
        "\n",
        "random_data = sorted(np.random.randn(200))\n",
        "data = pd.DataFrame({'data': random_data, 'linear': linear(random_data)})\n",
        "data.head()"
      ],
      "metadata": {
        "id": "-miezcGGf6MU"
      },
      "execution_count": null,
      "outputs": []
    },
    {
      "cell_type": "code",
      "source": [
        "from tensorflow.keras.activations import sigmoid\n",
        "\n",
        "data = pd.DataFrame({'data': random_data, 'sigmoid': sigmoid(random_data)})\n",
        "data.head()"
      ],
      "metadata": {
        "id": "UCadEEO1iKqe"
      },
      "execution_count": null,
      "outputs": []
    },
    {
      "cell_type": "code",
      "source": [
        "from tensorflow.keras.activations import relu\n",
        "\n",
        "data = pd.DataFrame({'data': random_data, 'relu': relu(random_data)})\n",
        "data.head()"
      ],
      "metadata": {
        "id": "cakyIaPliQAh"
      },
      "execution_count": null,
      "outputs": []
    },
    {
      "cell_type": "code",
      "source": [
        "from tensorflow.keras.activations import tanh\n",
        "\n",
        "data = pd.DataFrame({'data': random_data, 'tanh': tanh(random_data)})\n",
        "data.head()"
      ],
      "metadata": {
        "id": "yKf0BMKsiSza"
      },
      "execution_count": null,
      "outputs": []
    },
    {
      "cell_type": "code",
      "source": [
        "model = Sequential()\n",
        "model.add(Dense(units=8, activation='relu', input_shape=(10,)))\n",
        "model.add(Dense(units=1, activation='sigmoid'))\n",
        "model.summary()"
      ],
      "metadata": {
        "id": "7vGEebGwiWaM"
      },
      "execution_count": null,
      "outputs": []
    },
    {
      "cell_type": "code",
      "source": [
        "# klasyfikacja binarna\n",
        "model.compile(optimizer='rmsprop',\n",
        "              loss='binary_crossentropy',\n",
        "              metrics=['accuracy'])\n",
        "\n",
        "# klasyfikacja wieloklasowa\n",
        "model.compile(optimizer='rmsprop',\n",
        "              loss='categorical_crossentropy',\n",
        "              metrics=['accuracy'])\n",
        "\n",
        "# regresja\n",
        "model.compile(optimizer='rmsprop',\n",
        "              loss='mse')"
      ],
      "metadata": {
        "id": "WDSGUOj1i5Oo"
      },
      "execution_count": 13,
      "outputs": []
    },
    {
      "cell_type": "markdown",
      "source": [
        "Trenowanie modelu\n",
        "Za dane wejściowe do modelu należy przekazać Numpy arrays:\n",
        "\n",
        "epochs - krotność przejścia danych przez sieć w procesie uczenia\n",
        "batch_size - rozmiar wsadu po którym następuje aktualizacja wag\n",
        "validation_split - część danych treningowych, które zostaną wykorzystane jako zbiór walidacyjny\n",
        "validation_data - (x_val, y_val) - dane wykorzystane do walidacji modelu"
      ],
      "metadata": {
        "id": "ocDvAnv4j4zI"
      }
    },
    {
      "cell_type": "code",
      "source": [
        "# model.fit(data, labels, epochs=10, batch_size=32)\n",
        "# model.fit(data, labels, epochs=10, batch_size=32, validation_split=0.2)\n",
        "# model.fit(data, labels, epochs=10, batch_size=32, validation_data=(x_val, y_val))"
      ],
      "metadata": {
        "id": "7H3z-Bz_j6-_"
      },
      "execution_count": 14,
      "outputs": []
    },
    {
      "cell_type": "markdown",
      "source": [
        "Przykład - klasyfikacja binarna"
      ],
      "metadata": {
        "id": "sSnDDfReNKfb"
      }
    },
    {
      "cell_type": "code",
      "source": [
        "data = np.random.randn(1000, 150)\n",
        "labels = np.random.randint(2, size=(1000, 1))\n",
        "\n",
        "print(data.shape)\n",
        "print(labels.shape)\n"
      ],
      "metadata": {
        "id": "EDIhFsJ8NMf4",
        "outputId": "3754d207-3cf9-4132-bb84-7f9925420243",
        "colab": {
          "base_uri": "https://localhost:8080/"
        }
      },
      "execution_count": 24,
      "outputs": [
        {
          "output_type": "stream",
          "name": "stdout",
          "text": [
            "(1000, 150)\n",
            "(1000, 1)\n"
          ]
        }
      ]
    },
    {
      "cell_type": "code",
      "source": [
        "data[:3]"
      ],
      "metadata": {
        "id": "Oj015eEfOSy6"
      },
      "execution_count": null,
      "outputs": []
    },
    {
      "cell_type": "code",
      "source": [
        "labels[:10]"
      ],
      "metadata": {
        "id": "G8PfTDbDOZVG",
        "outputId": "4489f693-46ab-45d4-fbdb-4cbfdc03ff4e",
        "colab": {
          "base_uri": "https://localhost:8080/"
        }
      },
      "execution_count": 27,
      "outputs": [
        {
          "output_type": "execute_result",
          "data": {
            "text/plain": [
              "array([[0],\n",
              "       [0],\n",
              "       [0],\n",
              "       [1],\n",
              "       [0],\n",
              "       [0],\n",
              "       [1],\n",
              "       [1],\n",
              "       [0],\n",
              "       [0]])"
            ]
          },
          "metadata": {},
          "execution_count": 27
        }
      ]
    },
    {
      "cell_type": "code",
      "source": [
        "#Budujemy naszę sięć\n",
        "\n",
        "model = Sequential()\n",
        "# linijka pod spodem to są de facto 2 warsty\n",
        "# 1-a wejściowa 150 elementów\n",
        "# 2-a ukryta 32 elementy\n",
        "model.add(Dense(units=32, activation='relu', input_shape=(150,)))\n",
        "\n",
        "# wartstwa wyjściowa\n",
        "model.add(Dense(units=1, activation='sigmoid'))\n",
        "\n",
        "model.compile(optimizer='rmsprop',\n",
        "              loss='binary_crossentropy',\n",
        "              metrics=['accuracy'])\n",
        "\n",
        "model.fit(data, labels, epochs=20)"
      ],
      "metadata": {
        "id": "ll5Ol1OvO6S0"
      },
      "execution_count": null,
      "outputs": []
    },
    {
      "cell_type": "code",
      "source": [
        "#Teraz możemy dodać batch_size to nasze wagi będą \n",
        "#aktualizowane po 30u próbkach\n",
        "\n",
        "\n",
        "model = Sequential()\n",
        "model.add(Dense(units=32, activation='relu', input_shape=(150,)))\n",
        "model.add(Dense(1, activation='sigmoid'))\n",
        "\n",
        "model.compile(optimizer='rmsprop',\n",
        "              loss='binary_crossentropy',\n",
        "              metrics=['accuracy'])\n",
        "\n",
        "model.fit(data, labels, epochs=20, batch_size=30)"
      ],
      "metadata": {
        "id": "WCRAvon7PEab"
      },
      "execution_count": null,
      "outputs": []
    },
    {
      "cell_type": "code",
      "source": [
        "#validation_split - ile danych używamy do walidacji\n",
        "\n",
        "model = Sequential()\n",
        "model.add(Dense(units=32, activation='relu', input_shape=(150,)))\n",
        "model.add(Dense(1, activation='sigmoid'))\n",
        "\n",
        "model.compile(optimizer='rmsprop',\n",
        "              loss='binary_crossentropy',\n",
        "              metrics=['accuracy'])\n",
        "\n",
        "model.fit(data, labels, epochs=20, batch_size=32, validation_split=0.2)"
      ],
      "metadata": {
        "id": "iQMXYEczVJvO"
      },
      "execution_count": null,
      "outputs": []
    },
    {
      "cell_type": "code",
      "source": [
        "#verbose=0 to wtedy nie wyświetla tej historii uczenia \n",
        "#ale ona i tak wpada do obiektu history\n",
        "\n",
        "model = Sequential()\n",
        "model.add(Dense(units=32, activation='relu', input_shape=(150,)))\n",
        "model.add(Dense(1, activation='sigmoid'))\n",
        "\n",
        "model.compile(optimizer='rmsprop',\n",
        "              loss='binary_crossentropy',\n",
        "              metrics=['accuracy'])\n",
        "\n",
        "model.fit(data, labels, epochs=20, batch_size=32, validation_split=0.2, verbose=0)"
      ],
      "metadata": {
        "id": "qJ0ZN4uSWGF4"
      },
      "execution_count": null,
      "outputs": []
    },
    {
      "cell_type": "code",
      "source": [
        "#teraz przypisujemy dane z uczenia do zmiennej history\n",
        "model = Sequential()\n",
        "model.add(Dense(units=32, activation='relu', input_shape=(150,)))\n",
        "model.add(Dense(1, activation='sigmoid'))\n",
        "\n",
        "model.compile(optimizer='rmsprop',\n",
        "              loss='binary_crossentropy',\n",
        "              metrics=['accuracy'])\n",
        "\n",
        "history = model.fit(data, labels, epochs=20, batch_size=32, validation_split=0.2, verbose=0)"
      ],
      "metadata": {
        "id": "5HBHYcoAWlEG"
      },
      "execution_count": 36,
      "outputs": []
    },
    {
      "cell_type": "code",
      "source": [
        "metrics = history.history\n",
        "metrics.keys()"
      ],
      "metadata": {
        "id": "fXgSAuQjWrGk",
        "outputId": "32d90272-86f7-4fad-b3b7-bb2771d16465",
        "colab": {
          "base_uri": "https://localhost:8080/"
        }
      },
      "execution_count": 37,
      "outputs": [
        {
          "output_type": "execute_result",
          "data": {
            "text/plain": [
              "dict_keys(['loss', 'accuracy', 'val_loss', 'val_accuracy'])"
            ]
          },
          "metadata": {},
          "execution_count": 37
        }
      ]
    },
    {
      "cell_type": "code",
      "source": [
        "model = Sequential()\n",
        "model.add(Dense(units=32, activation='relu', input_shape=(150,)))\n",
        "model.add(Dense(1, activation='sigmoid'))\n",
        "\n",
        "model.compile(optimizer='rmsprop',\n",
        "              loss='binary_crossentropy',\n",
        "              metrics=['accuracy'])\n",
        "\n",
        "history = model.fit(data, labels, epochs=20, batch_size=32, validation_split=0.2, verbose=1)"
      ],
      "metadata": {
        "id": "KLkY13-9XEhZ"
      },
      "execution_count": null,
      "outputs": []
    },
    {
      "cell_type": "code",
      "source": [
        "#dane testowe do sprawdzenia modelu\n",
        "test_data = np.random.randn(5, 150)\n",
        "test_labels = np.random.randint(2, size=(5, 1))"
      ],
      "metadata": {
        "id": "s0xjK5mUXKEc"
      },
      "execution_count": 39,
      "outputs": []
    },
    {
      "cell_type": "code",
      "source": [
        "model.predict(test_data)"
      ],
      "metadata": {
        "id": "r3CULoJ5XMY9"
      },
      "execution_count": null,
      "outputs": []
    },
    {
      "cell_type": "code",
      "source": [
        "# to samo co powyżej robi\n",
        "model.predict_proba(test_data)"
      ],
      "metadata": {
        "id": "xFahBILyYLSb"
      },
      "execution_count": null,
      "outputs": []
    },
    {
      "cell_type": "code",
      "source": [
        "model.predict_classes(test_data)"
      ],
      "metadata": {
        "id": "cyJ1p0sSXR2W"
      },
      "execution_count": null,
      "outputs": []
    },
    {
      "cell_type": "markdown",
      "source": [
        "Przykład - klasyfikacja wieloklasowa"
      ],
      "metadata": {
        "id": "rAnd8I6TYQmd"
      }
    },
    {
      "cell_type": "code",
      "source": [
        "data = np.random.random((1000, 150))\n",
        "labels = np.random.randint(10, size=(1000, 1))"
      ],
      "metadata": {
        "id": "RgV9Gl5xYRRZ"
      },
      "execution_count": 43,
      "outputs": []
    },
    {
      "cell_type": "code",
      "source": [
        "print(data.shape)\n",
        "print(labels.shape)"
      ],
      "metadata": {
        "id": "9xPJ3jDNYTbh",
        "outputId": "0ea283ba-9a62-48e5-9f44-41f53af3bd6e",
        "colab": {
          "base_uri": "https://localhost:8080/"
        }
      },
      "execution_count": 44,
      "outputs": [
        {
          "output_type": "stream",
          "name": "stdout",
          "text": [
            "(1000, 150)\n",
            "(1000, 1)\n"
          ]
        }
      ]
    },
    {
      "cell_type": "code",
      "source": [
        "labels[:10]"
      ],
      "metadata": {
        "id": "p7-3KKFUYhfj"
      },
      "execution_count": null,
      "outputs": []
    },
    {
      "cell_type": "code",
      "source": [
        "# przy klasyfikacji wieloklasowej na wejściu trzeba zmienić format danych\n",
        "# przy użyciu funkcji to_categorical\n",
        "from tensorflow.keras.utils import to_categorical\n",
        "labels = to_categorical(labels, num_classes=10)\n",
        "labels[:10]"
      ],
      "metadata": {
        "id": "1WfqhnTWYi18"
      },
      "execution_count": null,
      "outputs": []
    },
    {
      "cell_type": "code",
      "source": [
        "model = Sequential()\n",
        "model.add(Dense(units=32, activation='relu', input_shape=(150,)))\n",
        "model.add(Dense(units=10, activation='softmax'))\n",
        "\n",
        "model.compile(optimizer='rmsprop',\n",
        "              loss='categorical_crossentropy',\n",
        "              metrics=['accuracy'])\n",
        "\n",
        "model.fit(data, labels, batch_size=32, epochs=30, validation_split=0.2)"
      ],
      "metadata": {
        "id": "tMiBRtNTYqGj"
      },
      "execution_count": null,
      "outputs": []
    },
    {
      "cell_type": "code",
      "source": [
        "test_data = np.random.random((10, 150))\n",
        "\n",
        "model.predict(test_data)"
      ],
      "metadata": {
        "id": "Dap2BhgPZw0I"
      },
      "execution_count": null,
      "outputs": []
    },
    {
      "cell_type": "code",
      "source": [
        "model.predict_classes(test_data)"
      ],
      "metadata": {
        "id": "aZ6xzH6maBUU"
      },
      "execution_count": null,
      "outputs": []
    },
    {
      "cell_type": "markdown",
      "source": [
        "Przykład - regresja"
      ],
      "metadata": {
        "id": "9nwSRdh6aME4"
      }
    },
    {
      "cell_type": "code",
      "source": [
        "data = np.random.random((1000, 150))\n",
        "labels = 50 * np.random.random(1000)"
      ],
      "metadata": {
        "id": "d8oSmRwUaMs9"
      },
      "execution_count": 50,
      "outputs": []
    },
    {
      "cell_type": "code",
      "source": [
        "data[:1]"
      ],
      "metadata": {
        "id": "cKzo97ACaPe0"
      },
      "execution_count": null,
      "outputs": []
    },
    {
      "cell_type": "code",
      "source": [
        "model = Sequential()\n",
        "model.add(Dense(units=32, activation='relu', input_shape=(150,)))\n",
        "model.add(Dense(units=1))\n",
        "\n",
        "model.compile(optimizer='rmsprop',\n",
        "              loss='mse')\n",
        "\n",
        "model.fit(data, labels, epochs=30, batch_size=32, validation_split=0.2)"
      ],
      "metadata": {
        "id": "EYtP92ZNaQfB"
      },
      "execution_count": null,
      "outputs": []
    }
  ]
}
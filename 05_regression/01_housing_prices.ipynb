{
  "nbformat": 4,
  "nbformat_minor": 0,
  "metadata": {
    "colab": {
      "provenance": [],
      "authorship_tag": "ABX9TyOUfRcZ2kMh25pwiCD7dyh+",
      "include_colab_link": true
    },
    "kernelspec": {
      "name": "python3",
      "display_name": "Python 3"
    },
    "language_info": {
      "name": "python"
    }
  },
  "cells": [
    {
      "cell_type": "markdown",
      "metadata": {
        "id": "view-in-github",
        "colab_type": "text"
      },
      "source": [
        "<a href=\"https://colab.research.google.com/github/PremGorecki/NeuralNetwork/blob/main/05_regression/01_housing_prices.ipynb\" target=\"_parent\"><img src=\"https://colab.research.google.com/assets/colab-badge.svg\" alt=\"Open In Colab\"/></a>"
      ]
    },
    {
      "cell_type": "markdown",
      "source": [
        "# 1. Import biblotek"
      ],
      "metadata": {
        "id": "mSt8MaKaIF6g"
      }
    },
    {
      "cell_type": "code",
      "source": [
        "import numpy as np\n",
        "import pandas as pd\n",
        "import plotly.express as px\n",
        "import plotly.graph_objects as go\n",
        "import tensorflow as tf\n",
        "from tensorflow.keras.models import Sequential\n",
        "from tensorflow.keras.layers import Dense, Dropout\n",
        "from tensorflow.keras.callbacks import EarlyStopping\n",
        "\n",
        "np.set_printoptions(precision=12, suppress=True, linewidth=150)\n",
        "pd.options.display.float_format = '{:.6f}'.format\n",
        "tf.__version__"
      ],
      "metadata": {
        "id": "aye29cMXIHeA"
      },
      "execution_count": null,
      "outputs": []
    },
    {
      "cell_type": "markdown",
      "source": [
        "# 2. Załadowanie danych i wstępna eksploracja"
      ],
      "metadata": {
        "id": "16lxoZ1PIpZP"
      }
    },
    {
      "cell_type": "code",
      "source": [
        "raw_dataset = pd.read_csv('https://storage.googleapis.com/esmartdata-courses-files/ann-course/housing.csv')\n",
        "raw_dataset.info()"
      ],
      "metadata": {
        "id": "0k3UNVG5IrhO"
      },
      "execution_count": null,
      "outputs": []
    },
    {
      "cell_type": "code",
      "source": [
        "# dobra praktyka to skopiować DataSet\n",
        "dataset = raw_dataset.copy()\n",
        "dataset.head()"
      ],
      "metadata": {
        "id": "jJu4xpLaIyjG"
      },
      "execution_count": null,
      "outputs": []
    },
    {
      "cell_type": "code",
      "source": [
        "#sprawdzamy ile pustych danych\n",
        "dataset.isnull().sum() / len(dataset)"
      ],
      "metadata": {
        "id": "KgXhMe1cI4Un"
      },
      "execution_count": null,
      "outputs": []
    },
    {
      "cell_type": "code",
      "source": [
        "#danych pustych poniżej 1% to można usunąć\n",
        "\n",
        "dataset.dropna(inplace=True)\n",
        "\n",
        "dataset.isnull().sum() / len(dataset)"
      ],
      "metadata": {
        "id": "hzOWqrLaI9S-"
      },
      "execution_count": null,
      "outputs": []
    },
    {
      "cell_type": "code",
      "source": [
        "#zwróci nam pewne statystyki ale tylko dla zmiennych liczbowych\n",
        "\n",
        "dataset.describe()"
      ],
      "metadata": {
        "id": "1yy6Jy7EJDMu"
      },
      "execution_count": null,
      "outputs": []
    },
    {
      "cell_type": "code",
      "source": [
        "#możemy też mieć statystyki dla zmiennych nieliczbowych\n",
        "dataset.describe(include=['object'])"
      ],
      "metadata": {
        "id": "cq7xlUN2JcO_"
      },
      "execution_count": null,
      "outputs": []
    },
    {
      "cell_type": "code",
      "source": [
        "dataset.ocean_proximity.value_counts()"
      ],
      "metadata": {
        "id": "1ilIElx2Jmm2"
      },
      "execution_count": null,
      "outputs": []
    },
    {
      "cell_type": "code",
      "source": [
        "#jak wygląda rozkład zmiennej którą chcemy przywidywać\n",
        "px.histogram(dataset, x='median_house_value')"
      ],
      "metadata": {
        "id": "ThFbHLdSJz1P"
      },
      "execution_count": null,
      "outputs": []
    }
  ]
}
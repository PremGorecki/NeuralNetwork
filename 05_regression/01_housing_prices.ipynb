{
  "nbformat": 4,
  "nbformat_minor": 0,
  "metadata": {
    "colab": {
      "provenance": [],
      "authorship_tag": "ABX9TyPpKet44h8PlMnmu1GcePhu",
      "include_colab_link": true
    },
    "kernelspec": {
      "name": "python3",
      "display_name": "Python 3"
    },
    "language_info": {
      "name": "python"
    }
  },
  "cells": [
    {
      "cell_type": "markdown",
      "metadata": {
        "id": "view-in-github",
        "colab_type": "text"
      },
      "source": [
        "<a href=\"https://colab.research.google.com/github/PremGorecki/NeuralNetwork/blob/main/05_regression/01_housing_prices.ipynb\" target=\"_parent\"><img src=\"https://colab.research.google.com/assets/colab-badge.svg\" alt=\"Open In Colab\"/></a>"
      ]
    },
    {
      "cell_type": "markdown",
      "source": [
        "# 1. Import biblotek"
      ],
      "metadata": {
        "id": "mSt8MaKaIF6g"
      }
    },
    {
      "cell_type": "code",
      "source": [
        "import numpy as np\n",
        "import pandas as pd\n",
        "import plotly.express as px\n",
        "import plotly.graph_objects as go\n",
        "import tensorflow as tf\n",
        "from tensorflow.keras.models import Sequential\n",
        "from tensorflow.keras.layers import Dense, Dropout\n",
        "from tensorflow.keras.callbacks import EarlyStopping\n",
        "\n",
        "np.set_printoptions(precision=12, suppress=True, linewidth=150)\n",
        "pd.options.display.float_format = '{:.6f}'.format\n",
        "tf.__version__"
      ],
      "metadata": {
        "colab": {
          "base_uri": "https://localhost:8080/",
          "height": 36
        },
        "id": "aye29cMXIHeA",
        "outputId": "14cdf59d-45b9-4308-8179-3faa4d997650"
      },
      "execution_count": 2,
      "outputs": [
        {
          "output_type": "execute_result",
          "data": {
            "text/plain": [
              "'2.8.2'"
            ],
            "application/vnd.google.colaboratory.intrinsic+json": {
              "type": "string"
            }
          },
          "metadata": {},
          "execution_count": 2
        }
      ]
    },
    {
      "cell_type": "markdown",
      "source": [
        "# 2. Załadowanie danych i wstępna eksploracja"
      ],
      "metadata": {
        "id": "16lxoZ1PIpZP"
      }
    },
    {
      "cell_type": "code",
      "source": [
        "raw_dataset = pd.read_csv('https://storage.googleapis.com/esmartdata-courses-files/ann-course/housing.csv')\n",
        "raw_dataset.info()"
      ],
      "metadata": {
        "id": "0k3UNVG5IrhO"
      },
      "execution_count": null,
      "outputs": []
    },
    {
      "cell_type": "code",
      "source": [
        "# dobra praktyka to skopiować DataSet\n",
        "dataset = raw_dataset.copy()\n",
        "dataset.head()"
      ],
      "metadata": {
        "id": "jJu4xpLaIyjG"
      },
      "execution_count": null,
      "outputs": []
    },
    {
      "cell_type": "code",
      "source": [
        "#sprawdzamy ile pustych danych\n",
        "dataset.isnull().sum() / len(dataset)"
      ],
      "metadata": {
        "id": "KgXhMe1cI4Un"
      },
      "execution_count": null,
      "outputs": []
    },
    {
      "cell_type": "code",
      "source": [
        "#danych pustych poniżej 1% to można usunąć\n",
        "\n",
        "dataset.dropna(inplace=True)\n",
        "\n",
        "dataset.isnull().sum() / len(dataset)"
      ],
      "metadata": {
        "id": "hzOWqrLaI9S-"
      },
      "execution_count": null,
      "outputs": []
    },
    {
      "cell_type": "code",
      "source": [
        "#zwróci nam pewne statystyki ale tylko dla zmiennych liczbowych\n",
        "\n",
        "dataset.describe()"
      ],
      "metadata": {
        "id": "1yy6Jy7EJDMu"
      },
      "execution_count": null,
      "outputs": []
    },
    {
      "cell_type": "code",
      "source": [
        "#możemy też mieć statystyki dla zmiennych nieliczbowych\n",
        "dataset.describe(include=['object'])"
      ],
      "metadata": {
        "id": "cq7xlUN2JcO_"
      },
      "execution_count": null,
      "outputs": []
    },
    {
      "cell_type": "code",
      "source": [
        "dataset.ocean_proximity.value_counts()"
      ],
      "metadata": {
        "colab": {
          "base_uri": "https://localhost:8080/"
        },
        "id": "1ilIElx2Jmm2",
        "outputId": "582fc948-fd94-4aad-cf6a-97884e17a8bd"
      },
      "execution_count": 9,
      "outputs": [
        {
          "output_type": "execute_result",
          "data": {
            "text/plain": [
              "<1H OCEAN     9034\n",
              "INLAND        6496\n",
              "NEAR OCEAN    2628\n",
              "NEAR BAY      2270\n",
              "ISLAND           5\n",
              "Name: ocean_proximity, dtype: int64"
            ]
          },
          "metadata": {},
          "execution_count": 9
        }
      ]
    },
    {
      "cell_type": "code",
      "source": [
        "#jak wygląda rozkład zmiennej którą chcemy przywidywać\n",
        "px.histogram(dataset, x='median_house_value')"
      ],
      "metadata": {
        "id": "ThFbHLdSJz1P"
      },
      "execution_count": null,
      "outputs": []
    },
    {
      "cell_type": "code",
      "source": [
        "#widzimy że 500001 jest często\n",
        "dataset.median_house_value.value_counts()"
      ],
      "metadata": {
        "id": "Vn8kT3x6qGvn"
      },
      "execution_count": null,
      "outputs": []
    },
    {
      "cell_type": "code",
      "source": [
        "#usuwamy 5000001 \n",
        "index_to_drop = dataset[dataset.median_house_value == 500001].index\n",
        "dataset = dataset.drop(index=index_to_drop)\n",
        "px.histogram(dataset, x='median_house_value')"
      ],
      "metadata": {
        "id": "FTmqCVNCqTXf"
      },
      "execution_count": null,
      "outputs": []
    },
    {
      "cell_type": "code",
      "source": [
        "#teraz ostatnią kolumnę gdzie tym był object rozbijamy to na 5 kolumn z zerami i jedynkami\n",
        "dataset_dummies = pd.get_dummies(dataset, drop_first=True)\n",
        "dataset_dummies.head()"
      ],
      "metadata": {
        "id": "na-84zoUqZ9Y"
      },
      "execution_count": null,
      "outputs": []
    },
    {
      "cell_type": "markdown",
      "source": [
        "# 3. Podział na zbiór treningowy oraz testowy"
      ],
      "metadata": {
        "id": "jEJuDh9krOxw"
      }
    },
    {
      "cell_type": "code",
      "source": [
        "train_dataset = dataset_dummies.sample(frac=0.8, random_state=0)\n",
        "test_dataset = dataset_dummies.drop(train_dataset.index)\n",
        "\n",
        "print(f'train_dataset length: {len(train_dataset)}')\n",
        "print(f'test_dataset length: {len(test_dataset)}')"
      ],
      "metadata": {
        "id": "EaO3T-9krQBo"
      },
      "execution_count": null,
      "outputs": []
    },
    {
      "cell_type": "code",
      "source": [
        "train_dataset.head()"
      ],
      "metadata": {
        "id": "nzIl9aXGrfiP"
      },
      "execution_count": null,
      "outputs": []
    },
    {
      "cell_type": "code",
      "source": [
        "test_dataset.head()"
      ],
      "metadata": {
        "id": "LqQuUAASriWH"
      },
      "execution_count": null,
      "outputs": []
    },
    {
      "cell_type": "code",
      "source": [
        "# eksplorujemy dane bardziej\n",
        "px.scatter_matrix(train_dataset, dimensions=['median_house_value', 'housing_median_age', 'median_income', 'total_rooms'], color='median_house_value', height=700)"
      ],
      "metadata": {
        "id": "TeePqt-vr7-4"
      },
      "execution_count": null,
      "outputs": []
    },
    {
      "cell_type": "code",
      "source": [
        "#statystyki ale bez cen bo to będziemy przewidywać\n",
        "train_stats = train_dataset.describe()\n",
        "train_stats.pop('median_house_value')\n",
        "train_stats = train_stats.transpose()\n",
        "train_stats"
      ],
      "metadata": {
        "id": "aSJxiBdBsF0X"
      },
      "execution_count": null,
      "outputs": []
    },
    {
      "cell_type": "code",
      "source": [
        "#usuwamy ceny z danych\n",
        "train_labels = train_dataset.pop('median_house_value')\n",
        "test_labels = test_dataset.pop('median_house_value')"
      ],
      "metadata": {
        "id": "6CjBENknsP5p"
      },
      "execution_count": null,
      "outputs": []
    },
    {
      "cell_type": "markdown",
      "source": [
        "# 4. Standaryzacja danych"
      ],
      "metadata": {
        "id": "HyiGBMptsar3"
      }
    },
    {
      "cell_type": "code",
      "source": [
        "def norm(x):\n",
        "    return (x - train_stats['mean']) / train_stats['std']"
      ],
      "metadata": {
        "id": "4aYZmbE2sb0I"
      },
      "execution_count": 21,
      "outputs": []
    },
    {
      "cell_type": "code",
      "source": [
        "#uwaga funkcja działa na danych treningowych a potem uruchamiamy ją też na danych testowych\n",
        "normed_train_data = norm(train_dataset)\n",
        "normed_test_data = norm(test_dataset)"
      ],
      "metadata": {
        "id": "kkefkrSZstAv"
      },
      "execution_count": 22,
      "outputs": []
    },
    {
      "cell_type": "code",
      "source": [
        "normed_train_data.isnull().sum()"
      ],
      "metadata": {
        "id": "mj3Ythrfs4ch"
      },
      "execution_count": null,
      "outputs": []
    },
    {
      "cell_type": "code",
      "source": [
        "normed_test_data = normed_test_data.values\n",
        "normed_train_data = normed_train_data.values"
      ],
      "metadata": {
        "id": "qRMsKkwYtSCp"
      },
      "execution_count": 25,
      "outputs": []
    },
    {
      "cell_type": "markdown",
      "source": [
        "# 5. Budowa modelu"
      ],
      "metadata": {
        "id": "ioovJLU0tUr2"
      }
    },
    {
      "cell_type": "code",
      "source": [
        "def build_model():\n",
        "    model = Sequential()\n",
        "    model.add(Dense(1024, kernel_regularizer='l2', activation='relu', input_shape=[len(train_dataset.keys())]))\n",
        "    model.add(Dense(512, activation='relu'))\n",
        "    model.add(Dense(128, activation='relu'))\n",
        "    model.add(Dense(1))\n",
        "\n",
        "    model.compile(optimizer='adam',\n",
        "                  loss='mse',\n",
        "                  metrics=['mae', 'mse'])\n",
        "    return model"
      ],
      "metadata": {
        "id": "aT7hHkyetVyp"
      },
      "execution_count": 26,
      "outputs": []
    },
    {
      "cell_type": "code",
      "source": [
        "model = build_model()\n",
        "model.summary()"
      ],
      "metadata": {
        "id": "PqHtpm9etdS2"
      },
      "execution_count": null,
      "outputs": []
    },
    {
      "cell_type": "markdown",
      "source": [
        "# 6. Trenowanie sieci"
      ],
      "metadata": {
        "id": "iukSqGRuthBo"
      }
    },
    {
      "cell_type": "code",
      "source": [
        "history = model.fit(normed_train_data, train_labels.values, epochs=150, validation_split=0.2, verbose=1, batch_size=32)"
      ],
      "metadata": {
        "id": "5jSG5-Lgth84",
        "outputId": "3f9f818e-8fd5-4ca7-de0c-4a4e1b66fefe",
        "colab": {
          "base_uri": "https://localhost:8080/"
        }
      },
      "execution_count": 28,
      "outputs": [
        {
          "output_type": "stream",
          "name": "stdout",
          "text": [
            "Epoch 1/150\n",
            "390/390 [==============================] - 4s 9ms/step - loss: 17058109440.0000 - mae: 95162.5391 - mse: 17058109440.0000 - val_loss: 4729602560.0000 - val_mae: 49529.7188 - val_mse: 4729602560.0000\n",
            "Epoch 2/150\n",
            "390/390 [==============================] - 3s 8ms/step - loss: 4258263552.0000 - mae: 46686.5586 - mse: 4258263552.0000 - val_loss: 3820925440.0000 - val_mae: 44749.6953 - val_mse: 3820925440.0000\n",
            "Epoch 3/150\n",
            "390/390 [==============================] - 3s 8ms/step - loss: 3783534336.0000 - mae: 44308.0938 - mse: 3783534336.0000 - val_loss: 3599489280.0000 - val_mae: 44060.1836 - val_mse: 3599489280.0000\n",
            "Epoch 4/150\n",
            "390/390 [==============================] - 3s 8ms/step - loss: 3628985856.0000 - mae: 43266.1328 - mse: 3628985856.0000 - val_loss: 3488358912.0000 - val_mae: 42639.6445 - val_mse: 3488358912.0000\n",
            "Epoch 5/150\n",
            "390/390 [==============================] - 3s 8ms/step - loss: 3547198976.0000 - mae: 42739.5781 - mse: 3547198976.0000 - val_loss: 3422228992.0000 - val_mae: 42526.6641 - val_mse: 3422228992.0000\n",
            "Epoch 6/150\n",
            "390/390 [==============================] - 3s 9ms/step - loss: 3492500480.0000 - mae: 42229.3906 - mse: 3492500480.0000 - val_loss: 3384405504.0000 - val_mae: 42799.3164 - val_mse: 3384405504.0000\n",
            "Epoch 7/150\n",
            "390/390 [==============================] - 3s 8ms/step - loss: 3458770944.0000 - mae: 42045.3672 - mse: 3458770944.0000 - val_loss: 3325492480.0000 - val_mae: 41462.9609 - val_mse: 3325492480.0000\n",
            "Epoch 8/150\n",
            "390/390 [==============================] - 3s 8ms/step - loss: 3424872704.0000 - mae: 41751.8828 - mse: 3424872704.0000 - val_loss: 3295274496.0000 - val_mae: 41113.5430 - val_mse: 3295274496.0000\n",
            "Epoch 9/150\n",
            "390/390 [==============================] - 4s 10ms/step - loss: 3402645248.0000 - mae: 41561.5664 - mse: 3402645248.0000 - val_loss: 3271323136.0000 - val_mae: 40928.0625 - val_mse: 3271323136.0000\n",
            "Epoch 10/150\n",
            "390/390 [==============================] - 3s 8ms/step - loss: 3376829696.0000 - mae: 41372.9453 - mse: 3376829696.0000 - val_loss: 3291221248.0000 - val_mae: 42067.1406 - val_mse: 3291221248.0000\n",
            "Epoch 11/150\n",
            "390/390 [==============================] - 3s 8ms/step - loss: 3355466496.0000 - mae: 41255.4336 - mse: 3355466496.0000 - val_loss: 3258202624.0000 - val_mae: 40697.6016 - val_mse: 3258202624.0000\n",
            "Epoch 12/150\n",
            "390/390 [==============================] - 3s 8ms/step - loss: 3342593536.0000 - mae: 41018.6758 - mse: 3342593536.0000 - val_loss: 3225116160.0000 - val_mae: 40451.8594 - val_mse: 3225116160.0000\n",
            "Epoch 13/150\n",
            "390/390 [==============================] - 3s 8ms/step - loss: 3325744128.0000 - mae: 40935.0508 - mse: 3325744128.0000 - val_loss: 3240098816.0000 - val_mae: 40568.6680 - val_mse: 3240098816.0000\n",
            "Epoch 14/150\n",
            "390/390 [==============================] - 3s 8ms/step - loss: 3325689088.0000 - mae: 41006.1758 - mse: 3325689088.0000 - val_loss: 3186867456.0000 - val_mae: 40545.1562 - val_mse: 3186867456.0000\n",
            "Epoch 15/150\n",
            "390/390 [==============================] - 3s 8ms/step - loss: 3304513536.0000 - mae: 40753.2031 - mse: 3304513536.0000 - val_loss: 3191651072.0000 - val_mae: 40386.6836 - val_mse: 3191651072.0000\n",
            "Epoch 16/150\n",
            "390/390 [==============================] - 3s 8ms/step - loss: 3295549184.0000 - mae: 40670.0352 - mse: 3295549184.0000 - val_loss: 3177509632.0000 - val_mae: 40768.3047 - val_mse: 3177509632.0000\n",
            "Epoch 17/150\n",
            "390/390 [==============================] - 3s 8ms/step - loss: 3294913280.0000 - mae: 40662.5820 - mse: 3294913280.0000 - val_loss: 3180612096.0000 - val_mae: 40070.0664 - val_mse: 3180612096.0000\n",
            "Epoch 18/150\n",
            "390/390 [==============================] - 3s 8ms/step - loss: 3278770176.0000 - mae: 40530.8125 - mse: 3278770176.0000 - val_loss: 3220005376.0000 - val_mae: 40117.5859 - val_mse: 3220005376.0000\n",
            "Epoch 19/150\n",
            "390/390 [==============================] - 3s 8ms/step - loss: 3292652544.0000 - mae: 40579.8711 - mse: 3292652544.0000 - val_loss: 3160137472.0000 - val_mae: 40089.1562 - val_mse: 3160137472.0000\n",
            "Epoch 20/150\n",
            "390/390 [==============================] - 4s 11ms/step - loss: 3277107968.0000 - mae: 40498.8438 - mse: 3277107968.0000 - val_loss: 3179799552.0000 - val_mae: 39847.5312 - val_mse: 3179799552.0000\n",
            "Epoch 21/150\n",
            "390/390 [==============================] - 3s 8ms/step - loss: 3262984704.0000 - mae: 40387.4688 - mse: 3262984704.0000 - val_loss: 3166529280.0000 - val_mae: 40062.2617 - val_mse: 3166529280.0000\n",
            "Epoch 22/150\n",
            "390/390 [==============================] - 4s 10ms/step - loss: 3268871680.0000 - mae: 40361.9805 - mse: 3268871680.0000 - val_loss: 3163471104.0000 - val_mae: 41063.3438 - val_mse: 3163471104.0000\n",
            "Epoch 23/150\n",
            "390/390 [==============================] - 3s 8ms/step - loss: 3261677056.0000 - mae: 40380.9258 - mse: 3261677056.0000 - val_loss: 3140709120.0000 - val_mae: 40162.2656 - val_mse: 3140709120.0000\n",
            "Epoch 24/150\n",
            "390/390 [==============================] - 3s 8ms/step - loss: 3246924288.0000 - mae: 40266.9531 - mse: 3246924288.0000 - val_loss: 3146311424.0000 - val_mae: 40511.4062 - val_mse: 3146311424.0000\n",
            "Epoch 25/150\n",
            "390/390 [==============================] - 3s 8ms/step - loss: 3245276672.0000 - mae: 40276.4844 - mse: 3245276672.0000 - val_loss: 3176426752.0000 - val_mae: 40474.6875 - val_mse: 3176426752.0000\n",
            "Epoch 26/150\n",
            "390/390 [==============================] - 3s 8ms/step - loss: 3256056320.0000 - mae: 40202.9531 - mse: 3256056320.0000 - val_loss: 3127880704.0000 - val_mae: 40151.0586 - val_mse: 3127880704.0000\n",
            "Epoch 27/150\n",
            "390/390 [==============================] - 3s 8ms/step - loss: 3241196544.0000 - mae: 40133.9688 - mse: 3241196544.0000 - val_loss: 3103134464.0000 - val_mae: 39506.4297 - val_mse: 3103134464.0000\n",
            "Epoch 28/150\n",
            "390/390 [==============================] - 3s 8ms/step - loss: 3229821440.0000 - mae: 40016.9844 - mse: 3229821440.0000 - val_loss: 3161580800.0000 - val_mae: 41148.6719 - val_mse: 3161580800.0000\n",
            "Epoch 29/150\n",
            "390/390 [==============================] - 3s 8ms/step - loss: 3222776576.0000 - mae: 40000.3320 - mse: 3222776576.0000 - val_loss: 3095077888.0000 - val_mae: 39906.8438 - val_mse: 3095077888.0000\n",
            "Epoch 30/150\n",
            "390/390 [==============================] - 3s 8ms/step - loss: 3193497344.0000 - mae: 39810.4102 - mse: 3193497344.0000 - val_loss: 3090871552.0000 - val_mae: 39907.5898 - val_mse: 3090871552.0000\n",
            "Epoch 31/150\n",
            "390/390 [==============================] - 3s 8ms/step - loss: 3186308096.0000 - mae: 39813.5469 - mse: 3186308096.0000 - val_loss: 3074107392.0000 - val_mae: 39940.7227 - val_mse: 3074107392.0000\n",
            "Epoch 32/150\n",
            "390/390 [==============================] - 3s 8ms/step - loss: 3169925632.0000 - mae: 39558.7266 - mse: 3169925632.0000 - val_loss: 3085158912.0000 - val_mae: 40080.5234 - val_mse: 3085158912.0000\n",
            "Epoch 33/150\n",
            "390/390 [==============================] - 3s 8ms/step - loss: 3157423872.0000 - mae: 39632.9414 - mse: 3157423872.0000 - val_loss: 3054506240.0000 - val_mae: 39335.3438 - val_mse: 3054506240.0000\n",
            "Epoch 34/150\n",
            "390/390 [==============================] - 3s 8ms/step - loss: 3147589632.0000 - mae: 39413.9648 - mse: 3147589632.0000 - val_loss: 3017603584.0000 - val_mae: 39084.0781 - val_mse: 3017603584.0000\n",
            "Epoch 35/150\n",
            "390/390 [==============================] - 3s 8ms/step - loss: 3132503040.0000 - mae: 39372.2891 - mse: 3132503040.0000 - val_loss: 3030220544.0000 - val_mae: 39152.2461 - val_mse: 3030220544.0000\n",
            "Epoch 36/150\n",
            "390/390 [==============================] - 3s 8ms/step - loss: 3119107072.0000 - mae: 39120.0273 - mse: 3119107072.0000 - val_loss: 3060720640.0000 - val_mae: 40397.8125 - val_mse: 3060720640.0000\n",
            "Epoch 37/150\n",
            "390/390 [==============================] - 3s 9ms/step - loss: 3107028992.0000 - mae: 39136.5000 - mse: 3107028992.0000 - val_loss: 3020160768.0000 - val_mae: 39681.7188 - val_mse: 3020160768.0000\n",
            "Epoch 38/150\n",
            "390/390 [==============================] - 4s 10ms/step - loss: 3085924864.0000 - mae: 38995.7031 - mse: 3085924864.0000 - val_loss: 2991323904.0000 - val_mae: 38975.9141 - val_mse: 2991323904.0000\n",
            "Epoch 39/150\n",
            "390/390 [==============================] - 3s 8ms/step - loss: 3070858496.0000 - mae: 38880.7891 - mse: 3070858496.0000 - val_loss: 2959198464.0000 - val_mae: 38580.3711 - val_mse: 2959198464.0000\n",
            "Epoch 40/150\n",
            "390/390 [==============================] - 3s 8ms/step - loss: 3053751552.0000 - mae: 38817.0391 - mse: 3053751552.0000 - val_loss: 2967255808.0000 - val_mae: 38752.2148 - val_mse: 2967255808.0000\n",
            "Epoch 41/150\n",
            "390/390 [==============================] - 3s 8ms/step - loss: 3035511040.0000 - mae: 38758.7188 - mse: 3035511040.0000 - val_loss: 2970235648.0000 - val_mae: 38769.8906 - val_mse: 2970235648.0000\n",
            "Epoch 42/150\n",
            "390/390 [==============================] - 3s 8ms/step - loss: 3038234368.0000 - mae: 38618.8438 - mse: 3038234368.0000 - val_loss: 2938372352.0000 - val_mae: 38713.3672 - val_mse: 2938372352.0000\n",
            "Epoch 43/150\n",
            "390/390 [==============================] - 3s 8ms/step - loss: 3006200064.0000 - mae: 38518.6641 - mse: 3006200064.0000 - val_loss: 2940270592.0000 - val_mae: 38994.1211 - val_mse: 2940270592.0000\n",
            "Epoch 44/150\n",
            "390/390 [==============================] - 3s 8ms/step - loss: 2999526912.0000 - mae: 38429.9141 - mse: 2999526912.0000 - val_loss: 3017747968.0000 - val_mae: 39747.1875 - val_mse: 3017747968.0000\n",
            "Epoch 45/150\n",
            "390/390 [==============================] - 3s 8ms/step - loss: 2984069888.0000 - mae: 38341.1094 - mse: 2984069888.0000 - val_loss: 2965455104.0000 - val_mae: 39138.2578 - val_mse: 2965455104.0000\n",
            "Epoch 46/150\n",
            "390/390 [==============================] - 3s 8ms/step - loss: 2967478272.0000 - mae: 38182.1602 - mse: 2967478272.0000 - val_loss: 2894728704.0000 - val_mae: 38134.6797 - val_mse: 2894728704.0000\n",
            "Epoch 47/150\n",
            "390/390 [==============================] - 3s 8ms/step - loss: 2947527168.0000 - mae: 38099.3516 - mse: 2947527168.0000 - val_loss: 2930328064.0000 - val_mae: 37844.1172 - val_mse: 2930328064.0000\n",
            "Epoch 48/150\n",
            "390/390 [==============================] - 3s 8ms/step - loss: 2935039232.0000 - mae: 38011.7188 - mse: 2935039232.0000 - val_loss: 2894636032.0000 - val_mae: 37921.0586 - val_mse: 2894636032.0000\n",
            "Epoch 49/150\n",
            "390/390 [==============================] - 3s 8ms/step - loss: 2928592384.0000 - mae: 37908.6641 - mse: 2928592384.0000 - val_loss: 2881695488.0000 - val_mae: 37430.5195 - val_mse: 2881695488.0000\n",
            "Epoch 50/150\n",
            "390/390 [==============================] - 3s 8ms/step - loss: 2912425472.0000 - mae: 37763.1016 - mse: 2912425472.0000 - val_loss: 2884831744.0000 - val_mae: 38543.4570 - val_mse: 2884831744.0000\n",
            "Epoch 51/150\n",
            "390/390 [==============================] - 3s 8ms/step - loss: 2889470976.0000 - mae: 37663.8828 - mse: 2889470976.0000 - val_loss: 2847301376.0000 - val_mae: 37825.8633 - val_mse: 2847301376.0000\n",
            "Epoch 52/150\n",
            "390/390 [==============================] - 3s 8ms/step - loss: 2881713408.0000 - mae: 37539.8438 - mse: 2881713408.0000 - val_loss: 2847105536.0000 - val_mae: 37475.4219 - val_mse: 2847105536.0000\n",
            "Epoch 53/150\n",
            "390/390 [==============================] - 3s 8ms/step - loss: 2858532864.0000 - mae: 37418.5195 - mse: 2858532864.0000 - val_loss: 2841833728.0000 - val_mae: 37794.6836 - val_mse: 2841833728.0000\n",
            "Epoch 54/150\n",
            "390/390 [==============================] - 3s 8ms/step - loss: 2839121152.0000 - mae: 37393.0391 - mse: 2839121152.0000 - val_loss: 2822483712.0000 - val_mae: 37398.5781 - val_mse: 2822483712.0000\n",
            "Epoch 55/150\n",
            "390/390 [==============================] - 3s 8ms/step - loss: 2825451520.0000 - mae: 37200.0977 - mse: 2825451520.0000 - val_loss: 2852826368.0000 - val_mae: 37104.7188 - val_mse: 2852826368.0000\n",
            "Epoch 56/150\n",
            "390/390 [==============================] - 3s 8ms/step - loss: 2816513792.0000 - mae: 37091.0391 - mse: 2816513792.0000 - val_loss: 2865073664.0000 - val_mae: 38475.0469 - val_mse: 2865073664.0000\n",
            "Epoch 57/150\n",
            "390/390 [==============================] - 3s 8ms/step - loss: 2798227456.0000 - mae: 36955.2852 - mse: 2798227456.0000 - val_loss: 2845741312.0000 - val_mae: 38110.8711 - val_mse: 2845741312.0000\n",
            "Epoch 58/150\n",
            "390/390 [==============================] - 3s 8ms/step - loss: 2780369408.0000 - mae: 36921.0547 - mse: 2780369408.0000 - val_loss: 2792763136.0000 - val_mae: 37372.2695 - val_mse: 2792763136.0000\n",
            "Epoch 59/150\n",
            "390/390 [==============================] - 3s 8ms/step - loss: 2756823040.0000 - mae: 36738.4688 - mse: 2756823040.0000 - val_loss: 2768790784.0000 - val_mae: 37068.1172 - val_mse: 2768790784.0000\n",
            "Epoch 60/150\n",
            "390/390 [==============================] - 3s 8ms/step - loss: 2756058368.0000 - mae: 36687.7578 - mse: 2756058368.0000 - val_loss: 2763604992.0000 - val_mae: 36771.4609 - val_mse: 2763604992.0000\n",
            "Epoch 61/150\n",
            "390/390 [==============================] - 3s 8ms/step - loss: 2741843200.0000 - mae: 36540.5938 - mse: 2741843200.0000 - val_loss: 2776137472.0000 - val_mae: 36812.1758 - val_mse: 2776137472.0000\n",
            "Epoch 62/150\n",
            "390/390 [==============================] - 4s 10ms/step - loss: 2718615040.0000 - mae: 36477.8867 - mse: 2718615040.0000 - val_loss: 2730193408.0000 - val_mae: 36782.8438 - val_mse: 2730193408.0000\n",
            "Epoch 63/150\n",
            "390/390 [==============================] - 3s 8ms/step - loss: 2718748672.0000 - mae: 36420.6328 - mse: 2718748672.0000 - val_loss: 2868170752.0000 - val_mae: 36907.0664 - val_mse: 2868170752.0000\n",
            "Epoch 64/150\n",
            "390/390 [==============================] - 3s 8ms/step - loss: 2695490048.0000 - mae: 36350.4766 - mse: 2695490048.0000 - val_loss: 2720604416.0000 - val_mae: 36729.9961 - val_mse: 2720604416.0000\n",
            "Epoch 65/150\n",
            "390/390 [==============================] - 3s 8ms/step - loss: 2675626496.0000 - mae: 36205.6133 - mse: 2675626496.0000 - val_loss: 2767853056.0000 - val_mae: 37318.6719 - val_mse: 2767853056.0000\n",
            "Epoch 66/150\n",
            "390/390 [==============================] - 4s 10ms/step - loss: 2646495744.0000 - mae: 35980.6797 - mse: 2646495744.0000 - val_loss: 2701140992.0000 - val_mae: 36677.7930 - val_mse: 2701140992.0000\n",
            "Epoch 67/150\n",
            "390/390 [==============================] - 3s 8ms/step - loss: 2635942144.0000 - mae: 35949.0586 - mse: 2635942144.0000 - val_loss: 2714752256.0000 - val_mae: 36745.4141 - val_mse: 2714752256.0000\n",
            "Epoch 68/150\n",
            "390/390 [==============================] - 3s 8ms/step - loss: 2629252096.0000 - mae: 35802.3438 - mse: 2629252096.0000 - val_loss: 2697931520.0000 - val_mae: 36964.2266 - val_mse: 2697931520.0000\n",
            "Epoch 69/150\n",
            "390/390 [==============================] - 3s 8ms/step - loss: 2614727168.0000 - mae: 35698.7461 - mse: 2614727168.0000 - val_loss: 2798210304.0000 - val_mae: 38333.7344 - val_mse: 2798210304.0000\n",
            "Epoch 70/150\n",
            "390/390 [==============================] - 3s 8ms/step - loss: 2599752448.0000 - mae: 35680.9336 - mse: 2599752448.0000 - val_loss: 2708254976.0000 - val_mae: 35743.4844 - val_mse: 2708254976.0000\n",
            "Epoch 71/150\n",
            "390/390 [==============================] - 3s 8ms/step - loss: 2583482624.0000 - mae: 35562.7227 - mse: 2583482624.0000 - val_loss: 2659147776.0000 - val_mae: 35827.0469 - val_mse: 2659147776.0000\n",
            "Epoch 72/150\n",
            "390/390 [==============================] - 3s 8ms/step - loss: 2564993536.0000 - mae: 35457.5312 - mse: 2564993536.0000 - val_loss: 2738569216.0000 - val_mae: 38089.0273 - val_mse: 2738569216.0000\n",
            "Epoch 73/150\n",
            "390/390 [==============================] - 3s 8ms/step - loss: 2561799680.0000 - mae: 35440.3438 - mse: 2561799680.0000 - val_loss: 2618040832.0000 - val_mae: 35763.1094 - val_mse: 2618040832.0000\n",
            "Epoch 74/150\n",
            "390/390 [==============================] - 3s 8ms/step - loss: 2547951616.0000 - mae: 35380.8359 - mse: 2547951616.0000 - val_loss: 2686289664.0000 - val_mae: 35481.7344 - val_mse: 2686289664.0000\n",
            "Epoch 75/150\n",
            "390/390 [==============================] - 3s 8ms/step - loss: 2538950912.0000 - mae: 35182.2969 - mse: 2538950912.0000 - val_loss: 2638421248.0000 - val_mae: 35664.2070 - val_mse: 2638421248.0000\n",
            "Epoch 76/150\n",
            "390/390 [==============================] - 3s 8ms/step - loss: 2494826240.0000 - mae: 34808.2227 - mse: 2494826240.0000 - val_loss: 2604172544.0000 - val_mae: 36151.8789 - val_mse: 2604172544.0000\n",
            "Epoch 77/150\n",
            "390/390 [==============================] - 3s 8ms/step - loss: 2487858688.0000 - mae: 34811.3125 - mse: 2487858688.0000 - val_loss: 2684189696.0000 - val_mae: 35782.8789 - val_mse: 2684189696.0000\n",
            "Epoch 78/150\n",
            "390/390 [==============================] - 3s 8ms/step - loss: 2487338496.0000 - mae: 34815.6445 - mse: 2487338496.0000 - val_loss: 2563041024.0000 - val_mae: 35607.2148 - val_mse: 2563041024.0000\n",
            "Epoch 79/150\n",
            "390/390 [==============================] - 3s 8ms/step - loss: 2467898880.0000 - mae: 34625.1289 - mse: 2467898880.0000 - val_loss: 2570299904.0000 - val_mae: 35587.4492 - val_mse: 2570299904.0000\n",
            "Epoch 80/150\n",
            "390/390 [==============================] - 3s 8ms/step - loss: 2450087424.0000 - mae: 34455.3516 - mse: 2450087424.0000 - val_loss: 2551763456.0000 - val_mae: 35411.9727 - val_mse: 2551763456.0000\n",
            "Epoch 81/150\n",
            "390/390 [==============================] - 3s 8ms/step - loss: 2431958016.0000 - mae: 34303.6758 - mse: 2431958016.0000 - val_loss: 2547341824.0000 - val_mae: 35517.4766 - val_mse: 2547341824.0000\n",
            "Epoch 82/150\n",
            "390/390 [==============================] - 3s 8ms/step - loss: 2420936704.0000 - mae: 34222.2500 - mse: 2420936704.0000 - val_loss: 2642351872.0000 - val_mae: 35534.2031 - val_mse: 2642351872.0000\n",
            "Epoch 83/150\n",
            "390/390 [==============================] - 3s 8ms/step - loss: 2410079232.0000 - mae: 34177.5703 - mse: 2410079232.0000 - val_loss: 2550622208.0000 - val_mae: 35075.4805 - val_mse: 2550622208.0000\n",
            "Epoch 84/150\n",
            "390/390 [==============================] - 3s 8ms/step - loss: 2400067328.0000 - mae: 34181.3438 - mse: 2400067328.0000 - val_loss: 2513977856.0000 - val_mae: 34760.9492 - val_mse: 2513977856.0000\n",
            "Epoch 85/150\n",
            "390/390 [==============================] - 3s 8ms/step - loss: 2370982656.0000 - mae: 33948.3555 - mse: 2370982656.0000 - val_loss: 2600038912.0000 - val_mae: 36126.3906 - val_mse: 2600038912.0000\n",
            "Epoch 86/150\n",
            "390/390 [==============================] - 3s 8ms/step - loss: 2383576320.0000 - mae: 33991.3164 - mse: 2383576320.0000 - val_loss: 2511740416.0000 - val_mae: 34796.9922 - val_mse: 2511740416.0000\n",
            "Epoch 87/150\n",
            "390/390 [==============================] - 3s 8ms/step - loss: 2354711296.0000 - mae: 33740.2422 - mse: 2354711296.0000 - val_loss: 2545958912.0000 - val_mae: 34907.2891 - val_mse: 2545958912.0000\n",
            "Epoch 88/150\n",
            "390/390 [==============================] - 3s 8ms/step - loss: 2344974592.0000 - mae: 33693.8711 - mse: 2344974592.0000 - val_loss: 2507040512.0000 - val_mae: 34569.6523 - val_mse: 2507040512.0000\n",
            "Epoch 89/150\n",
            "390/390 [==============================] - 3s 8ms/step - loss: 2343918592.0000 - mae: 33653.6172 - mse: 2343918592.0000 - val_loss: 2517015552.0000 - val_mae: 34454.1016 - val_mse: 2517015552.0000\n",
            "Epoch 90/150\n",
            "390/390 [==============================] - 3s 8ms/step - loss: 2334720000.0000 - mae: 33580.1992 - mse: 2334720000.0000 - val_loss: 2485102336.0000 - val_mae: 34642.5938 - val_mse: 2485102336.0000\n",
            "Epoch 91/150\n",
            "390/390 [==============================] - 3s 8ms/step - loss: 2331126016.0000 - mae: 33583.5156 - mse: 2331126016.0000 - val_loss: 2474955776.0000 - val_mae: 34738.0000 - val_mse: 2474955776.0000\n",
            "Epoch 92/150\n",
            "390/390 [==============================] - 3s 8ms/step - loss: 2315306496.0000 - mae: 33450.4141 - mse: 2315306496.0000 - val_loss: 2542592768.0000 - val_mae: 34561.0625 - val_mse: 2542592768.0000\n",
            "Epoch 93/150\n",
            "390/390 [==============================] - 3s 8ms/step - loss: 2312768256.0000 - mae: 33485.1953 - mse: 2312768256.0000 - val_loss: 2513900800.0000 - val_mae: 34733.5547 - val_mse: 2513900800.0000\n",
            "Epoch 94/150\n",
            "390/390 [==============================] - 3s 8ms/step - loss: 2296531712.0000 - mae: 33338.9492 - mse: 2296531712.0000 - val_loss: 2476140288.0000 - val_mae: 34591.3008 - val_mse: 2476140288.0000\n",
            "Epoch 95/150\n",
            "390/390 [==============================] - 4s 10ms/step - loss: 2284119040.0000 - mae: 33333.1094 - mse: 2284119040.0000 - val_loss: 2481403904.0000 - val_mae: 34750.2383 - val_mse: 2481403904.0000\n",
            "Epoch 96/150\n",
            "390/390 [==============================] - 3s 9ms/step - loss: 2283945984.0000 - mae: 33269.2305 - mse: 2283945984.0000 - val_loss: 2527761152.0000 - val_mae: 34968.9414 - val_mse: 2527761152.0000\n",
            "Epoch 97/150\n",
            "390/390 [==============================] - 3s 8ms/step - loss: 2269968384.0000 - mae: 33092.2188 - mse: 2269968384.0000 - val_loss: 2435587072.0000 - val_mae: 34659.5312 - val_mse: 2435587072.0000\n",
            "Epoch 98/150\n",
            "390/390 [==============================] - 3s 8ms/step - loss: 2257169664.0000 - mae: 33034.0117 - mse: 2257169664.0000 - val_loss: 2458564864.0000 - val_mae: 34233.4805 - val_mse: 2458564864.0000\n",
            "Epoch 99/150\n",
            "390/390 [==============================] - 3s 8ms/step - loss: 2252102656.0000 - mae: 32953.8828 - mse: 2252102656.0000 - val_loss: 2462147072.0000 - val_mae: 34764.0000 - val_mse: 2462147072.0000\n",
            "Epoch 100/150\n",
            "390/390 [==============================] - 3s 8ms/step - loss: 2236912896.0000 - mae: 32821.0234 - mse: 2236912896.0000 - val_loss: 2497336832.0000 - val_mae: 34381.8398 - val_mse: 2497336832.0000\n",
            "Epoch 101/150\n",
            "390/390 [==============================] - 4s 10ms/step - loss: 2249162496.0000 - mae: 33136.1250 - mse: 2249162496.0000 - val_loss: 2483844608.0000 - val_mae: 34201.6367 - val_mse: 2483844608.0000\n",
            "Epoch 102/150\n",
            "390/390 [==============================] - 3s 8ms/step - loss: 2246387200.0000 - mae: 32936.0156 - mse: 2246387200.0000 - val_loss: 2565318400.0000 - val_mae: 34406.1367 - val_mse: 2565318400.0000\n",
            "Epoch 103/150\n",
            "390/390 [==============================] - 3s 8ms/step - loss: 2221281280.0000 - mae: 32648.0176 - mse: 2221281280.0000 - val_loss: 2485588992.0000 - val_mae: 35128.8867 - val_mse: 2485588992.0000\n",
            "Epoch 104/150\n",
            "390/390 [==============================] - 3s 8ms/step - loss: 2218045696.0000 - mae: 32825.5898 - mse: 2218045696.0000 - val_loss: 2428070144.0000 - val_mae: 34187.5547 - val_mse: 2428070144.0000\n",
            "Epoch 105/150\n",
            "390/390 [==============================] - 3s 8ms/step - loss: 2217970688.0000 - mae: 32651.2520 - mse: 2217970688.0000 - val_loss: 2428427008.0000 - val_mae: 33912.5430 - val_mse: 2428427008.0000\n",
            "Epoch 106/150\n",
            "390/390 [==============================] - 3s 8ms/step - loss: 2197761024.0000 - mae: 32519.9727 - mse: 2197761024.0000 - val_loss: 2415088640.0000 - val_mae: 34809.9453 - val_mse: 2415088640.0000\n",
            "Epoch 107/150\n",
            "390/390 [==============================] - 3s 8ms/step - loss: 2197754624.0000 - mae: 32586.1875 - mse: 2197754624.0000 - val_loss: 2567095552.0000 - val_mae: 35998.1641 - val_mse: 2567095552.0000\n",
            "Epoch 108/150\n",
            "390/390 [==============================] - 3s 8ms/step - loss: 2194797312.0000 - mae: 32497.0449 - mse: 2194797312.0000 - val_loss: 2492863488.0000 - val_mae: 34332.4180 - val_mse: 2492863488.0000\n",
            "Epoch 109/150\n",
            "390/390 [==============================] - 3s 8ms/step - loss: 2192400384.0000 - mae: 32567.0039 - mse: 2192400384.0000 - val_loss: 2431899392.0000 - val_mae: 34201.6680 - val_mse: 2431899392.0000\n",
            "Epoch 110/150\n",
            "390/390 [==============================] - 3s 8ms/step - loss: 2165867776.0000 - mae: 32184.0176 - mse: 2165867776.0000 - val_loss: 2454141952.0000 - val_mae: 33878.3516 - val_mse: 2454141952.0000\n",
            "Epoch 111/150\n",
            "390/390 [==============================] - 3s 8ms/step - loss: 2188582656.0000 - mae: 32507.4453 - mse: 2188582656.0000 - val_loss: 2371301888.0000 - val_mae: 33620.4648 - val_mse: 2371301888.0000\n",
            "Epoch 112/150\n",
            "390/390 [==============================] - 3s 8ms/step - loss: 2180312832.0000 - mae: 32356.8008 - mse: 2180312832.0000 - val_loss: 2516033536.0000 - val_mae: 34937.6836 - val_mse: 2516033536.0000\n",
            "Epoch 113/150\n",
            "390/390 [==============================] - 3s 8ms/step - loss: 2175578624.0000 - mae: 32251.2324 - mse: 2175578624.0000 - val_loss: 2382519552.0000 - val_mae: 33446.1406 - val_mse: 2382519552.0000\n",
            "Epoch 114/150\n",
            "390/390 [==============================] - 3s 8ms/step - loss: 2165720064.0000 - mae: 32309.8926 - mse: 2165720064.0000 - val_loss: 2504866816.0000 - val_mae: 35917.5312 - val_mse: 2504866816.0000\n",
            "Epoch 115/150\n",
            "390/390 [==============================] - 3s 8ms/step - loss: 2146082048.0000 - mae: 32086.1230 - mse: 2146082048.0000 - val_loss: 2384429824.0000 - val_mae: 33943.8242 - val_mse: 2384429824.0000\n",
            "Epoch 116/150\n",
            "390/390 [==============================] - 3s 8ms/step - loss: 2145775872.0000 - mae: 32167.6719 - mse: 2145775872.0000 - val_loss: 2395216384.0000 - val_mae: 33609.4648 - val_mse: 2395216384.0000\n",
            "Epoch 117/150\n",
            "390/390 [==============================] - 3s 8ms/step - loss: 2145309056.0000 - mae: 32179.3086 - mse: 2145309056.0000 - val_loss: 2377308672.0000 - val_mae: 34118.1094 - val_mse: 2377308672.0000\n",
            "Epoch 118/150\n",
            "390/390 [==============================] - 3s 8ms/step - loss: 2133312512.0000 - mae: 32044.3906 - mse: 2133312512.0000 - val_loss: 2429181440.0000 - val_mae: 33677.8203 - val_mse: 2429181440.0000\n",
            "Epoch 119/150\n",
            "390/390 [==============================] - 3s 8ms/step - loss: 2126884864.0000 - mae: 31994.4316 - mse: 2126884864.0000 - val_loss: 2400345344.0000 - val_mae: 33961.3516 - val_mse: 2400345344.0000\n",
            "Epoch 120/150\n",
            "390/390 [==============================] - 3s 8ms/step - loss: 2131049472.0000 - mae: 31933.5176 - mse: 2131049472.0000 - val_loss: 2351169792.0000 - val_mae: 33605.9141 - val_mse: 2351169792.0000\n",
            "Epoch 121/150\n",
            "390/390 [==============================] - 3s 8ms/step - loss: 2112112256.0000 - mae: 31978.6035 - mse: 2112112256.0000 - val_loss: 2427272192.0000 - val_mae: 33861.3750 - val_mse: 2427272192.0000\n",
            "Epoch 122/150\n",
            "390/390 [==============================] - 3s 8ms/step - loss: 2122060672.0000 - mae: 31842.5723 - mse: 2122060672.0000 - val_loss: 2424543744.0000 - val_mae: 34319.1484 - val_mse: 2424543744.0000\n",
            "Epoch 123/150\n",
            "390/390 [==============================] - 3s 8ms/step - loss: 2110309120.0000 - mae: 31862.8320 - mse: 2110309120.0000 - val_loss: 2400193792.0000 - val_mae: 33855.4766 - val_mse: 2400193792.0000\n",
            "Epoch 124/150\n",
            "390/390 [==============================] - 4s 10ms/step - loss: 2104842112.0000 - mae: 31824.8906 - mse: 2104842112.0000 - val_loss: 2403932928.0000 - val_mae: 33882.5430 - val_mse: 2403932928.0000\n",
            "Epoch 125/150\n",
            "390/390 [==============================] - 3s 8ms/step - loss: 2109228672.0000 - mae: 31845.7383 - mse: 2109228672.0000 - val_loss: 2417767168.0000 - val_mae: 34900.8867 - val_mse: 2417767168.0000\n",
            "Epoch 126/150\n",
            "390/390 [==============================] - 3s 8ms/step - loss: 2113072000.0000 - mae: 31823.1016 - mse: 2113072000.0000 - val_loss: 2434564352.0000 - val_mae: 34896.7891 - val_mse: 2434564352.0000\n",
            "Epoch 127/150\n",
            "390/390 [==============================] - 3s 8ms/step - loss: 2087684736.0000 - mae: 31581.9668 - mse: 2087684736.0000 - val_loss: 2483779072.0000 - val_mae: 35043.1992 - val_mse: 2483779072.0000\n",
            "Epoch 128/150\n",
            "390/390 [==============================] - 3s 9ms/step - loss: 2082688000.0000 - mae: 31703.7031 - mse: 2082688000.0000 - val_loss: 2382223360.0000 - val_mae: 33324.3398 - val_mse: 2382223360.0000\n",
            "Epoch 129/150\n",
            "390/390 [==============================] - 3s 8ms/step - loss: 2096033536.0000 - mae: 31741.7617 - mse: 2096033536.0000 - val_loss: 2371848192.0000 - val_mae: 33345.2500 - val_mse: 2371848192.0000\n",
            "Epoch 130/150\n",
            "390/390 [==============================] - 3s 8ms/step - loss: 2084732800.0000 - mae: 31635.2188 - mse: 2084732800.0000 - val_loss: 2423455744.0000 - val_mae: 33987.0391 - val_mse: 2423455744.0000\n",
            "Epoch 131/150\n",
            "390/390 [==============================] - 3s 8ms/step - loss: 2074500224.0000 - mae: 31477.0371 - mse: 2074500224.0000 - val_loss: 2348561664.0000 - val_mae: 33647.3086 - val_mse: 2348561664.0000\n",
            "Epoch 132/150\n",
            "390/390 [==============================] - 3s 8ms/step - loss: 2073076096.0000 - mae: 31470.0000 - mse: 2073076096.0000 - val_loss: 2354693120.0000 - val_mae: 33039.4023 - val_mse: 2354693120.0000\n",
            "Epoch 133/150\n",
            "390/390 [==============================] - 3s 8ms/step - loss: 2063315072.0000 - mae: 31588.7344 - mse: 2063315072.0000 - val_loss: 2390664960.0000 - val_mae: 34375.1758 - val_mse: 2390664960.0000\n",
            "Epoch 134/150\n",
            "390/390 [==============================] - 3s 8ms/step - loss: 2056815872.0000 - mae: 31463.9922 - mse: 2056815872.0000 - val_loss: 2512396544.0000 - val_mae: 34647.2891 - val_mse: 2512396544.0000\n",
            "Epoch 135/150\n",
            "390/390 [==============================] - 3s 8ms/step - loss: 2069332096.0000 - mae: 31533.8594 - mse: 2069332096.0000 - val_loss: 2349498880.0000 - val_mae: 33367.6445 - val_mse: 2349498880.0000\n",
            "Epoch 136/150\n",
            "390/390 [==============================] - 3s 8ms/step - loss: 2055524608.0000 - mae: 31418.2695 - mse: 2055524608.0000 - val_loss: 2352904192.0000 - val_mae: 33059.7227 - val_mse: 2352904192.0000\n",
            "Epoch 137/150\n",
            "390/390 [==============================] - 3s 9ms/step - loss: 2037792512.0000 - mae: 31268.9219 - mse: 2037792512.0000 - val_loss: 2329911552.0000 - val_mae: 33031.3242 - val_mse: 2329911552.0000\n",
            "Epoch 138/150\n",
            "390/390 [==============================] - 3s 8ms/step - loss: 2054141824.0000 - mae: 31424.9473 - mse: 2054141824.0000 - val_loss: 2408868608.0000 - val_mae: 34409.1172 - val_mse: 2408868608.0000\n",
            "Epoch 139/150\n",
            "390/390 [==============================] - 3s 8ms/step - loss: 2031528832.0000 - mae: 31225.3301 - mse: 2031528832.0000 - val_loss: 2414202624.0000 - val_mae: 33441.8789 - val_mse: 2414202624.0000\n",
            "Epoch 140/150\n",
            "390/390 [==============================] - 4s 11ms/step - loss: 2031215488.0000 - mae: 31209.8477 - mse: 2031215488.0000 - val_loss: 2375537408.0000 - val_mae: 33528.1328 - val_mse: 2375537408.0000\n",
            "Epoch 141/150\n",
            "390/390 [==============================] - 3s 8ms/step - loss: 2032387328.0000 - mae: 31181.7051 - mse: 2032387328.0000 - val_loss: 2367453696.0000 - val_mae: 33203.7422 - val_mse: 2367453696.0000\n",
            "Epoch 142/150\n",
            "390/390 [==============================] - 3s 8ms/step - loss: 2038475008.0000 - mae: 31385.7559 - mse: 2038475008.0000 - val_loss: 2342781696.0000 - val_mae: 33157.1797 - val_mse: 2342781696.0000\n",
            "Epoch 143/150\n",
            "390/390 [==============================] - 3s 8ms/step - loss: 2029721216.0000 - mae: 31157.4668 - mse: 2029721216.0000 - val_loss: 2382339328.0000 - val_mae: 33734.4062 - val_mse: 2382339328.0000\n",
            "Epoch 144/150\n",
            "390/390 [==============================] - 3s 8ms/step - loss: 2022854016.0000 - mae: 31242.3535 - mse: 2022854016.0000 - val_loss: 2414800128.0000 - val_mae: 35122.8867 - val_mse: 2414800128.0000\n",
            "Epoch 145/150\n",
            "390/390 [==============================] - 3s 8ms/step - loss: 2027833600.0000 - mae: 31163.0723 - mse: 2027833600.0000 - val_loss: 2341505280.0000 - val_mae: 33165.1562 - val_mse: 2341505280.0000\n",
            "Epoch 146/150\n",
            "390/390 [==============================] - 3s 8ms/step - loss: 2036872960.0000 - mae: 31246.4922 - mse: 2036872960.0000 - val_loss: 2343906560.0000 - val_mae: 33478.9258 - val_mse: 2343906560.0000\n",
            "Epoch 147/150\n",
            "390/390 [==============================] - 3s 9ms/step - loss: 2012108544.0000 - mae: 31086.4297 - mse: 2012108544.0000 - val_loss: 2371730176.0000 - val_mae: 33739.1367 - val_mse: 2371730176.0000\n",
            "Epoch 148/150\n",
            "390/390 [==============================] - 3s 8ms/step - loss: 2024770304.0000 - mae: 31231.4062 - mse: 2024770304.0000 - val_loss: 2475661056.0000 - val_mae: 34462.3672 - val_mse: 2475661056.0000\n",
            "Epoch 149/150\n",
            "390/390 [==============================] - 3s 9ms/step - loss: 2030400000.0000 - mae: 31219.9980 - mse: 2030400000.0000 - val_loss: 2483897600.0000 - val_mae: 33436.1250 - val_mse: 2483897600.0000\n",
            "Epoch 150/150\n",
            "390/390 [==============================] - 4s 9ms/step - loss: 2001136256.0000 - mae: 30951.0684 - mse: 2001136256.0000 - val_loss: 2358155008.0000 - val_mae: 33506.3086 - val_mse: 2358155008.0000\n"
          ]
        }
      ]
    },
    {
      "cell_type": "code",
      "source": [
        "def plot_hist(history):\n",
        "    hist = pd.DataFrame(history.history)\n",
        "    hist['epoch'] = history.epoch\n",
        "    hist['rmse'] = np.sqrt(hist['mse'])\n",
        "    hist['val_rmse'] = np.sqrt(hist['val_mse'])\n",
        "\n",
        "    fig = go.Figure()\n",
        "    fig.add_trace(go.Scatter(x=hist['epoch'], y=hist['mae'], name='mae', mode='markers+lines'))\n",
        "    fig.add_trace(go.Scatter(x=hist['epoch'], y=hist['val_mae'], name='val_mae', mode='markers+lines'))\n",
        "    fig.update_layout(width=1000, height=500, title='MAE vs. VAL_MAE', xaxis_title='Epoki', yaxis_title='Mean Absolute Error', yaxis_type='log')\n",
        "    fig.show()\n",
        "\n",
        "    fig = go.Figure()\n",
        "    fig.add_trace(go.Scatter(x=hist['epoch'], y=hist['rmse'], name='rmse', mode='markers+lines'))\n",
        "    fig.add_trace(go.Scatter(x=hist['epoch'], y=hist['val_rmse'], name='val_rmse', mode='markers+lines'))\n",
        "    fig.update_layout(width=1000, height=500, title='RMSE vs. VAL_RMSE', xaxis_title='Epoki', yaxis_title='Root Mean Squared Error', yaxis_type='log')\n",
        "    fig.show()\n",
        "\n",
        "plot_hist(history)"
      ],
      "metadata": {
        "id": "HkL0KtWMvfVf"
      },
      "execution_count": null,
      "outputs": []
    },
    {
      "cell_type": "code",
      "source": [
        "for name, value in zip(model.metrics_names, model.evaluate(normed_test_data, test_labels.values)):\n",
        "    print(f'{name:8}{value:.4f}')"
      ],
      "metadata": {
        "id": "n8_loeeKvuNG"
      },
      "execution_count": null,
      "outputs": []
    },
    {
      "cell_type": "code",
      "source": [
        "test_predictions = model.predict(normed_test_data).flatten()\n",
        "test_predictions"
      ],
      "metadata": {
        "id": "jZz4BHjDvwpm"
      },
      "execution_count": null,
      "outputs": []
    },
    {
      "cell_type": "code",
      "source": [
        "pred = pd.DataFrame(test_labels)\n",
        "pred['predictions'] = test_predictions\n",
        "pred.head()"
      ],
      "metadata": {
        "id": "EF-MW5U3vzNg"
      },
      "execution_count": null,
      "outputs": []
    },
    {
      "cell_type": "code",
      "source": [
        "fig = px.scatter(pred, 'median_house_value', 'predictions')\n",
        "fig.add_trace(go.Scatter(x=[0, 500000], y=[0, 500000], mode='lines'))\n",
        "fig.show()"
      ],
      "metadata": {
        "id": "hSze0OzRv28m"
      },
      "execution_count": null,
      "outputs": []
    },
    {
      "cell_type": "code",
      "source": [
        "pred['error'] = pred['median_house_value'] - pred['predictions']\n",
        "pred.head()"
      ],
      "metadata": {
        "id": "nVyOYMm7v-g2"
      },
      "execution_count": null,
      "outputs": []
    },
    {
      "cell_type": "code",
      "source": [
        "px.histogram(pred, 'error', marginal='rug', width=1000)"
      ],
      "metadata": {
        "id": "4mATKDUVwCQH"
      },
      "execution_count": null,
      "outputs": []
    }
  ]
}
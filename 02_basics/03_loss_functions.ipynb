{
  "nbformat": 4,
  "nbformat_minor": 0,
  "metadata": {
    "colab": {
      "name": "03_loss_functions.ipynb",
      "provenance": [],
      "authorship_tag": "ABX9TyND0R8ngvUnAcs229bP8Y4n",
      "include_colab_link": true
    },
    "kernelspec": {
      "name": "python3",
      "display_name": "Python 3"
    },
    "language_info": {
      "name": "python"
    }
  },
  "cells": [
    {
      "cell_type": "markdown",
      "metadata": {
        "id": "view-in-github",
        "colab_type": "text"
      },
      "source": [
        "<a href=\"https://colab.research.google.com/github/PremGorecki/NeuralNetwork/blob/main/02_basics/03_loss_functions.ipynb\" target=\"_parent\"><img src=\"https://colab.research.google.com/assets/colab-badge.svg\" alt=\"Open In Colab\"/></a>"
      ]
    },
    {
      "cell_type": "code",
      "execution_count": null,
      "metadata": {
        "id": "8IjHFLAgy_BJ"
      },
      "outputs": [],
      "source": [
        "# Przygotowanie środowiska do pracy z Tensorflow 2.0.\n",
        "# Jeśli otrzymasz błąd podczas instalacji Tensorflow uruchom tę komórkę raz jeszcze.\n",
        "\n",
        "!pip uninstall -y tensorflow\n",
        "!pip install -q tensorflow==2.0.0"
      ]
    },
    {
      "cell_type": "code",
      "source": [
        "import tensorflow as tf\n",
        "tf.__version__"
      ],
      "metadata": {
        "id": "m_uHqex80XtQ"
      },
      "execution_count": null,
      "outputs": []
    },
    {
      "cell_type": "code",
      "source": [
        "import numpy as np\n",
        "np.set_printoptions(precision=6, suppress=True)\n",
        "\n",
        "def entropy(labels, base=None):\n",
        "    from math import log, e\n",
        "    n_labels = len(labels)\n",
        "    \n",
        "    if n_labels <= 1:\n",
        "        return 0\n",
        "    \n",
        "    value, counts = np.unique(labels, return_counts=True)\n",
        "    probs = counts / n_labels\n",
        "    n_classes = np.count_nonzero(probs)\n",
        "    \n",
        "    if n_classes <= 1:\n",
        "        return 0\n",
        "    \n",
        "    ent = 0.\n",
        "    \n",
        "    base = e if base is None else base\n",
        "    for i in probs:\n",
        "        ent -= i * log(i, base)\n",
        "    return ent\n",
        "\n",
        "\n",
        "labels = [1,3,5,2,3,5,3,2,1,3,4,5]\n",
        "entropy(labels)"
      ],
      "metadata": {
        "id": "MWjt_Pj00atr",
        "outputId": "1f4a7f83-81e9-478c-e754-d41d0c4d0ab4",
        "colab": {
          "base_uri": "https://localhost:8080/"
        }
      },
      "execution_count": 4,
      "outputs": [
        {
          "output_type": "execute_result",
          "data": {
            "text/plain": [
              "1.5171063970610277"
            ]
          },
          "metadata": {},
          "execution_count": 4
        }
      ]
    },
    {
      "cell_type": "code",
      "source": [
        "labels = [3, 3, 3, 3, 3, 3, 3]\n",
        "entropy(labels)"
      ],
      "metadata": {
        "id": "QQcTY-he0kuh"
      },
      "execution_count": null,
      "outputs": []
    },
    {
      "cell_type": "markdown",
      "source": [
        "2. Binarna entropia krzyżowa - Binary Crossentropy"
      ],
      "metadata": {
        "id": "G9b4gyYU1CvD"
      }
    },
    {
      "cell_type": "code",
      "source": [
        "from tensorflow.keras.losses import binary_crossentropy\n",
        "\n",
        "y_true = np.array([1, 0, 1, 1, 0, 1], dtype='float')\n",
        "y_pred = np.array([0, 0, 1, 1, 0, 1], dtype='float')\n",
        "\n",
        "binary_crossentropy(y_true, y_pred)"
      ],
      "metadata": {
        "id": "CDK9G6-t1Agz"
      },
      "execution_count": null,
      "outputs": []
    },
    {
      "cell_type": "markdown",
      "source": [
        "3. Kategoryczna entropia krzyżowa - Categorical Crossentropy"
      ],
      "metadata": {
        "id": "i7n2n-aU1gxV"
      }
    },
    {
      "cell_type": "code",
      "source": [
        "from tensorflow.keras.losses import categorical_crossentropy\n",
        "\n",
        "y_true = np.array([1, 0, 1, 1, 2, 0, 1, 1, 2], dtype='float')\n",
        "y_pred = np.array([0, 0, 1, 1, 2, 0, 1, 2, 2], dtype='float')\n",
        "\n",
        "categorical_crossentropy(y_true, y_pred)"
      ],
      "metadata": {
        "id": "ZDfDDM2_1i87"
      },
      "execution_count": null,
      "outputs": []
    }
  ]
}
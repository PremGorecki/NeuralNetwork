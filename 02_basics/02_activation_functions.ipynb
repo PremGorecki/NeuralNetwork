{
  "nbformat": 4,
  "nbformat_minor": 0,
  "metadata": {
    "colab": {
      "name": "02_activation_functions.ipynb",
      "provenance": [],
      "authorship_tag": "ABX9TyMLLpRcTRuNPpZbWzWxLp2T",
      "include_colab_link": true
    },
    "kernelspec": {
      "name": "python3",
      "display_name": "Python 3"
    },
    "language_info": {
      "name": "python"
    }
  },
  "cells": [
    {
      "cell_type": "markdown",
      "metadata": {
        "id": "view-in-github",
        "colab_type": "text"
      },
      "source": [
        "<a href=\"https://colab.research.google.com/github/PremGorecki/NeuralNetwork/blob/main/02_basics/02_activation_functions.ipynb\" target=\"_parent\"><img src=\"https://colab.research.google.com/assets/colab-badge.svg\" alt=\"Open In Colab\"/></a>"
      ]
    },
    {
      "cell_type": "code",
      "execution_count": null,
      "metadata": {
        "id": "0_kD4AUAs_xq"
      },
      "outputs": [],
      "source": [
        "import numpy as np\n",
        "import pandas as pd\n",
        "import matplotlib.pyplot as plt\n",
        "import plotly.graph_objects as go\n",
        "import plotly.express as px\n",
        "import math\n",
        "\n",
        "np.set_printoptions(precision=6)"
      ]
    },
    {
      "cell_type": "markdown",
      "source": [
        "ReLU"
      ],
      "metadata": {
        "id": "Wan11kXDBVAq"
      }
    },
    {
      "cell_type": "code",
      "source": [
        "def max_relu(x):\n",
        "    return max(x, 0.0)"
      ],
      "metadata": {
        "id": "G97OQCqtBHA2"
      },
      "execution_count": null,
      "outputs": []
    },
    {
      "cell_type": "code",
      "source": [
        "for i in [-10., -5., 0., 5., 10.]:\n",
        "    print(max_relu(i))"
      ],
      "metadata": {
        "id": "3q2fBZIYBIy0"
      },
      "execution_count": null,
      "outputs": []
    },
    {
      "cell_type": "code",
      "source": [
        "data = np.random.randn(50)\n",
        "data = sorted(data)\n",
        "data"
      ],
      "metadata": {
        "id": "Trd1ynKQBLbG"
      },
      "execution_count": null,
      "outputs": []
    },
    {
      "cell_type": "code",
      "source": [
        "# wygenerowanie danych do wykresu\n",
        "max_relu_data = np.array([max_relu(x) for x in data])\n",
        "max_relu_data"
      ],
      "metadata": {
        "id": "tTZRMDK0BN-h"
      },
      "execution_count": null,
      "outputs": []
    },
    {
      "cell_type": "code",
      "source": [
        "df = pd.DataFrame({'data': data, 'max_relu_data': max_relu_data})\n",
        "df.head()"
      ],
      "metadata": {
        "id": "n8qQZfNdBQG5"
      },
      "execution_count": null,
      "outputs": []
    },
    {
      "cell_type": "code",
      "source": [
        "px.line(df, x='data', y='max_relu_data', width=700, height=400, title='ReLU Function')"
      ],
      "metadata": {
        "id": "w9CB5Jj1BSu-"
      },
      "execution_count": null,
      "outputs": []
    },
    {
      "cell_type": "markdown",
      "source": [
        "Funkcja Sigmoid"
      ],
      "metadata": {
        "id": "QGs2J3ZlBcY_"
      }
    },
    {
      "cell_type": "code",
      "source": [
        "def sigmoid(x):\n",
        "    return 1 / (1 + np.exp(-x))"
      ],
      "metadata": {
        "id": "M1WTgAbvBc_M"
      },
      "execution_count": 30,
      "outputs": []
    },
    {
      "cell_type": "code",
      "source": [
        "for i in [-5., -3., -1., 0., 1., 3., 5.]:\n",
        "    print(sigmoid(i))"
      ],
      "metadata": {
        "id": "ZO6Pupc6BgDP"
      },
      "execution_count": null,
      "outputs": []
    },
    {
      "cell_type": "code",
      "source": [
        "data = 3 * np.random.randn(50)\n",
        "data = sorted(data)\n",
        "data"
      ],
      "metadata": {
        "id": "nncUtOShBh1E"
      },
      "execution_count": null,
      "outputs": []
    },
    {
      "cell_type": "code",
      "source": [
        "sigmoid_data = [sigmoid(x) for x in sorted(data)]\n",
        "sigmoid_data"
      ],
      "metadata": {
        "id": "RNBEp0MWBkFP"
      },
      "execution_count": null,
      "outputs": []
    },
    {
      "cell_type": "code",
      "source": [
        "df = pd.DataFrame({'data': data, 'sigmoid_data': sigmoid_data})\n",
        "df.head()"
      ],
      "metadata": {
        "id": "S7AcdqG5BwIM"
      },
      "execution_count": null,
      "outputs": []
    },
    {
      "cell_type": "code",
      "source": [
        "px.line(df, x='data', y='sigmoid_data', width=700, height=400, title='Sigmoid Function')"
      ],
      "metadata": {
        "id": "EFlpmHcZBmZQ"
      },
      "execution_count": null,
      "outputs": []
    },
    {
      "cell_type": "markdown",
      "source": [
        "Tanh Function"
      ],
      "metadata": {
        "id": "D5o-7SQHB0w1"
      }
    },
    {
      "cell_type": "code",
      "source": [
        "def tanh(x):\n",
        "    return (np.exp(x) - np.exp(-x)) / (np.exp(x) + np.exp(-x))"
      ],
      "metadata": {
        "id": "5BTVTWKNB1C2"
      },
      "execution_count": 37,
      "outputs": []
    },
    {
      "cell_type": "code",
      "source": [
        "data = 2 * np.random.randn(100)\n",
        "data = sorted(data)\n",
        "data"
      ],
      "metadata": {
        "id": "B3Sbkc93B3Qu"
      },
      "execution_count": null,
      "outputs": []
    },
    {
      "cell_type": "code",
      "source": [
        "tanh_data = [tanh(x) for x in sorted(data)]\n",
        "tanh_data"
      ],
      "metadata": {
        "id": "BUK5fiGgB60x"
      },
      "execution_count": null,
      "outputs": []
    },
    {
      "cell_type": "code",
      "source": [
        "df = pd.DataFrame({'data': data, 'tanh_data': tanh_data})\n",
        "df.head()"
      ],
      "metadata": {
        "id": "APtCjeIEB9Fx"
      },
      "execution_count": null,
      "outputs": []
    },
    {
      "cell_type": "code",
      "source": [
        "px.line(df, x='data', y='tanh_data', width=700, height=400, title='Tanh Function')"
      ],
      "metadata": {
        "id": "OmUTl1O-B_sK"
      },
      "execution_count": null,
      "outputs": []
    },
    {
      "cell_type": "markdown",
      "source": [
        "Softmax Function"
      ],
      "metadata": {
        "id": "twI3bVR_CEGe"
      }
    },
    {
      "cell_type": "code",
      "source": [
        "def softmax(x):\n",
        "    e_x = np.exp(x)\n",
        "    denominator = np.sum(e_x, axis=1)\n",
        "    denominator = denominator[:, np.newaxis]\n",
        "    return e_x / denominator"
      ],
      "metadata": {
        "id": "iUI_eaUaCEjl"
      },
      "execution_count": 42,
      "outputs": []
    },
    {
      "cell_type": "code",
      "source": [
        "data = np.random.randn(4, 5)\n",
        "data"
      ],
      "metadata": {
        "id": "zBwgWhzICHSN"
      },
      "execution_count": null,
      "outputs": []
    },
    {
      "cell_type": "code",
      "source": [
        "result = softmax(data)\n",
        "result"
      ],
      "metadata": {
        "id": "Twb6Z2PSCJVh"
      },
      "execution_count": null,
      "outputs": []
    },
    {
      "cell_type": "code",
      "source": [
        "result.sum(axis=1)"
      ],
      "metadata": {
        "colab": {
          "base_uri": "https://localhost:8080/"
        },
        "id": "eN877PG6CLga",
        "outputId": "7cccd0a6-b89d-4dae-bd78-a5caacd2a579"
      },
      "execution_count": 45,
      "outputs": [
        {
          "output_type": "execute_result",
          "data": {
            "text/plain": [
              "array([1., 1., 1., 1.])"
            ]
          },
          "metadata": {},
          "execution_count": 45
        }
      ]
    }
  ]
}
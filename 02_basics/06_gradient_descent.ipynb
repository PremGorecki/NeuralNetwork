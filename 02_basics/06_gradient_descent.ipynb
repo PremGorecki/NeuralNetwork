{
  "nbformat": 4,
  "nbformat_minor": 0,
  "metadata": {
    "colab": {
      "provenance": [],
      "authorship_tag": "ABX9TyOihB2RusnwABJBZaMR4rRw",
      "include_colab_link": true
    },
    "kernelspec": {
      "name": "python3",
      "display_name": "Python 3"
    },
    "language_info": {
      "name": "python"
    }
  },
  "cells": [
    {
      "cell_type": "markdown",
      "metadata": {
        "id": "view-in-github",
        "colab_type": "text"
      },
      "source": [
        "<a href=\"https://colab.research.google.com/github/PremGorecki/NeuralNetwork/blob/main/02_basics/06_gradient_descent.ipynb\" target=\"_parent\"><img src=\"https://colab.research.google.com/assets/colab-badge.svg\" alt=\"Open In Colab\"/></a>"
      ]
    },
    {
      "cell_type": "markdown",
      "source": [
        "Przygotowanie środowiska"
      ],
      "metadata": {
        "id": "ZH340uAI4kfA"
      }
    },
    {
      "cell_type": "code",
      "execution_count": null,
      "metadata": {
        "id": "9-FlmN3Z4g8v"
      },
      "outputs": [],
      "source": [
        "# Przygotowanie środowiska do pracy z Tensorflow 2.0.\n",
        "# Jeśli otrzymasz błąd podczas instalacji Tensorflow uruchom tę komórkę raz jeszcze.\n",
        "\n",
        "!pip uninstall -y tensorflow\n",
        "!pip install -q tensorflow==2.0.0"
      ]
    },
    {
      "cell_type": "code",
      "source": [
        "import tensorflow as tf\n",
        "import numpy as np\n",
        "import pandas as pd\n",
        "import plotly.graph_objects as go\n",
        "tf.__version__"
      ],
      "metadata": {
        "id": "n0bAkY_-5NJG",
        "outputId": "cc553e68-84a5-42fe-fa96-e5973ef6bdb6",
        "colab": {
          "base_uri": "https://localhost:8080/",
          "height": 35
        }
      },
      "execution_count": null,
      "outputs": [
        {
          "output_type": "execute_result",
          "data": {
            "text/plain": [
              "'2.0.0'"
            ],
            "application/vnd.google.colaboratory.intrinsic+json": {
              "type": "string"
            }
          },
          "metadata": {},
          "execution_count": 3
        }
      ]
    },
    {
      "cell_type": "code",
      "source": [
        "function = lambda w: w ** 2 - 4 * w #nasza funkcja straty\n",
        "derivative = lambda w: 2 * w - 4  #nasza pochodna\n",
        "\n",
        "\n",
        "w = np.arange(-10, 14, 0.1)  # dane wejściowe\n",
        "loss = function(w)   # funkcja straty\n",
        "w_0 = -8  # punkt startowy\n",
        "\n",
        "tangent_line = lambda w: derivative(w_0) * (w - w_0) + function(w_0) # styczna do wykresu funkcji w punkcie w_0\n",
        "tangent_line_values = tangent_line(w)"
      ],
      "metadata": {
        "id": "3Tfy76dd5P0g"
      },
      "execution_count": null,
      "outputs": []
    },
    {
      "cell_type": "code",
      "source": [
        "df = pd.DataFrame({'w': w, 'loss': loss,'tangent_line': tangent_line_values})\n",
        "df.head()"
      ],
      "metadata": {
        "id": "1HihD8yZ6A74"
      },
      "execution_count": null,
      "outputs": []
    },
    {
      "cell_type": "code",
      "source": [
        "fig = go.Figure(data=[go.Scatter(x=df['w'], y=df['loss'], name='function'),\n",
        "                      go.Scatter(x=df['w'][:100], y=df['tangent_line'][:100], name='tangent line'),\n",
        "                      go.Scatter(x=[w_0], y=[function(w_0)], marker_size=10, name='point')],\n",
        "                layout=go.Layout(width=800, title='Loss Function'))\n",
        "fig.show()"
      ],
      "metadata": {
        "id": "7uvc6THO6GYB"
      },
      "execution_count": null,
      "outputs": []
    },
    {
      "cell_type": "code",
      "source": [
        "#algorytm stochastycznego gradientu\n",
        "max_iters = 10000 \n",
        "iters = 0\n",
        "w_0 = -1\n",
        "previous_step_size = 1\n",
        "learning_rate = 0.01\n",
        "precision = 0.000001\n",
        "derivative = lambda w: 2 * w - 4\n",
        "points = []\n",
        "\n",
        "while previous_step_size > precision and iters < max_iters:\n",
        "    w_prev = w_0\n",
        "    w_0 = w_0 - learning_rate * derivative(w_prev)\n",
        "    previous_step_size = abs(w_0 - w_prev)\n",
        "    iters += 1\n",
        "    points.append(w_0)\n",
        "    print(f'Iteracja # {iters}: obecny punkt: {w_0}')\n",
        "\n",
        "print(f'Minimum lokalne w punkcie: {w_0}')"
      ],
      "metadata": {
        "id": "T_NwhJxl6dZn"
      },
      "execution_count": null,
      "outputs": []
    },
    {
      "cell_type": "code",
      "source": [
        "#Robimy sobie taką funkcję\n",
        "def gradient_descent(derivative_func, learning_rate=0.01, max_iters=10000,\n",
        "                     precision=0.000001, w_0=-8, verbose=True):\n",
        "    iters = 0\n",
        "    previous_step_size = 1\n",
        "    points = []\n",
        "\n",
        "    while previous_step_size > precision and iters < max_iters:\n",
        "        w_prev = w_0\n",
        "        w_0 = w_0 - learning_rate * derivative_func(w_prev)\n",
        "        previous_step_size = abs(w_0 - w_prev)\n",
        "        iters += 1\n",
        "        points.append(w_0)\n",
        "        if verbose:\n",
        "            print(f'Iteracja # {iters}: obecny punkt: {w_0}')\n",
        "\n",
        "    \n",
        "    print(f'Minimum lokalne w punkcie: {w_0}')\n",
        "    return points\n",
        "\n",
        "points = gradient_descent(derivative)"
      ],
      "metadata": {
        "id": "AcLlWD1w7kSL"
      },
      "execution_count": null,
      "outputs": []
    },
    {
      "cell_type": "code",
      "source": [
        "points = pd.DataFrame({'point': points})\n",
        "# points = points.reset_index()\n",
        "points['value'] = function(points['point'])\n",
        "points.head()"
      ],
      "metadata": {
        "id": "NryaNe718Ci9"
      },
      "execution_count": null,
      "outputs": []
    },
    {
      "cell_type": "code",
      "source": [
        "fig = go.Figure(data=[go.Scatter(x=df['w'], y=df['loss'], name='function'),\n",
        "                      go.Scatter(x=points['point'], y=points['value'], marker_size=5, name='point', mode='markers')],\n",
        "                layout=go.Layout(width=1000, title='Loss Function'))\n",
        "fig.show()"
      ],
      "metadata": {
        "id": "eFi-pbue8Fpw"
      },
      "execution_count": null,
      "outputs": []
    },
    {
      "cell_type": "code",
      "source": [
        "#Funkcja która testuje learing rate\n",
        "def test_lr(func, derivative_func, learning_rate, w_0=-8):\n",
        "    points = gradient_descent(derivative_func, learning_rate=learning_rate, w_0=w_0, verbose=False)\n",
        "    points = pd.DataFrame({'point': points})\n",
        "    points = points.reset_index()\n",
        "    points['value'] = func(points['point'])\n",
        "\n",
        "    fig = go.Figure(data=[go.Scatter(x=df['w'], y=df['loss'], name='function'),\n",
        "                      go.Scatter(x=points['point'], y=points['value'], marker_size=5, name='point', mode='markers+lines')],\n",
        "                layout=go.Layout(width=1000, title=f'Loss Function learning_rate:{learning_rate}'))\n",
        "    fig.show()\n",
        "\n",
        "test_lr(function, derivative, 0.01)"
      ],
      "metadata": {
        "id": "UquIAZrY8fQp"
      },
      "execution_count": null,
      "outputs": []
    },
    {
      "cell_type": "code",
      "source": [
        "test_lr(function, derivative, 0.1)"
      ],
      "metadata": {
        "id": "lADgF7BU8yVH"
      },
      "execution_count": null,
      "outputs": []
    },
    {
      "cell_type": "code",
      "source": [
        "test_lr(function, derivative, 0.055)"
      ],
      "metadata": {
        "id": "9JnSvoG89F0W"
      },
      "execution_count": null,
      "outputs": []
    },
    {
      "cell_type": "code",
      "source": [
        "test_lr(function, derivative, 0.001)"
      ],
      "metadata": {
        "id": "TAMUtBm_9GM6"
      },
      "execution_count": null,
      "outputs": []
    },
    {
      "cell_type": "code",
      "source": [
        "#Przykład z inną funkcją\n",
        "function_2 = lambda w: (w + 8) * (w - 5) * (w - 10) * (w + 5) * (w + 5) * (w - 2)\n",
        "\n",
        "#bibliotek symap liczy pochodną z funkcji\n",
        "from sympy import Symbol, lambdify\n",
        "\n",
        "w = Symbol('w')\n",
        "f = (w + 8) * (w - 5) * (w - 10) * (w + 5) * (w + 5) * (w - 2)\n",
        "f_diff = f.diff(w)\n",
        "derivative_2 = lambdify(w, f_diff)\n",
        "del w"
      ],
      "metadata": {
        "id": "TAEnefG39NBB"
      },
      "execution_count": null,
      "outputs": []
    },
    {
      "cell_type": "code",
      "source": [
        "w = np.arange(-9, 10, 0.1)\n",
        "loss = function_2(w)\n",
        "w_0 = -4\n",
        "\n",
        "tangent_line = lambda w: derivative_2(w_0) * (w - w_0) + function_2(w_0)\n",
        "tangent_line_values = tangent_line(w)\n",
        "\n",
        "df = pd.DataFrame({'w': w, 'loss': loss,'tangent_line': tangent_line_values})\n",
        "df.head()\n",
        "\n",
        "fig = go.Figure(data=[go.Scatter(x=df['w'], y=df['loss'], name='function_2'),\n",
        "                      go.Scatter(x=df['w'][20:80], y=df['tangent_line'][20:80], name='tangent line'),\n",
        "                      go.Scatter(x=[w_0], y=[function_2(w_0)], marker_size=10, name='point')],\n",
        "                layout=go.Layout(width=800, title='Loss Function'))\n",
        "fig.show()"
      ],
      "metadata": {
        "id": "SE-ANXqE9oej"
      },
      "execution_count": null,
      "outputs": []
    },
    {
      "cell_type": "code",
      "source": [
        "#To się wywali\n",
        "gradient_descent(derivative_2, learning_rate=0.01, w_0=-4)"
      ],
      "metadata": {
        "id": "dkieChBz-mYf"
      },
      "execution_count": null,
      "outputs": []
    },
    {
      "cell_type": "code",
      "source": [
        "#To wejdzie w minimum lokalne\n",
        "gradient_descent(derivative_2, learning_rate=0.0001, w_0=-4)"
      ],
      "metadata": {
        "id": "it53Q0a--n9B"
      },
      "execution_count": null,
      "outputs": []
    },
    {
      "cell_type": "code",
      "source": [
        "test_lr(function_2, derivative_2, learning_rate=0.0001, w_0=-4)"
      ],
      "metadata": {
        "id": "qCak6fTk-uee"
      },
      "execution_count": null,
      "outputs": []
    },
    {
      "cell_type": "code",
      "source": [
        "#startujemy od 3ki ale też dojedziemy do tego samego minimum lokalnego\n",
        "gradient_descent(derivative_2, learning_rate=0.0001, w_0=3)"
      ],
      "metadata": {
        "id": "UhCH7Rv0-w8d"
      },
      "execution_count": null,
      "outputs": []
    },
    {
      "cell_type": "code",
      "source": [
        "test_lr(function_2, derivative_2, learning_rate=0.0001, w_0=3)"
      ],
      "metadata": {
        "id": "CQ2JoRsx_KZU"
      },
      "execution_count": null,
      "outputs": []
    },
    {
      "cell_type": "code",
      "source": [
        "#zaczynamy od 4-y\n",
        "gradient_descent(derivative_2, learning_rate=0.0001, w_0=4)"
      ],
      "metadata": {
        "id": "QGCRKTXU_NXX"
      },
      "execution_count": null,
      "outputs": []
    },
    {
      "cell_type": "code",
      "source": [
        "#tu jest za duży wskaźnik uczenia\n",
        "test_lr(function_2, derivative_2, learning_rate=0.0001, w_0=4)"
      ],
      "metadata": {
        "id": "Ol-mKROK_O6e"
      },
      "execution_count": null,
      "outputs": []
    },
    {
      "cell_type": "code",
      "source": [],
      "metadata": {
        "id": "S2BXXBgG_RiQ"
      },
      "execution_count": null,
      "outputs": []
    }
  ]
}